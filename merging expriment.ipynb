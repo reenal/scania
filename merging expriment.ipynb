{
 "cells": [
  {
   "cell_type": "code",
   "execution_count": 1,
   "id": "93d469b4",
   "metadata": {},
   "outputs": [],
   "source": [
    "import pandas as pd\n",
    "import matplotlib.pyplot as plt\n",
    "import seaborn as sns\n",
    "import numpy as np\n",
    "pd.set_option('display.max_rows', None)\n",
    "pd.set_option('display.max_columns', None)\n",
    "\n",
    "\n"
   ]
  },
  {
   "cell_type": "code",
   "execution_count": 2,
   "id": "b5caa657",
   "metadata": {},
   "outputs": [],
   "source": [
    "energy_consumption = pd.read_csv('2021-11-26-15-40 Chronograf Data.csv')\n",
    "humidityandtemperature  = pd.read_csv('2021-11-26-15-41 Chronograf Data-2.csv')\n",
    "water_consumption = pd.read_csv('2021-11-26-15-42 Chronograf Data-2.csv')\n",
    "co2_emissions = pd.read_csv('2021-11-26-15-42 Chronograf Data.csv')"
   ]
  },
  {
   "cell_type": "code",
   "execution_count": 3,
   "id": "04af286d",
   "metadata": {},
   "outputs": [
    {
     "data": {
      "text/html": [
       "<div>\n",
       "<style scoped>\n",
       "    .dataframe tbody tr th:only-of-type {\n",
       "        vertical-align: middle;\n",
       "    }\n",
       "\n",
       "    .dataframe tbody tr th {\n",
       "        vertical-align: top;\n",
       "    }\n",
       "\n",
       "    .dataframe thead th {\n",
       "        text-align: right;\n",
       "    }\n",
       "</style>\n",
       "<table border=\"1\" class=\"dataframe\">\n",
       "  <thead>\n",
       "    <tr style=\"text-align: right;\">\n",
       "      <th></th>\n",
       "      <th>time</th>\n",
       "      <th>MCF-LW12PLG.mean_active_power</th>\n",
       "    </tr>\n",
       "  </thead>\n",
       "  <tbody>\n",
       "    <tr>\n",
       "      <th>0</th>\n",
       "      <td>2021-11-19T15:16:00.000+01:00</td>\n",
       "      <td>21.500000</td>\n",
       "    </tr>\n",
       "    <tr>\n",
       "      <th>1</th>\n",
       "      <td>2021-11-19T15:44:00.000+01:00</td>\n",
       "      <td>21.000000</td>\n",
       "    </tr>\n",
       "    <tr>\n",
       "      <th>2</th>\n",
       "      <td>2021-11-19T16:12:00.000+01:00</td>\n",
       "      <td>21.500000</td>\n",
       "    </tr>\n",
       "    <tr>\n",
       "      <th>3</th>\n",
       "      <td>2021-11-19T16:40:00.000+01:00</td>\n",
       "      <td>198.200000</td>\n",
       "    </tr>\n",
       "    <tr>\n",
       "      <th>4</th>\n",
       "      <td>2021-11-19T17:08:00.000+01:00</td>\n",
       "      <td>21.454545</td>\n",
       "    </tr>\n",
       "  </tbody>\n",
       "</table>\n",
       "</div>"
      ],
      "text/plain": [
       "                            time  MCF-LW12PLG.mean_active_power\n",
       "0  2021-11-19T15:16:00.000+01:00                      21.500000\n",
       "1  2021-11-19T15:44:00.000+01:00                      21.000000\n",
       "2  2021-11-19T16:12:00.000+01:00                      21.500000\n",
       "3  2021-11-19T16:40:00.000+01:00                     198.200000\n",
       "4  2021-11-19T17:08:00.000+01:00                      21.454545"
      ]
     },
     "execution_count": 3,
     "metadata": {},
     "output_type": "execute_result"
    }
   ],
   "source": [
    "energy_consumption.head()"
   ]
  },
  {
   "cell_type": "code",
   "execution_count": 4,
   "id": "c0d1108f",
   "metadata": {},
   "outputs": [
    {
     "data": {
      "text/html": [
       "<div>\n",
       "<style scoped>\n",
       "    .dataframe tbody tr th:only-of-type {\n",
       "        vertical-align: middle;\n",
       "    }\n",
       "\n",
       "    .dataframe tbody tr th {\n",
       "        vertical-align: top;\n",
       "    }\n",
       "\n",
       "    .dataframe thead th {\n",
       "        text-align: right;\n",
       "    }\n",
       "</style>\n",
       "<table border=\"1\" class=\"dataframe\">\n",
       "  <thead>\n",
       "    <tr style=\"text-align: right;\">\n",
       "      <th></th>\n",
       "      <th>time</th>\n",
       "      <th>MCF-LW12CO2.mean_humidity</th>\n",
       "      <th>MCF-LW12CO2.mean_temperature</th>\n",
       "    </tr>\n",
       "  </thead>\n",
       "  <tbody>\n",
       "    <tr>\n",
       "      <th>0</th>\n",
       "      <td>2021-11-19T15:16:00.000+01:00</td>\n",
       "      <td>NaN</td>\n",
       "      <td>NaN</td>\n",
       "    </tr>\n",
       "    <tr>\n",
       "      <th>1</th>\n",
       "      <td>2021-11-19T15:44:00.000+01:00</td>\n",
       "      <td>40.0</td>\n",
       "      <td>22.40</td>\n",
       "    </tr>\n",
       "    <tr>\n",
       "      <th>2</th>\n",
       "      <td>2021-11-19T16:12:00.000+01:00</td>\n",
       "      <td>39.5</td>\n",
       "      <td>22.42</td>\n",
       "    </tr>\n",
       "    <tr>\n",
       "      <th>3</th>\n",
       "      <td>2021-11-19T16:40:00.000+01:00</td>\n",
       "      <td>39.0</td>\n",
       "      <td>22.42</td>\n",
       "    </tr>\n",
       "    <tr>\n",
       "      <th>4</th>\n",
       "      <td>2021-11-19T17:08:00.000+01:00</td>\n",
       "      <td>38.5</td>\n",
       "      <td>22.32</td>\n",
       "    </tr>\n",
       "  </tbody>\n",
       "</table>\n",
       "</div>"
      ],
      "text/plain": [
       "                            time  MCF-LW12CO2.mean_humidity  \\\n",
       "0  2021-11-19T15:16:00.000+01:00                        NaN   \n",
       "1  2021-11-19T15:44:00.000+01:00                       40.0   \n",
       "2  2021-11-19T16:12:00.000+01:00                       39.5   \n",
       "3  2021-11-19T16:40:00.000+01:00                       39.0   \n",
       "4  2021-11-19T17:08:00.000+01:00                       38.5   \n",
       "\n",
       "   MCF-LW12CO2.mean_temperature  \n",
       "0                           NaN  \n",
       "1                         22.40  \n",
       "2                         22.42  \n",
       "3                         22.42  \n",
       "4                         22.32  "
      ]
     },
     "execution_count": 4,
     "metadata": {},
     "output_type": "execute_result"
    }
   ],
   "source": [
    "humidityandtemperature.head()"
   ]
  },
  {
   "cell_type": "code",
   "execution_count": 5,
   "id": "16ca6a09",
   "metadata": {},
   "outputs": [
    {
     "data": {
      "text/html": [
       "<div>\n",
       "<style scoped>\n",
       "    .dataframe tbody tr th:only-of-type {\n",
       "        vertical-align: middle;\n",
       "    }\n",
       "\n",
       "    .dataframe tbody tr th {\n",
       "        vertical-align: top;\n",
       "    }\n",
       "\n",
       "    .dataframe thead th {\n",
       "        text-align: right;\n",
       "    }\n",
       "</style>\n",
       "<table border=\"1\" class=\"dataframe\">\n",
       "  <thead>\n",
       "    <tr style=\"text-align: right;\">\n",
       "      <th></th>\n",
       "      <th>time</th>\n",
       "      <th>Water_meter.mean_water_meter_reading</th>\n",
       "    </tr>\n",
       "  </thead>\n",
       "  <tbody>\n",
       "    <tr>\n",
       "      <th>0</th>\n",
       "      <td>2021-11-19T15:16:00.000+01:00</td>\n",
       "      <td>NaN</td>\n",
       "    </tr>\n",
       "    <tr>\n",
       "      <th>1</th>\n",
       "      <td>2021-11-19T15:44:00.000+01:00</td>\n",
       "      <td>0.0</td>\n",
       "    </tr>\n",
       "    <tr>\n",
       "      <th>2</th>\n",
       "      <td>2021-11-19T16:12:00.000+01:00</td>\n",
       "      <td>0.0</td>\n",
       "    </tr>\n",
       "    <tr>\n",
       "      <th>3</th>\n",
       "      <td>2021-11-19T16:40:00.000+01:00</td>\n",
       "      <td>0.0</td>\n",
       "    </tr>\n",
       "    <tr>\n",
       "      <th>4</th>\n",
       "      <td>2021-11-19T17:08:00.000+01:00</td>\n",
       "      <td>0.0</td>\n",
       "    </tr>\n",
       "  </tbody>\n",
       "</table>\n",
       "</div>"
      ],
      "text/plain": [
       "                            time  Water_meter.mean_water_meter_reading\n",
       "0  2021-11-19T15:16:00.000+01:00                                   NaN\n",
       "1  2021-11-19T15:44:00.000+01:00                                   0.0\n",
       "2  2021-11-19T16:12:00.000+01:00                                   0.0\n",
       "3  2021-11-19T16:40:00.000+01:00                                   0.0\n",
       "4  2021-11-19T17:08:00.000+01:00                                   0.0"
      ]
     },
     "execution_count": 5,
     "metadata": {},
     "output_type": "execute_result"
    }
   ],
   "source": [
    "water_consumption.head()"
   ]
  },
  {
   "cell_type": "code",
   "execution_count": 6,
   "id": "3abb55a9",
   "metadata": {},
   "outputs": [
    {
     "data": {
      "text/html": [
       "<div>\n",
       "<style scoped>\n",
       "    .dataframe tbody tr th:only-of-type {\n",
       "        vertical-align: middle;\n",
       "    }\n",
       "\n",
       "    .dataframe tbody tr th {\n",
       "        vertical-align: top;\n",
       "    }\n",
       "\n",
       "    .dataframe thead th {\n",
       "        text-align: right;\n",
       "    }\n",
       "</style>\n",
       "<table border=\"1\" class=\"dataframe\">\n",
       "  <thead>\n",
       "    <tr style=\"text-align: right;\">\n",
       "      <th></th>\n",
       "      <th>time</th>\n",
       "      <th>MCF-LW12CO2.mean_co2</th>\n",
       "    </tr>\n",
       "  </thead>\n",
       "  <tbody>\n",
       "    <tr>\n",
       "      <th>0</th>\n",
       "      <td>2021-11-19T15:16:00.000+01:00</td>\n",
       "      <td>NaN</td>\n",
       "    </tr>\n",
       "    <tr>\n",
       "      <th>1</th>\n",
       "      <td>2021-11-19T15:44:00.000+01:00</td>\n",
       "      <td>515.0</td>\n",
       "    </tr>\n",
       "    <tr>\n",
       "      <th>2</th>\n",
       "      <td>2021-11-19T16:12:00.000+01:00</td>\n",
       "      <td>515.0</td>\n",
       "    </tr>\n",
       "    <tr>\n",
       "      <th>3</th>\n",
       "      <td>2021-11-19T16:40:00.000+01:00</td>\n",
       "      <td>488.0</td>\n",
       "    </tr>\n",
       "    <tr>\n",
       "      <th>4</th>\n",
       "      <td>2021-11-19T17:08:00.000+01:00</td>\n",
       "      <td>460.0</td>\n",
       "    </tr>\n",
       "  </tbody>\n",
       "</table>\n",
       "</div>"
      ],
      "text/plain": [
       "                            time  MCF-LW12CO2.mean_co2\n",
       "0  2021-11-19T15:16:00.000+01:00                   NaN\n",
       "1  2021-11-19T15:44:00.000+01:00                 515.0\n",
       "2  2021-11-19T16:12:00.000+01:00                 515.0\n",
       "3  2021-11-19T16:40:00.000+01:00                 488.0\n",
       "4  2021-11-19T17:08:00.000+01:00                 460.0"
      ]
     },
     "execution_count": 6,
     "metadata": {},
     "output_type": "execute_result"
    }
   ],
   "source": [
    "co2_emissions.head()"
   ]
  },
  {
   "cell_type": "code",
   "execution_count": 7,
   "id": "94759e67",
   "metadata": {},
   "outputs": [
    {
     "name": "stdout",
     "output_type": "stream",
     "text": [
      "<class 'pandas.core.frame.DataFrame'>\n",
      "RangeIndex: 361 entries, 0 to 360\n",
      "Data columns (total 2 columns):\n",
      " #   Column                         Non-Null Count  Dtype  \n",
      "---  ------                         --------------  -----  \n",
      " 0   time                           361 non-null    object \n",
      " 1   MCF-LW12PLG.mean_active_power  361 non-null    float64\n",
      "dtypes: float64(1), object(1)\n",
      "memory usage: 5.8+ KB\n"
     ]
    }
   ],
   "source": [
    "energy_consumption.info()"
   ]
  },
  {
   "cell_type": "code",
   "execution_count": 8,
   "id": "c4c83503",
   "metadata": {},
   "outputs": [
    {
     "name": "stdout",
     "output_type": "stream",
     "text": [
      "<class 'pandas.core.frame.DataFrame'>\n",
      "RangeIndex: 361 entries, 0 to 360\n",
      "Data columns (total 3 columns):\n",
      " #   Column                        Non-Null Count  Dtype  \n",
      "---  ------                        --------------  -----  \n",
      " 0   time                          361 non-null    object \n",
      " 1   MCF-LW12CO2.mean_humidity     333 non-null    float64\n",
      " 2   MCF-LW12CO2.mean_temperature  333 non-null    float64\n",
      "dtypes: float64(2), object(1)\n",
      "memory usage: 8.6+ KB\n"
     ]
    }
   ],
   "source": [
    "humidityandtemperature.info()"
   ]
  },
  {
   "cell_type": "code",
   "execution_count": 9,
   "id": "4e2fc6f3",
   "metadata": {},
   "outputs": [
    {
     "name": "stdout",
     "output_type": "stream",
     "text": [
      "<class 'pandas.core.frame.DataFrame'>\n",
      "RangeIndex: 361 entries, 0 to 360\n",
      "Data columns (total 2 columns):\n",
      " #   Column                                Non-Null Count  Dtype  \n",
      "---  ------                                --------------  -----  \n",
      " 0   time                                  361 non-null    object \n",
      " 1   Water_meter.mean_water_meter_reading  336 non-null    float64\n",
      "dtypes: float64(1), object(1)\n",
      "memory usage: 5.8+ KB\n"
     ]
    }
   ],
   "source": [
    "water_consumption.info()"
   ]
  },
  {
   "cell_type": "code",
   "execution_count": 10,
   "id": "7044cee4",
   "metadata": {},
   "outputs": [
    {
     "name": "stdout",
     "output_type": "stream",
     "text": [
      "<class 'pandas.core.frame.DataFrame'>\n",
      "RangeIndex: 361 entries, 0 to 360\n",
      "Data columns (total 2 columns):\n",
      " #   Column                Non-Null Count  Dtype  \n",
      "---  ------                --------------  -----  \n",
      " 0   time                  361 non-null    object \n",
      " 1   MCF-LW12CO2.mean_co2  333 non-null    float64\n",
      "dtypes: float64(1), object(1)\n",
      "memory usage: 5.8+ KB\n"
     ]
    }
   ],
   "source": [
    "co2_emissions.info()"
   ]
  },
  {
   "cell_type": "code",
   "execution_count": 11,
   "id": "3b5df5fe",
   "metadata": {},
   "outputs": [],
   "source": [
    "energy_consumption['time'] = pd.to_datetime(energy_consumption['time'])\n",
    "humidityandtemperature['time'] =  pd.to_datetime(humidityandtemperature['time'])\n",
    "water_consumption['time'] = pd.to_datetime(water_consumption['time'])\n",
    "co2_emissions['time'] =  pd.to_datetime(co2_emissions['time'])"
   ]
  },
  {
   "cell_type": "code",
   "execution_count": 12,
   "id": "2c2bdfb5",
   "metadata": {},
   "outputs": [
    {
     "name": "stdout",
     "output_type": "stream",
     "text": [
      "energy_consumption max min\n",
      "min = 2021-11-19 15:16:00+01:00\n",
      "max = 2021-11-26 15:16:00+01:00\n"
     ]
    }
   ],
   "source": [
    "print(\"energy_consumption max min\")\n",
    "print(\"min =\",min(energy_consumption['time']))\n",
    "print(\"max =\",max(energy_consumption['time']))"
   ]
  },
  {
   "cell_type": "code",
   "execution_count": 13,
   "id": "09604189",
   "metadata": {},
   "outputs": [
    {
     "name": "stdout",
     "output_type": "stream",
     "text": [
      "humidityandtemperature max min\n",
      "min = 2021-11-19 15:16:00+01:00\n",
      "max = 2021-11-26 15:16:00+01:00\n"
     ]
    }
   ],
   "source": [
    "print(\"humidityandtemperature max min\")\n",
    "print(\"min =\",min(humidityandtemperature['time']))\n",
    "print(\"max =\",max(humidityandtemperature['time']))"
   ]
  },
  {
   "cell_type": "code",
   "execution_count": 14,
   "id": "f1ee611f",
   "metadata": {},
   "outputs": [
    {
     "name": "stdout",
     "output_type": "stream",
     "text": [
      "water_consumption max min\n",
      "min = 2021-11-19 15:16:00+01:00\n",
      "max = 2021-11-26 15:16:00+01:00\n"
     ]
    }
   ],
   "source": [
    "print(\"water_consumption max min\")\n",
    "print(\"min =\",min(water_consumption['time']))\n",
    "print(\"max =\",max(water_consumption['time']))\n",
    "\n"
   ]
  },
  {
   "cell_type": "code",
   "execution_count": 15,
   "id": "e46a30e4",
   "metadata": {},
   "outputs": [
    {
     "name": "stdout",
     "output_type": "stream",
     "text": [
      "co2_emissions max min\n",
      "min = 2021-11-19 15:16:00+01:00\n",
      "max = 2021-11-26 15:16:00+01:00\n"
     ]
    }
   ],
   "source": [
    "print(\"co2_emissions max min\")\n",
    "print(\"min =\",min(co2_emissions['time']))\n",
    "print(\"max =\",max(co2_emissions['time']))"
   ]
  },
  {
   "cell_type": "code",
   "execution_count": 16,
   "id": "05d8d7a9",
   "metadata": {},
   "outputs": [
    {
     "name": "stdout",
     "output_type": "stream",
     "text": [
      "RangeIndex(start=0, stop=361, step=1)\n",
      "RangeIndex(start=0, stop=361, step=1)\n",
      "RangeIndex(start=0, stop=361, step=1)\n",
      "RangeIndex(start=0, stop=361, step=1)\n"
     ]
    }
   ],
   "source": [
    "print(energy_consumption.index)\n",
    "print(humidityandtemperature.index)\n",
    "print(water_consumption.index)\n",
    "print(co2_emissions.index)"
   ]
  },
  {
   "cell_type": "markdown",
   "id": "061f339d",
   "metadata": {},
   "source": [
    "# mearge 1 experiment "
   ]
  },
  {
   "cell_type": "code",
   "execution_count": 17,
   "id": "07fab945",
   "metadata": {},
   "outputs": [
    {
     "data": {
      "text/html": [
       "<div>\n",
       "<style scoped>\n",
       "    .dataframe tbody tr th:only-of-type {\n",
       "        vertical-align: middle;\n",
       "    }\n",
       "\n",
       "    .dataframe tbody tr th {\n",
       "        vertical-align: top;\n",
       "    }\n",
       "\n",
       "    .dataframe thead th {\n",
       "        text-align: right;\n",
       "    }\n",
       "</style>\n",
       "<table border=\"1\" class=\"dataframe\">\n",
       "  <thead>\n",
       "    <tr style=\"text-align: right;\">\n",
       "      <th></th>\n",
       "      <th>time</th>\n",
       "      <th>MCF-LW12PLG.mean_active_power</th>\n",
       "      <th>MCF-LW12CO2.mean_humidity</th>\n",
       "      <th>MCF-LW12CO2.mean_temperature</th>\n",
       "      <th>Water_meter.mean_water_meter_reading</th>\n",
       "      <th>MCF-LW12CO2.mean_co2</th>\n",
       "    </tr>\n",
       "  </thead>\n",
       "  <tbody>\n",
       "    <tr>\n",
       "      <th>0</th>\n",
       "      <td>2021-11-19 15:16:00+01:00</td>\n",
       "      <td>21.500000</td>\n",
       "      <td>NaN</td>\n",
       "      <td>NaN</td>\n",
       "      <td>NaN</td>\n",
       "      <td>NaN</td>\n",
       "    </tr>\n",
       "    <tr>\n",
       "      <th>1</th>\n",
       "      <td>2021-11-19 15:44:00+01:00</td>\n",
       "      <td>21.000000</td>\n",
       "      <td>40.0</td>\n",
       "      <td>22.40</td>\n",
       "      <td>0.0</td>\n",
       "      <td>515.0</td>\n",
       "    </tr>\n",
       "    <tr>\n",
       "      <th>2</th>\n",
       "      <td>2021-11-19 16:12:00+01:00</td>\n",
       "      <td>21.500000</td>\n",
       "      <td>39.5</td>\n",
       "      <td>22.42</td>\n",
       "      <td>0.0</td>\n",
       "      <td>515.0</td>\n",
       "    </tr>\n",
       "    <tr>\n",
       "      <th>3</th>\n",
       "      <td>2021-11-19 16:40:00+01:00</td>\n",
       "      <td>198.200000</td>\n",
       "      <td>39.0</td>\n",
       "      <td>22.42</td>\n",
       "      <td>0.0</td>\n",
       "      <td>488.0</td>\n",
       "    </tr>\n",
       "    <tr>\n",
       "      <th>4</th>\n",
       "      <td>2021-11-19 17:08:00+01:00</td>\n",
       "      <td>21.454545</td>\n",
       "      <td>38.5</td>\n",
       "      <td>22.32</td>\n",
       "      <td>0.0</td>\n",
       "      <td>460.0</td>\n",
       "    </tr>\n",
       "  </tbody>\n",
       "</table>\n",
       "</div>"
      ],
      "text/plain": [
       "                       time  MCF-LW12PLG.mean_active_power  \\\n",
       "0 2021-11-19 15:16:00+01:00                      21.500000   \n",
       "1 2021-11-19 15:44:00+01:00                      21.000000   \n",
       "2 2021-11-19 16:12:00+01:00                      21.500000   \n",
       "3 2021-11-19 16:40:00+01:00                     198.200000   \n",
       "4 2021-11-19 17:08:00+01:00                      21.454545   \n",
       "\n",
       "   MCF-LW12CO2.mean_humidity  MCF-LW12CO2.mean_temperature  \\\n",
       "0                        NaN                           NaN   \n",
       "1                       40.0                         22.40   \n",
       "2                       39.5                         22.42   \n",
       "3                       39.0                         22.42   \n",
       "4                       38.5                         22.32   \n",
       "\n",
       "   Water_meter.mean_water_meter_reading  MCF-LW12CO2.mean_co2  \n",
       "0                                   NaN                   NaN  \n",
       "1                                   0.0                 515.0  \n",
       "2                                   0.0                 515.0  \n",
       "3                                   0.0                 488.0  \n",
       "4                                   0.0                 460.0  "
      ]
     },
     "execution_count": 17,
     "metadata": {},
     "output_type": "execute_result"
    }
   ],
   "source": [
    "final_df=energy_consumption.merge(humidityandtemperature,on='time').merge(water_consumption,on='time').merge(co2_emissions,on='time')\n",
    "final_df.head()"
   ]
  },
  {
   "cell_type": "code",
   "execution_count": 18,
   "id": "5ab2fc4f",
   "metadata": {},
   "outputs": [
    {
     "name": "stdout",
     "output_type": "stream",
     "text": [
      "<class 'pandas.core.frame.DataFrame'>\n",
      "Int64Index: 361 entries, 0 to 360\n",
      "Data columns (total 6 columns):\n",
      " #   Column                                Non-Null Count  Dtype                               \n",
      "---  ------                                --------------  -----                               \n",
      " 0   time                                  361 non-null    datetime64[ns, pytz.FixedOffset(60)]\n",
      " 1   MCF-LW12PLG.mean_active_power         361 non-null    float64                             \n",
      " 2   MCF-LW12CO2.mean_humidity             333 non-null    float64                             \n",
      " 3   MCF-LW12CO2.mean_temperature          333 non-null    float64                             \n",
      " 4   Water_meter.mean_water_meter_reading  336 non-null    float64                             \n",
      " 5   MCF-LW12CO2.mean_co2                  333 non-null    float64                             \n",
      "dtypes: datetime64[ns, pytz.FixedOffset(60)](1), float64(5)\n",
      "memory usage: 19.7 KB\n"
     ]
    }
   ],
   "source": [
    "final_df.info()"
   ]
  },
  {
   "cell_type": "code",
   "execution_count": 19,
   "id": "10e04f51",
   "metadata": {},
   "outputs": [
    {
     "data": {
      "text/html": [
       "<div>\n",
       "<style scoped>\n",
       "    .dataframe tbody tr th:only-of-type {\n",
       "        vertical-align: middle;\n",
       "    }\n",
       "\n",
       "    .dataframe tbody tr th {\n",
       "        vertical-align: top;\n",
       "    }\n",
       "\n",
       "    .dataframe thead th {\n",
       "        text-align: right;\n",
       "    }\n",
       "</style>\n",
       "<table border=\"1\" class=\"dataframe\">\n",
       "  <thead>\n",
       "    <tr style=\"text-align: right;\">\n",
       "      <th></th>\n",
       "      <th>MCF-LW12PLG.mean_active_power</th>\n",
       "      <th>MCF-LW12CO2.mean_humidity</th>\n",
       "      <th>MCF-LW12CO2.mean_temperature</th>\n",
       "      <th>Water_meter.mean_water_meter_reading</th>\n",
       "      <th>MCF-LW12CO2.mean_co2</th>\n",
       "    </tr>\n",
       "  </thead>\n",
       "  <tbody>\n",
       "    <tr>\n",
       "      <th>count</th>\n",
       "      <td>361.000000</td>\n",
       "      <td>333.000000</td>\n",
       "      <td>333.000000</td>\n",
       "      <td>336.000000</td>\n",
       "      <td>333.000000</td>\n",
       "    </tr>\n",
       "    <tr>\n",
       "      <th>mean</th>\n",
       "      <td>58.015052</td>\n",
       "      <td>26.891892</td>\n",
       "      <td>21.677958</td>\n",
       "      <td>0.116530</td>\n",
       "      <td>434.433934</td>\n",
       "    </tr>\n",
       "    <tr>\n",
       "      <th>std</th>\n",
       "      <td>76.435938</td>\n",
       "      <td>4.364504</td>\n",
       "      <td>0.427514</td>\n",
       "      <td>0.360732</td>\n",
       "      <td>34.874238</td>\n",
       "    </tr>\n",
       "    <tr>\n",
       "      <th>min</th>\n",
       "      <td>20.888889</td>\n",
       "      <td>19.500000</td>\n",
       "      <td>20.510000</td>\n",
       "      <td>0.000000</td>\n",
       "      <td>396.000000</td>\n",
       "    </tr>\n",
       "    <tr>\n",
       "      <th>25%</th>\n",
       "      <td>21.300000</td>\n",
       "      <td>23.500000</td>\n",
       "      <td>21.400000</td>\n",
       "      <td>0.000000</td>\n",
       "      <td>408.000000</td>\n",
       "    </tr>\n",
       "    <tr>\n",
       "      <th>50%</th>\n",
       "      <td>21.444444</td>\n",
       "      <td>26.500000</td>\n",
       "      <td>21.800000</td>\n",
       "      <td>0.000000</td>\n",
       "      <td>419.500000</td>\n",
       "    </tr>\n",
       "    <tr>\n",
       "      <th>75%</th>\n",
       "      <td>21.727273</td>\n",
       "      <td>29.500000</td>\n",
       "      <td>21.960000</td>\n",
       "      <td>0.000000</td>\n",
       "      <td>457.000000</td>\n",
       "    </tr>\n",
       "    <tr>\n",
       "      <th>max</th>\n",
       "      <td>454.375000</td>\n",
       "      <td>40.000000</td>\n",
       "      <td>22.430000</td>\n",
       "      <td>3.947778</td>\n",
       "      <td>537.000000</td>\n",
       "    </tr>\n",
       "  </tbody>\n",
       "</table>\n",
       "</div>"
      ],
      "text/plain": [
       "       MCF-LW12PLG.mean_active_power  MCF-LW12CO2.mean_humidity  \\\n",
       "count                     361.000000                 333.000000   \n",
       "mean                       58.015052                  26.891892   \n",
       "std                        76.435938                   4.364504   \n",
       "min                        20.888889                  19.500000   \n",
       "25%                        21.300000                  23.500000   \n",
       "50%                        21.444444                  26.500000   \n",
       "75%                        21.727273                  29.500000   \n",
       "max                       454.375000                  40.000000   \n",
       "\n",
       "       MCF-LW12CO2.mean_temperature  Water_meter.mean_water_meter_reading  \\\n",
       "count                    333.000000                            336.000000   \n",
       "mean                      21.677958                              0.116530   \n",
       "std                        0.427514                              0.360732   \n",
       "min                       20.510000                              0.000000   \n",
       "25%                       21.400000                              0.000000   \n",
       "50%                       21.800000                              0.000000   \n",
       "75%                       21.960000                              0.000000   \n",
       "max                       22.430000                              3.947778   \n",
       "\n",
       "       MCF-LW12CO2.mean_co2  \n",
       "count            333.000000  \n",
       "mean             434.433934  \n",
       "std               34.874238  \n",
       "min              396.000000  \n",
       "25%              408.000000  \n",
       "50%              419.500000  \n",
       "75%              457.000000  \n",
       "max              537.000000  "
      ]
     },
     "execution_count": 19,
     "metadata": {},
     "output_type": "execute_result"
    }
   ],
   "source": [
    "final_df.describe()"
   ]
  },
  {
   "cell_type": "code",
   "execution_count": 20,
   "id": "f987f197",
   "metadata": {},
   "outputs": [
    {
     "name": "stdout",
     "output_type": "stream",
     "text": [
      "shape\n",
      "(361, 6)\n"
     ]
    }
   ],
   "source": [
    "print(\"shape\")\n",
    "print(final_df.shape)"
   ]
  },
  {
   "cell_type": "code",
   "execution_count": 21,
   "id": "32890af2",
   "metadata": {},
   "outputs": [
    {
     "name": "stdout",
     "output_type": "stream",
     "text": [
      "MCF-LW12CO2.mean_humidity 7.76  % missing values\n",
      "MCF-LW12CO2.mean_temperature 7.76  % missing values\n",
      "Water_meter.mean_water_meter_reading 6.93  % missing values\n",
      "MCF-LW12CO2.mean_co2 7.76  % missing values\n"
     ]
    }
   ],
   "source": [
    "## Here we will check the percentage of nan values present in each feature\n",
    "## 1 -step make the list of features which has missing values\n",
    "features_with_na=[features for features in final_df.columns if final_df[features].isnull().sum()>1]\n",
    "## 2- step print the feature name and the percentage of missing values\n",
    "\n",
    "for feature in features_with_na:\n",
    "    print(feature, (np.round(final_df[feature].isnull().mean(), 4))*100,' % missing values')"
   ]
  },
  {
   "cell_type": "code",
   "execution_count": null,
   "id": "22b02638",
   "metadata": {},
   "outputs": [],
   "source": []
  },
  {
   "cell_type": "code",
   "execution_count": null,
   "id": "870df19a",
   "metadata": {},
   "outputs": [],
   "source": []
  },
  {
   "cell_type": "markdown",
   "id": "af3a71aa",
   "metadata": {},
   "source": [
    "# merge expriment 2"
   ]
  },
  {
   "cell_type": "code",
   "execution_count": 22,
   "id": "3137123e",
   "metadata": {},
   "outputs": [
    {
     "name": "stdout",
     "output_type": "stream",
     "text": [
      "MCF-LW12CO2.mean_humidity 7.76  % missing values\n",
      "MCF-LW12CO2.mean_temperature 7.76  % missing values\n",
      "Water_meter.mean_water_meter_reading 6.93  % missing values\n",
      "MCF-LW12CO2.mean_co2 7.76  % missing values\n"
     ]
    }
   ],
   "source": [
    "\n",
    "\n",
    "\n",
    "\n",
    "from functools import reduce\n",
    "\n",
    "# compile the list of dataframes you want to merge\n",
    "data_frames = [energy_consumption, humidityandtemperature, water_consumption,co2_emissions]\n",
    "df_merged = reduce(lambda  left,right: pd.merge(left,right,on=['time'],\n",
    "                                            how='outer'), data_frames)\n",
    "df_merged.head()   \n",
    "\n",
    "\n",
    "## Here we will check the percentage of nan values present in each feature\n",
    "## 1 -step make the list of features which has missing values\n",
    "features_with_na=[features for features in df_merged.columns if df_merged[features].isnull().sum()>1]\n",
    "## 2- step print the feature name and the percentage of missing values\n",
    "\n",
    "for feature in features_with_na:\n",
    "    print(feature, (np.round(df_merged[feature].isnull().mean(), 4))*100,' % missing values')"
   ]
  },
  {
   "cell_type": "code",
   "execution_count": null,
   "id": "66d76672",
   "metadata": {},
   "outputs": [],
   "source": []
  },
  {
   "cell_type": "markdown",
   "id": "0fa1e83d",
   "metadata": {},
   "source": [
    "# merge  expriment 3"
   ]
  },
  {
   "cell_type": "code",
   "execution_count": 23,
   "id": "589c31d0",
   "metadata": {},
   "outputs": [
    {
     "name": "stdout",
     "output_type": "stream",
     "text": [
      "MCF-LW12PLG.mean_active_power 75.0  % missing values\n",
      "MCF-LW12CO2.mean_humidity 76.94  % missing values\n",
      "MCF-LW12CO2.mean_temperature 76.94  % missing values\n",
      "Water_meter.mean_water_meter_reading 76.73  % missing values\n",
      "MCF-LW12CO2.mean_co2 76.94  % missing values\n"
     ]
    }
   ],
   "source": [
    "final = pd.concat([energy_consumption, humidityandtemperature,water_consumption,co2_emissions])\n",
    "## Here we will check the percentage of nan values present in each feature\n",
    "## 1 -step make the list of features which has missing values\n",
    "features_with_na=[features for features in final.columns if final[features].isnull().sum()>1]\n",
    "## 2- step print the feature name and the percentage of missing values\n",
    "\n",
    "for feature in features_with_na:\n",
    "    print(feature, np.round(final[feature].isnull().mean(), 4)*100,' % missing values')"
   ]
  },
  {
   "cell_type": "code",
   "execution_count": null,
   "id": "0386ea00",
   "metadata": {},
   "outputs": [],
   "source": []
  },
  {
   "cell_type": "markdown",
   "id": "4d9ad347",
   "metadata": {},
   "source": [
    "# merge expriment 4\n"
   ]
  },
  {
   "cell_type": "code",
   "execution_count": 24,
   "id": "bcd16005",
   "metadata": {},
   "outputs": [],
   "source": [
    "from functools import reduce\n",
    "# compile the list of dataframes you want to merge\n",
    "data_frames = [energy_consumption, humidityandtemperature,water_consumption,co2_emissions]\n",
    "\n",
    "df_merged = reduce(lambda  left,right: pd.merge(left,right,on=['time'],\n",
    "                                            how='outer'), data_frames).fillna('void')\n",
    "\n",
    "# if you want to fill the values that don't exist in the lines of merged dataframe simply fill with required strings as\n",
    "\n",
    "#df_merged = reduce(lambda  left,right: pd.merge(left,right,on=['time'],how='outer'), data_frames).fillna('void')\n",
    "    \n",
    "features_with_na=[features for features in df_merged.columns if df_merged[features].isnull().sum()>1]\n",
    "## 2- step print the feature name and the percentage of missing values\n",
    "\n",
    "for feature in features_with_na:\n",
    "    print(feature, np.round(df_merged[feature].isnull().mean(), 4)*100,' % missing values')\n",
    "        \n",
    "    "
   ]
  },
  {
   "cell_type": "code",
   "execution_count": null,
   "id": "d5a01814",
   "metadata": {},
   "outputs": [],
   "source": []
  },
  {
   "cell_type": "code",
   "execution_count": null,
   "id": "672ac40a",
   "metadata": {},
   "outputs": [],
   "source": []
  }
 ],
 "metadata": {
  "kernelspec": {
   "display_name": "Python 3.8.10 64-bit ('miranda': conda)",
   "language": "python",
   "name": "python3810jvsc74a57bd093015458a31746c9fc65bb26b4a077cbbfae0c420f8f2c1ca9ffaae103253a77"
  },
  "language_info": {
   "codemirror_mode": {
    "name": "ipython",
    "version": 3
   },
   "file_extension": ".py",
   "mimetype": "text/x-python",
   "name": "python",
   "nbconvert_exporter": "python",
   "pygments_lexer": "ipython3",
   "version": "3.8.10"
  }
 },
 "nbformat": 4,
 "nbformat_minor": 5
}
