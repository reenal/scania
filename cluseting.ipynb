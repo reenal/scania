{
 "cells": [
  {
   "cell_type": "markdown",
   "id": "4661c04f",
   "metadata": {},
   "source": [
    "# Clustring"
   ]
  },
  {
   "cell_type": "code",
   "execution_count": 1,
   "id": "d4c7af2c",
   "metadata": {},
   "outputs": [],
   "source": [
    "import pandas as pd\n",
    "import matplotlib.pyplot as plt\n",
    "import seaborn as sns\n",
    "import numpy as np\n",
    "pd.set_option('display.max_rows', None)\n",
    "pd.set_option('display.max_columns', None)"
   ]
  },
  {
   "cell_type": "code",
   "execution_count": 2,
   "id": "87cfc1eb",
   "metadata": {},
   "outputs": [
    {
     "data": {
      "text/plain": [
       "'2.3.1'"
      ]
     },
     "execution_count": 2,
     "metadata": {},
     "output_type": "execute_result"
    }
   ],
   "source": [
    "from pycaret.utils import version\n",
    "version()"
   ]
  },
  {
   "cell_type": "code",
   "execution_count": 3,
   "id": "b6acb065",
   "metadata": {},
   "outputs": [],
   "source": [
    "final = pd.read_csv('final.csv')"
   ]
  },
  {
   "cell_type": "code",
   "execution_count": 4,
   "id": "4a6b054c",
   "metadata": {},
   "outputs": [
    {
     "name": "stdout",
     "output_type": "stream",
     "text": [
      "Data for Modeling: (295, 10)\n",
      "Unseen Data For Predictions: (16, 10)\n"
     ]
    }
   ],
   "source": [
    "dataset =final\n",
    "data = dataset.sample(frac=0.95, random_state=786)\n",
    "data_unseen = dataset.drop(data.index)\n",
    "\n",
    "data.reset_index(drop=True, inplace=True)\n",
    "data_unseen.reset_index(drop=True, inplace=True)\n",
    "\n",
    "print('Data for Modeling: ' + str(data.shape))\n",
    "print('Unseen Data For Predictions: ' + str(data_unseen.shape))"
   ]
  },
  {
   "cell_type": "code",
   "execution_count": 5,
   "id": "9760de52",
   "metadata": {},
   "outputs": [],
   "source": [
    "from pycaret.clustering import *"
   ]
  },
  {
   "cell_type": "code",
   "execution_count": 6,
   "id": "cea0d2f9",
   "metadata": {},
   "outputs": [
    {
     "data": {
      "text/html": [
       "<style  type=\"text/css\" >\n",
       "#T_4f810_row21_col1{\n",
       "            background-color:  lightgreen;\n",
       "        }</style><table id=\"T_4f810_\" ><thead>    <tr>        <th class=\"blank level0\" ></th>        <th class=\"col_heading level0 col0\" >Description</th>        <th class=\"col_heading level0 col1\" >Value</th>    </tr></thead><tbody>\n",
       "                <tr>\n",
       "                        <th id=\"T_4f810_level0_row0\" class=\"row_heading level0 row0\" >0</th>\n",
       "                        <td id=\"T_4f810_row0_col0\" class=\"data row0 col0\" >session_id</td>\n",
       "                        <td id=\"T_4f810_row0_col1\" class=\"data row0 col1\" >123</td>\n",
       "            </tr>\n",
       "            <tr>\n",
       "                        <th id=\"T_4f810_level0_row1\" class=\"row_heading level0 row1\" >1</th>\n",
       "                        <td id=\"T_4f810_row1_col0\" class=\"data row1 col0\" >Original Data</td>\n",
       "                        <td id=\"T_4f810_row1_col1\" class=\"data row1 col1\" >(295, 10)</td>\n",
       "            </tr>\n",
       "            <tr>\n",
       "                        <th id=\"T_4f810_level0_row2\" class=\"row_heading level0 row2\" >2</th>\n",
       "                        <td id=\"T_4f810_row2_col0\" class=\"data row2 col0\" >Missing Values</td>\n",
       "                        <td id=\"T_4f810_row2_col1\" class=\"data row2 col1\" >False</td>\n",
       "            </tr>\n",
       "            <tr>\n",
       "                        <th id=\"T_4f810_level0_row3\" class=\"row_heading level0 row3\" >3</th>\n",
       "                        <td id=\"T_4f810_row3_col0\" class=\"data row3 col0\" >Numeric Features</td>\n",
       "                        <td id=\"T_4f810_row3_col1\" class=\"data row3 col1\" >7</td>\n",
       "            </tr>\n",
       "            <tr>\n",
       "                        <th id=\"T_4f810_level0_row4\" class=\"row_heading level0 row4\" >4</th>\n",
       "                        <td id=\"T_4f810_row4_col0\" class=\"data row4 col0\" >Categorical Features</td>\n",
       "                        <td id=\"T_4f810_row4_col1\" class=\"data row4 col1\" >3</td>\n",
       "            </tr>\n",
       "            <tr>\n",
       "                        <th id=\"T_4f810_level0_row5\" class=\"row_heading level0 row5\" >5</th>\n",
       "                        <td id=\"T_4f810_row5_col0\" class=\"data row5 col0\" >Ordinal Features</td>\n",
       "                        <td id=\"T_4f810_row5_col1\" class=\"data row5 col1\" >False</td>\n",
       "            </tr>\n",
       "            <tr>\n",
       "                        <th id=\"T_4f810_level0_row6\" class=\"row_heading level0 row6\" >6</th>\n",
       "                        <td id=\"T_4f810_row6_col0\" class=\"data row6 col0\" >High Cardinality Features</td>\n",
       "                        <td id=\"T_4f810_row6_col1\" class=\"data row6 col1\" >False</td>\n",
       "            </tr>\n",
       "            <tr>\n",
       "                        <th id=\"T_4f810_level0_row7\" class=\"row_heading level0 row7\" >7</th>\n",
       "                        <td id=\"T_4f810_row7_col0\" class=\"data row7 col0\" >High Cardinality Method</td>\n",
       "                        <td id=\"T_4f810_row7_col1\" class=\"data row7 col1\" >None</td>\n",
       "            </tr>\n",
       "            <tr>\n",
       "                        <th id=\"T_4f810_level0_row8\" class=\"row_heading level0 row8\" >8</th>\n",
       "                        <td id=\"T_4f810_row8_col0\" class=\"data row8 col0\" >Transformed Data</td>\n",
       "                        <td id=\"T_4f810_row8_col1\" class=\"data row8 col1\" >(295, 17)</td>\n",
       "            </tr>\n",
       "            <tr>\n",
       "                        <th id=\"T_4f810_level0_row9\" class=\"row_heading level0 row9\" >9</th>\n",
       "                        <td id=\"T_4f810_row9_col0\" class=\"data row9 col0\" >CPU Jobs</td>\n",
       "                        <td id=\"T_4f810_row9_col1\" class=\"data row9 col1\" >-1</td>\n",
       "            </tr>\n",
       "            <tr>\n",
       "                        <th id=\"T_4f810_level0_row10\" class=\"row_heading level0 row10\" >10</th>\n",
       "                        <td id=\"T_4f810_row10_col0\" class=\"data row10 col0\" >Use GPU</td>\n",
       "                        <td id=\"T_4f810_row10_col1\" class=\"data row10 col1\" >False</td>\n",
       "            </tr>\n",
       "            <tr>\n",
       "                        <th id=\"T_4f810_level0_row11\" class=\"row_heading level0 row11\" >11</th>\n",
       "                        <td id=\"T_4f810_row11_col0\" class=\"data row11 col0\" >Log Experiment</td>\n",
       "                        <td id=\"T_4f810_row11_col1\" class=\"data row11 col1\" >False</td>\n",
       "            </tr>\n",
       "            <tr>\n",
       "                        <th id=\"T_4f810_level0_row12\" class=\"row_heading level0 row12\" >12</th>\n",
       "                        <td id=\"T_4f810_row12_col0\" class=\"data row12 col0\" >Experiment Name</td>\n",
       "                        <td id=\"T_4f810_row12_col1\" class=\"data row12 col1\" >cluster-default-name</td>\n",
       "            </tr>\n",
       "            <tr>\n",
       "                        <th id=\"T_4f810_level0_row13\" class=\"row_heading level0 row13\" >13</th>\n",
       "                        <td id=\"T_4f810_row13_col0\" class=\"data row13 col0\" >USI</td>\n",
       "                        <td id=\"T_4f810_row13_col1\" class=\"data row13 col1\" >6ea1</td>\n",
       "            </tr>\n",
       "            <tr>\n",
       "                        <th id=\"T_4f810_level0_row14\" class=\"row_heading level0 row14\" >14</th>\n",
       "                        <td id=\"T_4f810_row14_col0\" class=\"data row14 col0\" >Imputation Type</td>\n",
       "                        <td id=\"T_4f810_row14_col1\" class=\"data row14 col1\" >simple</td>\n",
       "            </tr>\n",
       "            <tr>\n",
       "                        <th id=\"T_4f810_level0_row15\" class=\"row_heading level0 row15\" >15</th>\n",
       "                        <td id=\"T_4f810_row15_col0\" class=\"data row15 col0\" >Iterative Imputation Iteration</td>\n",
       "                        <td id=\"T_4f810_row15_col1\" class=\"data row15 col1\" >None</td>\n",
       "            </tr>\n",
       "            <tr>\n",
       "                        <th id=\"T_4f810_level0_row16\" class=\"row_heading level0 row16\" >16</th>\n",
       "                        <td id=\"T_4f810_row16_col0\" class=\"data row16 col0\" >Numeric Imputer</td>\n",
       "                        <td id=\"T_4f810_row16_col1\" class=\"data row16 col1\" >mean</td>\n",
       "            </tr>\n",
       "            <tr>\n",
       "                        <th id=\"T_4f810_level0_row17\" class=\"row_heading level0 row17\" >17</th>\n",
       "                        <td id=\"T_4f810_row17_col0\" class=\"data row17 col0\" >Iterative Imputation Numeric Model</td>\n",
       "                        <td id=\"T_4f810_row17_col1\" class=\"data row17 col1\" >None</td>\n",
       "            </tr>\n",
       "            <tr>\n",
       "                        <th id=\"T_4f810_level0_row18\" class=\"row_heading level0 row18\" >18</th>\n",
       "                        <td id=\"T_4f810_row18_col0\" class=\"data row18 col0\" >Categorical Imputer</td>\n",
       "                        <td id=\"T_4f810_row18_col1\" class=\"data row18 col1\" >mode</td>\n",
       "            </tr>\n",
       "            <tr>\n",
       "                        <th id=\"T_4f810_level0_row19\" class=\"row_heading level0 row19\" >19</th>\n",
       "                        <td id=\"T_4f810_row19_col0\" class=\"data row19 col0\" >Iterative Imputation Categorical Model</td>\n",
       "                        <td id=\"T_4f810_row19_col1\" class=\"data row19 col1\" >None</td>\n",
       "            </tr>\n",
       "            <tr>\n",
       "                        <th id=\"T_4f810_level0_row20\" class=\"row_heading level0 row20\" >20</th>\n",
       "                        <td id=\"T_4f810_row20_col0\" class=\"data row20 col0\" >Unknown Categoricals Handling</td>\n",
       "                        <td id=\"T_4f810_row20_col1\" class=\"data row20 col1\" >least_frequent</td>\n",
       "            </tr>\n",
       "            <tr>\n",
       "                        <th id=\"T_4f810_level0_row21\" class=\"row_heading level0 row21\" >21</th>\n",
       "                        <td id=\"T_4f810_row21_col0\" class=\"data row21 col0\" >Normalize</td>\n",
       "                        <td id=\"T_4f810_row21_col1\" class=\"data row21 col1\" >True</td>\n",
       "            </tr>\n",
       "            <tr>\n",
       "                        <th id=\"T_4f810_level0_row22\" class=\"row_heading level0 row22\" >22</th>\n",
       "                        <td id=\"T_4f810_row22_col0\" class=\"data row22 col0\" >Normalize Method</td>\n",
       "                        <td id=\"T_4f810_row22_col1\" class=\"data row22 col1\" >zscore</td>\n",
       "            </tr>\n",
       "            <tr>\n",
       "                        <th id=\"T_4f810_level0_row23\" class=\"row_heading level0 row23\" >23</th>\n",
       "                        <td id=\"T_4f810_row23_col0\" class=\"data row23 col0\" >Transformation</td>\n",
       "                        <td id=\"T_4f810_row23_col1\" class=\"data row23 col1\" >False</td>\n",
       "            </tr>\n",
       "            <tr>\n",
       "                        <th id=\"T_4f810_level0_row24\" class=\"row_heading level0 row24\" >24</th>\n",
       "                        <td id=\"T_4f810_row24_col0\" class=\"data row24 col0\" >Transformation Method</td>\n",
       "                        <td id=\"T_4f810_row24_col1\" class=\"data row24 col1\" >None</td>\n",
       "            </tr>\n",
       "            <tr>\n",
       "                        <th id=\"T_4f810_level0_row25\" class=\"row_heading level0 row25\" >25</th>\n",
       "                        <td id=\"T_4f810_row25_col0\" class=\"data row25 col0\" >PCA</td>\n",
       "                        <td id=\"T_4f810_row25_col1\" class=\"data row25 col1\" >False</td>\n",
       "            </tr>\n",
       "            <tr>\n",
       "                        <th id=\"T_4f810_level0_row26\" class=\"row_heading level0 row26\" >26</th>\n",
       "                        <td id=\"T_4f810_row26_col0\" class=\"data row26 col0\" >PCA Method</td>\n",
       "                        <td id=\"T_4f810_row26_col1\" class=\"data row26 col1\" >None</td>\n",
       "            </tr>\n",
       "            <tr>\n",
       "                        <th id=\"T_4f810_level0_row27\" class=\"row_heading level0 row27\" >27</th>\n",
       "                        <td id=\"T_4f810_row27_col0\" class=\"data row27 col0\" >PCA Components</td>\n",
       "                        <td id=\"T_4f810_row27_col1\" class=\"data row27 col1\" >None</td>\n",
       "            </tr>\n",
       "            <tr>\n",
       "                        <th id=\"T_4f810_level0_row28\" class=\"row_heading level0 row28\" >28</th>\n",
       "                        <td id=\"T_4f810_row28_col0\" class=\"data row28 col0\" >Ignore Low Variance</td>\n",
       "                        <td id=\"T_4f810_row28_col1\" class=\"data row28 col1\" >False</td>\n",
       "            </tr>\n",
       "            <tr>\n",
       "                        <th id=\"T_4f810_level0_row29\" class=\"row_heading level0 row29\" >29</th>\n",
       "                        <td id=\"T_4f810_row29_col0\" class=\"data row29 col0\" >Combine Rare Levels</td>\n",
       "                        <td id=\"T_4f810_row29_col1\" class=\"data row29 col1\" >False</td>\n",
       "            </tr>\n",
       "            <tr>\n",
       "                        <th id=\"T_4f810_level0_row30\" class=\"row_heading level0 row30\" >30</th>\n",
       "                        <td id=\"T_4f810_row30_col0\" class=\"data row30 col0\" >Rare Level Threshold</td>\n",
       "                        <td id=\"T_4f810_row30_col1\" class=\"data row30 col1\" >None</td>\n",
       "            </tr>\n",
       "            <tr>\n",
       "                        <th id=\"T_4f810_level0_row31\" class=\"row_heading level0 row31\" >31</th>\n",
       "                        <td id=\"T_4f810_row31_col0\" class=\"data row31 col0\" >Numeric Binning</td>\n",
       "                        <td id=\"T_4f810_row31_col1\" class=\"data row31 col1\" >False</td>\n",
       "            </tr>\n",
       "            <tr>\n",
       "                        <th id=\"T_4f810_level0_row32\" class=\"row_heading level0 row32\" >32</th>\n",
       "                        <td id=\"T_4f810_row32_col0\" class=\"data row32 col0\" >Remove Outliers</td>\n",
       "                        <td id=\"T_4f810_row32_col1\" class=\"data row32 col1\" >False</td>\n",
       "            </tr>\n",
       "            <tr>\n",
       "                        <th id=\"T_4f810_level0_row33\" class=\"row_heading level0 row33\" >33</th>\n",
       "                        <td id=\"T_4f810_row33_col0\" class=\"data row33 col0\" >Outliers Threshold</td>\n",
       "                        <td id=\"T_4f810_row33_col1\" class=\"data row33 col1\" >None</td>\n",
       "            </tr>\n",
       "            <tr>\n",
       "                        <th id=\"T_4f810_level0_row34\" class=\"row_heading level0 row34\" >34</th>\n",
       "                        <td id=\"T_4f810_row34_col0\" class=\"data row34 col0\" >Remove Multicollinearity</td>\n",
       "                        <td id=\"T_4f810_row34_col1\" class=\"data row34 col1\" >False</td>\n",
       "            </tr>\n",
       "            <tr>\n",
       "                        <th id=\"T_4f810_level0_row35\" class=\"row_heading level0 row35\" >35</th>\n",
       "                        <td id=\"T_4f810_row35_col0\" class=\"data row35 col0\" >Multicollinearity Threshold</td>\n",
       "                        <td id=\"T_4f810_row35_col1\" class=\"data row35 col1\" >None</td>\n",
       "            </tr>\n",
       "            <tr>\n",
       "                        <th id=\"T_4f810_level0_row36\" class=\"row_heading level0 row36\" >36</th>\n",
       "                        <td id=\"T_4f810_row36_col0\" class=\"data row36 col0\" >Remove Perfect Collinearity</td>\n",
       "                        <td id=\"T_4f810_row36_col1\" class=\"data row36 col1\" >False</td>\n",
       "            </tr>\n",
       "            <tr>\n",
       "                        <th id=\"T_4f810_level0_row37\" class=\"row_heading level0 row37\" >37</th>\n",
       "                        <td id=\"T_4f810_row37_col0\" class=\"data row37 col0\" >Clustering</td>\n",
       "                        <td id=\"T_4f810_row37_col1\" class=\"data row37 col1\" >False</td>\n",
       "            </tr>\n",
       "            <tr>\n",
       "                        <th id=\"T_4f810_level0_row38\" class=\"row_heading level0 row38\" >38</th>\n",
       "                        <td id=\"T_4f810_row38_col0\" class=\"data row38 col0\" >Clustering Iteration</td>\n",
       "                        <td id=\"T_4f810_row38_col1\" class=\"data row38 col1\" >None</td>\n",
       "            </tr>\n",
       "            <tr>\n",
       "                        <th id=\"T_4f810_level0_row39\" class=\"row_heading level0 row39\" >39</th>\n",
       "                        <td id=\"T_4f810_row39_col0\" class=\"data row39 col0\" >Polynomial Features</td>\n",
       "                        <td id=\"T_4f810_row39_col1\" class=\"data row39 col1\" >False</td>\n",
       "            </tr>\n",
       "            <tr>\n",
       "                        <th id=\"T_4f810_level0_row40\" class=\"row_heading level0 row40\" >40</th>\n",
       "                        <td id=\"T_4f810_row40_col0\" class=\"data row40 col0\" >Polynomial Degree</td>\n",
       "                        <td id=\"T_4f810_row40_col1\" class=\"data row40 col1\" >None</td>\n",
       "            </tr>\n",
       "            <tr>\n",
       "                        <th id=\"T_4f810_level0_row41\" class=\"row_heading level0 row41\" >41</th>\n",
       "                        <td id=\"T_4f810_row41_col0\" class=\"data row41 col0\" >Trignometry Features</td>\n",
       "                        <td id=\"T_4f810_row41_col1\" class=\"data row41 col1\" >False</td>\n",
       "            </tr>\n",
       "            <tr>\n",
       "                        <th id=\"T_4f810_level0_row42\" class=\"row_heading level0 row42\" >42</th>\n",
       "                        <td id=\"T_4f810_row42_col0\" class=\"data row42 col0\" >Polynomial Threshold</td>\n",
       "                        <td id=\"T_4f810_row42_col1\" class=\"data row42 col1\" >None</td>\n",
       "            </tr>\n",
       "            <tr>\n",
       "                        <th id=\"T_4f810_level0_row43\" class=\"row_heading level0 row43\" >43</th>\n",
       "                        <td id=\"T_4f810_row43_col0\" class=\"data row43 col0\" >Group Features</td>\n",
       "                        <td id=\"T_4f810_row43_col1\" class=\"data row43 col1\" >False</td>\n",
       "            </tr>\n",
       "            <tr>\n",
       "                        <th id=\"T_4f810_level0_row44\" class=\"row_heading level0 row44\" >44</th>\n",
       "                        <td id=\"T_4f810_row44_col0\" class=\"data row44 col0\" >Feature Selection</td>\n",
       "                        <td id=\"T_4f810_row44_col1\" class=\"data row44 col1\" >False</td>\n",
       "            </tr>\n",
       "            <tr>\n",
       "                        <th id=\"T_4f810_level0_row45\" class=\"row_heading level0 row45\" >45</th>\n",
       "                        <td id=\"T_4f810_row45_col0\" class=\"data row45 col0\" >Feature Selection Method</td>\n",
       "                        <td id=\"T_4f810_row45_col1\" class=\"data row45 col1\" >classic</td>\n",
       "            </tr>\n",
       "            <tr>\n",
       "                        <th id=\"T_4f810_level0_row46\" class=\"row_heading level0 row46\" >46</th>\n",
       "                        <td id=\"T_4f810_row46_col0\" class=\"data row46 col0\" >Features Selection Threshold</td>\n",
       "                        <td id=\"T_4f810_row46_col1\" class=\"data row46 col1\" >None</td>\n",
       "            </tr>\n",
       "            <tr>\n",
       "                        <th id=\"T_4f810_level0_row47\" class=\"row_heading level0 row47\" >47</th>\n",
       "                        <td id=\"T_4f810_row47_col0\" class=\"data row47 col0\" >Feature Interaction</td>\n",
       "                        <td id=\"T_4f810_row47_col1\" class=\"data row47 col1\" >False</td>\n",
       "            </tr>\n",
       "            <tr>\n",
       "                        <th id=\"T_4f810_level0_row48\" class=\"row_heading level0 row48\" >48</th>\n",
       "                        <td id=\"T_4f810_row48_col0\" class=\"data row48 col0\" >Feature Ratio</td>\n",
       "                        <td id=\"T_4f810_row48_col1\" class=\"data row48 col1\" >False</td>\n",
       "            </tr>\n",
       "            <tr>\n",
       "                        <th id=\"T_4f810_level0_row49\" class=\"row_heading level0 row49\" >49</th>\n",
       "                        <td id=\"T_4f810_row49_col0\" class=\"data row49 col0\" >Interaction Threshold</td>\n",
       "                        <td id=\"T_4f810_row49_col1\" class=\"data row49 col1\" >None</td>\n",
       "            </tr>\n",
       "    </tbody></table>"
      ],
      "text/plain": [
       "<pandas.io.formats.style.Styler at 0x16a3a1880>"
      ]
     },
     "metadata": {},
     "output_type": "display_data"
    }
   ],
   "source": [
    "exp_clu101 = setup(data, normalize = True, \n",
    "                   session_id = 123)"
   ]
  },
  {
   "cell_type": "code",
   "execution_count": 7,
   "id": "0723dff5",
   "metadata": {},
   "outputs": [
    {
     "data": {
      "text/html": [
       "<div>\n",
       "<style scoped>\n",
       "    .dataframe tbody tr th:only-of-type {\n",
       "        vertical-align: middle;\n",
       "    }\n",
       "\n",
       "    .dataframe tbody tr th {\n",
       "        vertical-align: top;\n",
       "    }\n",
       "\n",
       "    .dataframe thead th {\n",
       "        text-align: right;\n",
       "    }\n",
       "</style>\n",
       "<table border=\"1\" class=\"dataframe\">\n",
       "  <thead>\n",
       "    <tr style=\"text-align: right;\">\n",
       "      <th></th>\n",
       "      <th>Name</th>\n",
       "      <th>Reference</th>\n",
       "    </tr>\n",
       "    <tr>\n",
       "      <th>ID</th>\n",
       "      <th></th>\n",
       "      <th></th>\n",
       "    </tr>\n",
       "  </thead>\n",
       "  <tbody>\n",
       "    <tr>\n",
       "      <th>kmeans</th>\n",
       "      <td>K-Means Clustering</td>\n",
       "      <td>sklearn.cluster._kmeans.KMeans</td>\n",
       "    </tr>\n",
       "    <tr>\n",
       "      <th>ap</th>\n",
       "      <td>Affinity Propagation</td>\n",
       "      <td>sklearn.cluster._affinity_propagation.Affinity...</td>\n",
       "    </tr>\n",
       "    <tr>\n",
       "      <th>meanshift</th>\n",
       "      <td>Mean Shift Clustering</td>\n",
       "      <td>sklearn.cluster._mean_shift.MeanShift</td>\n",
       "    </tr>\n",
       "    <tr>\n",
       "      <th>sc</th>\n",
       "      <td>Spectral Clustering</td>\n",
       "      <td>sklearn.cluster._spectral.SpectralClustering</td>\n",
       "    </tr>\n",
       "    <tr>\n",
       "      <th>hclust</th>\n",
       "      <td>Agglomerative Clustering</td>\n",
       "      <td>sklearn.cluster._agglomerative.AgglomerativeCl...</td>\n",
       "    </tr>\n",
       "    <tr>\n",
       "      <th>dbscan</th>\n",
       "      <td>Density-Based Spatial Clustering</td>\n",
       "      <td>sklearn.cluster._dbscan.DBSCAN</td>\n",
       "    </tr>\n",
       "    <tr>\n",
       "      <th>optics</th>\n",
       "      <td>OPTICS Clustering</td>\n",
       "      <td>sklearn.cluster._optics.OPTICS</td>\n",
       "    </tr>\n",
       "    <tr>\n",
       "      <th>birch</th>\n",
       "      <td>Birch Clustering</td>\n",
       "      <td>sklearn.cluster._birch.Birch</td>\n",
       "    </tr>\n",
       "    <tr>\n",
       "      <th>kmodes</th>\n",
       "      <td>K-Modes Clustering</td>\n",
       "      <td>kmodes.kmodes.KModes</td>\n",
       "    </tr>\n",
       "  </tbody>\n",
       "</table>\n",
       "</div>"
      ],
      "text/plain": [
       "                                       Name  \\\n",
       "ID                                            \n",
       "kmeans                   K-Means Clustering   \n",
       "ap                     Affinity Propagation   \n",
       "meanshift             Mean Shift Clustering   \n",
       "sc                      Spectral Clustering   \n",
       "hclust             Agglomerative Clustering   \n",
       "dbscan     Density-Based Spatial Clustering   \n",
       "optics                    OPTICS Clustering   \n",
       "birch                      Birch Clustering   \n",
       "kmodes                   K-Modes Clustering   \n",
       "\n",
       "                                                   Reference  \n",
       "ID                                                            \n",
       "kmeans                        sklearn.cluster._kmeans.KMeans  \n",
       "ap         sklearn.cluster._affinity_propagation.Affinity...  \n",
       "meanshift              sklearn.cluster._mean_shift.MeanShift  \n",
       "sc              sklearn.cluster._spectral.SpectralClustering  \n",
       "hclust     sklearn.cluster._agglomerative.AgglomerativeCl...  \n",
       "dbscan                        sklearn.cluster._dbscan.DBSCAN  \n",
       "optics                        sklearn.cluster._optics.OPTICS  \n",
       "birch                           sklearn.cluster._birch.Birch  \n",
       "kmodes                                  kmodes.kmodes.KModes  "
      ]
     },
     "execution_count": 7,
     "metadata": {},
     "output_type": "execute_result"
    }
   ],
   "source": [
    "models()"
   ]
  },
  {
   "cell_type": "code",
   "execution_count": 8,
   "id": "b3d7d253",
   "metadata": {},
   "outputs": [
    {
     "data": {
      "text/html": [
       "<div>\n",
       "<style scoped>\n",
       "    .dataframe tbody tr th:only-of-type {\n",
       "        vertical-align: middle;\n",
       "    }\n",
       "\n",
       "    .dataframe tbody tr th {\n",
       "        vertical-align: top;\n",
       "    }\n",
       "\n",
       "    .dataframe thead th {\n",
       "        text-align: right;\n",
       "    }\n",
       "</style>\n",
       "<table border=\"1\" class=\"dataframe\">\n",
       "  <thead>\n",
       "    <tr style=\"text-align: right;\">\n",
       "      <th></th>\n",
       "      <th>Silhouette</th>\n",
       "      <th>Calinski-Harabasz</th>\n",
       "      <th>Davies-Bouldin</th>\n",
       "      <th>Homogeneity</th>\n",
       "      <th>Rand Index</th>\n",
       "      <th>Completeness</th>\n",
       "    </tr>\n",
       "  </thead>\n",
       "  <tbody>\n",
       "    <tr>\n",
       "      <th>0</th>\n",
       "      <td>0.2115</td>\n",
       "      <td>59.3267</td>\n",
       "      <td>1.5983</td>\n",
       "      <td>0</td>\n",
       "      <td>0</td>\n",
       "      <td>0</td>\n",
       "    </tr>\n",
       "  </tbody>\n",
       "</table>\n",
       "</div>"
      ],
      "text/plain": [
       "   Silhouette  Calinski-Harabasz  Davies-Bouldin  Homogeneity  Rand Index  \\\n",
       "0      0.2115            59.3267          1.5983            0           0   \n",
       "\n",
       "   Completeness  \n",
       "0             0  "
      ]
     },
     "metadata": {},
     "output_type": "display_data"
    }
   ],
   "source": [
    "kmeans = create_model('kmeans')"
   ]
  },
  {
   "cell_type": "code",
   "execution_count": 9,
   "id": "13165c63",
   "metadata": {},
   "outputs": [
    {
     "name": "stdout",
     "output_type": "stream",
     "text": [
      "KMeans(algorithm='auto', copy_x=True, init='k-means++', max_iter=300,\n",
      "       n_clusters=4, n_init=10, n_jobs=-1, precompute_distances='deprecated',\n",
      "       random_state=123, tol=0.0001, verbose=0)\n"
     ]
    }
   ],
   "source": [
    "print(kmeans)"
   ]
  },
  {
   "cell_type": "code",
   "execution_count": 10,
   "id": "6f50d4c2",
   "metadata": {},
   "outputs": [
    {
     "data": {
      "text/html": [
       "<div>\n",
       "<style scoped>\n",
       "    .dataframe tbody tr th:only-of-type {\n",
       "        vertical-align: middle;\n",
       "    }\n",
       "\n",
       "    .dataframe tbody tr th {\n",
       "        vertical-align: top;\n",
       "    }\n",
       "\n",
       "    .dataframe thead th {\n",
       "        text-align: right;\n",
       "    }\n",
       "</style>\n",
       "<table border=\"1\" class=\"dataframe\">\n",
       "  <thead>\n",
       "    <tr style=\"text-align: right;\">\n",
       "      <th></th>\n",
       "      <th>Unnamed: 0</th>\n",
       "      <th>power</th>\n",
       "      <th>humidity</th>\n",
       "      <th>temperature</th>\n",
       "      <th>water_reading</th>\n",
       "      <th>co2</th>\n",
       "      <th>year</th>\n",
       "      <th>month</th>\n",
       "      <th>day</th>\n",
       "      <th>hour</th>\n",
       "      <th>Cluster</th>\n",
       "    </tr>\n",
       "  </thead>\n",
       "  <tbody>\n",
       "    <tr>\n",
       "      <th>0</th>\n",
       "      <td>230</td>\n",
       "      <td>21.615385</td>\n",
       "      <td>29.5</td>\n",
       "      <td>21.92</td>\n",
       "      <td>0.0</td>\n",
       "      <td>462.0</td>\n",
       "      <td>2021</td>\n",
       "      <td>11</td>\n",
       "      <td>24</td>\n",
       "      <td>19</td>\n",
       "      <td>Cluster 3</td>\n",
       "    </tr>\n",
       "    <tr>\n",
       "      <th>1</th>\n",
       "      <td>82</td>\n",
       "      <td>21.111111</td>\n",
       "      <td>26.0</td>\n",
       "      <td>21.86</td>\n",
       "      <td>0.0</td>\n",
       "      <td>403.0</td>\n",
       "      <td>2021</td>\n",
       "      <td>11</td>\n",
       "      <td>21</td>\n",
       "      <td>11</td>\n",
       "      <td>Cluster 0</td>\n",
       "    </tr>\n",
       "    <tr>\n",
       "      <th>2</th>\n",
       "      <td>142</td>\n",
       "      <td>21.416667</td>\n",
       "      <td>23.5</td>\n",
       "      <td>21.21</td>\n",
       "      <td>0.0</td>\n",
       "      <td>427.0</td>\n",
       "      <td>2021</td>\n",
       "      <td>11</td>\n",
       "      <td>22</td>\n",
       "      <td>19</td>\n",
       "      <td>Cluster 0</td>\n",
       "    </tr>\n",
       "    <tr>\n",
       "      <th>3</th>\n",
       "      <td>45</td>\n",
       "      <td>21.500000</td>\n",
       "      <td>27.5</td>\n",
       "      <td>21.80</td>\n",
       "      <td>0.0</td>\n",
       "      <td>399.0</td>\n",
       "      <td>2021</td>\n",
       "      <td>11</td>\n",
       "      <td>20</td>\n",
       "      <td>16</td>\n",
       "      <td>Cluster 0</td>\n",
       "    </tr>\n",
       "    <tr>\n",
       "      <th>4</th>\n",
       "      <td>39</td>\n",
       "      <td>21.166667</td>\n",
       "      <td>27.5</td>\n",
       "      <td>21.24</td>\n",
       "      <td>0.0</td>\n",
       "      <td>411.0</td>\n",
       "      <td>2021</td>\n",
       "      <td>11</td>\n",
       "      <td>20</td>\n",
       "      <td>12</td>\n",
       "      <td>Cluster 0</td>\n",
       "    </tr>\n",
       "  </tbody>\n",
       "</table>\n",
       "</div>"
      ],
      "text/plain": [
       "   Unnamed: 0      power  humidity  temperature  water_reading    co2  year  \\\n",
       "0         230  21.615385      29.5        21.92            0.0  462.0  2021   \n",
       "1          82  21.111111      26.0        21.86            0.0  403.0  2021   \n",
       "2         142  21.416667      23.5        21.21            0.0  427.0  2021   \n",
       "3          45  21.500000      27.5        21.80            0.0  399.0  2021   \n",
       "4          39  21.166667      27.5        21.24            0.0  411.0  2021   \n",
       "\n",
       "   month  day  hour    Cluster  \n",
       "0     11   24    19  Cluster 3  \n",
       "1     11   21    11  Cluster 0  \n",
       "2     11   22    19  Cluster 0  \n",
       "3     11   20    16  Cluster 0  \n",
       "4     11   20    12  Cluster 0  "
      ]
     },
     "execution_count": 10,
     "metadata": {},
     "output_type": "execute_result"
    }
   ],
   "source": [
    "kmean_results = assign_model(kmeans)\n",
    "kmean_results.head()"
   ]
  },
  {
   "cell_type": "code",
   "execution_count": 11,
   "id": "5c4b3c78",
   "metadata": {},
   "outputs": [],
   "source": [
    "#kmodes = create_model('kmodes', num_clusters = 2)"
   ]
  },
  {
   "cell_type": "code",
   "execution_count": 12,
   "id": "c7ccbcae",
   "metadata": {},
   "outputs": [],
   "source": [
    "#plot_model(kmeans)"
   ]
  },
  {
   "cell_type": "code",
   "execution_count": 13,
   "id": "e1849649",
   "metadata": {},
   "outputs": [
    {
     "data": {
      "application/vnd.plotly.v1+json": {
       "config": {
        "plotlyServerURL": "https://plot.ly"
       },
       "data": [
        {
         "customdata": [
          [
           57
          ],
          [
           8
          ],
          [
           18
          ],
          [
           58
          ],
          [
           79
          ],
          [
           51
          ],
          [
           7
          ],
          [
           100
          ],
          [
           147
          ],
          [
           187
          ],
          [
           41
          ],
          [
           32
          ],
          [
           148
          ],
          [
           12
          ],
          [
           13
          ],
          [
           94
          ],
          [
           21
          ],
          [
           193
          ],
          [
           143
          ],
          [
           85
          ],
          [
           104
          ],
          [
           56
          ],
          [
           183
          ],
          [
           38
          ],
          [
           83
          ],
          [
           141
          ],
          [
           35
          ],
          [
           102
          ],
          [
           44
          ],
          [
           101
          ],
          [
           88
          ],
          [
           190
          ],
          [
           91
          ],
          [
           194
          ],
          [
           98
          ],
          [
           37
          ],
          [
           9
          ],
          [
           59
          ],
          [
           184
          ],
          [
           30
          ],
          [
           10
          ],
          [
           11
          ],
          [
           14
          ],
          [
           19
          ],
          [
           43
          ],
          [
           49
          ],
          [
           191
          ],
          [
           53
          ],
          [
           138
          ],
          [
           27
          ],
          [
           16
          ],
          [
           188
          ],
          [
           24
          ],
          [
           80
          ],
          [
           34
          ],
          [
           96
          ],
          [
           140
          ],
          [
           93
          ],
          [
           15
          ],
          [
           50
          ],
          [
           139
          ],
          [
           22
          ],
          [
           89
          ],
          [
           99
          ],
          [
           25
          ],
          [
           145
          ],
          [
           189
          ],
          [
           95
          ],
          [
           84
          ],
          [
           17
          ],
          [
           77
          ],
          [
           55
          ],
          [
           6
          ],
          [
           23
          ],
          [
           86
          ],
          [
           60
          ],
          [
           54
          ],
          [
           90
          ],
          [
           36
          ],
          [
           97
          ],
          [
           46
          ],
          [
           146
          ],
          [
           4
          ],
          [
           40
          ],
          [
           144
          ],
          [
           82
          ],
          [
           47
          ],
          [
           33
          ],
          [
           28
          ],
          [
           185
          ],
          [
           31
          ],
          [
           42
          ],
          [
           192
          ],
          [
           142
          ],
          [
           92
          ],
          [
           81
          ],
          [
           45
          ],
          [
           39
          ],
          [
           29
          ],
          [
           186
          ],
          [
           48
          ],
          [
           26
          ]
         ],
         "hovertemplate": "Cluster=Cluster 0<br>PCA1=%{x}<br>PCA2=%{y}<br>Feature=%{customdata[0]}<extra></extra>",
         "legendgroup": "Cluster 0",
         "marker": {
          "color": "#636efa",
          "opacity": 0.5,
          "symbol": "circle"
         },
         "mode": "markers",
         "name": "Cluster 0",
         "orientation": "v",
         "showlegend": true,
         "textposition": "top center",
         "type": "scatter",
         "x": [
          -0.6113539934158325,
          -0.2962633967399597,
          -2.221113920211792,
          -0.5584829449653625,
          -1.0156995058059692,
          -0.8266674876213074,
          -0.20497266948223114,
          -0.6245636940002441,
          -0.37139832973480225,
          0.2847874164581299,
          -1.3893585205078125,
          -2.572805166244507,
          -0.3702971637248993,
          -0.6932373642921448,
          -0.8938478231430054,
          -0.5515275597572327,
          -2.4312074184417725,
          -0.038981843739748,
          -0.5805600881576538,
          -0.7988259196281433,
          -0.7025355696678162,
          -0.6320093870162964,
          0.44354748725891113,
          -2.094940662384033,
          -0.8685230016708374,
          -0.6715272665023804,
          -2.485015392303467,
          -0.6056913733482361,
          -1.0227614641189575,
          -0.6215187311172485,
          -0.7002173662185669,
          0.007746116723865271,
          -0.6084103584289551,
          -0.059441179037094116,
          -0.6005550622940063,
          -2.354161262512207,
          -0.3308302164077759,
          -0.5727536082267761,
          0.4557722508907318,
          -2.59717059135437,
          -0.4101841449737549,
          -0.4556756913661957,
          -0.9609158039093018,
          -2.2872586250305176,
          -1.1358213424682617,
          -0.867700457572937,
          -0.011248006485402584,
          -0.7865333557128906,
          -0.757418155670166,
          -2.6118879318237305,
          -2.087766647338867,
          0.1631820946931839,
          -2.590769052505493,
          -1.0096577405929565,
          -2.574645519256592,
          -0.580146312713623,
          -0.7114589810371399,
          -0.5858922600746155,
          -1.1621274948120117,
          -0.8434469103813171,
          -0.7489601969718933,
          -2.492443323135376,
          -0.6519694328308105,
          -0.603690505027771,
          -2.61957049369812,
          -0.4531647562980652,
          0.09455230832099915,
          -0.5611789226531982,
          -0.8097376823425293,
          -2.2194149494171143,
          -1.2093820571899414,
          -0.6625669002532959,
          -0.14438313245773315,
          -2.5536465644836426,
          -0.7981733679771423,
          -0.5859139561653137,
          -0.6902093887329102,
          -0.6360941529273987,
          -2.4986679553985596,
          -0.5957083106040955,
          -1.0708235502243042,
          -0.45699915289878845,
          0.19795586168766022,
          -1.509219765663147,
          -0.5470753312110901,
          -0.9072082042694092,
          -0.9818148612976074,
          -2.6084957122802734,
          -2.616644859313965,
          0.4982059895992279,
          -2.6078341007232666,
          -1.2439340353012085,
          -0.07397165894508362,
          -0.6645689606666565,
          -0.5867376923561096,
          -0.929006814956665,
          -1.125918984413147,
          -1.7036488056182861,
          -2.6170408725738525,
          0.35737279057502747,
          -0.926700234413147,
          -2.629744052886963
         ],
         "xaxis": "x",
         "y": [
          -1.6101467609405518,
          -2.4863555431365967,
          -0.36220085620880127,
          -1.529780626296997,
          -0.44636785984039307,
          -1.3411537408828735,
          -2.4128825664520264,
          -0.71841961145401,
          0.05425634980201721,
          0.13023065030574799,
          -0.5231730937957764,
          0.5149106979370117,
          0.04233627766370773,
          -1.9626338481903076,
          -1.6636284589767456,
          -0.7965763807296753,
          0.11956081539392471,
          -0.06080099195241928,
          0.37578585743904114,
          -0.628650963306427,
          -0.3476458787918091,
          -1.7564737796783447,
          0.07946839928627014,
          0.0772184282541275,
          -0.7012284994125366,
          0.5855308175086975,
          0.429547518491745,
          -0.5741023421287537,
          -0.829816460609436,
          -0.5556867122650146,
          -0.723377525806427,
          0.10899892449378967,
          -0.8050533533096313,
          -0.05340740457177162,
          -0.8003101944923401,
          0.2814309000968933,
          -2.2569940090179443,
          -1.6828683614730835,
          0.22033889591693878,
          0.5025187730789185,
          -2.2154815196990967,
          -2.1373915672302246,
          -1.5663301944732666,
          -0.0950402170419693,
          -0.77315354347229,
          -1.2300235033035278,
          0.043650656938552856,
          -1.4621484279632568,
          0.7822290658950806,
          0.4451412260532379,
          -0.38464275002479553,
          0.17297686636447906,
          0.30757126212120056,
          -0.4445314407348633,
          0.3205070197582245,
          -0.7259203791618347,
          0.684743344783783,
          -0.9195470213890076,
          -1.3698655366897583,
          -1.3330105543136597,
          0.6745752096176147,
          0.19338417053222656,
          -0.7701490521430969,
          -0.6167823672294617,
          0.400161474943161,
          0.14131318032741547,
          0.15735860168933868,
          -0.7986281514167786,
          -0.5966756343841553,
          -0.254129558801651,
          -0.26719406247138977,
          -1.5508487224578857,
          -2.498779535293579,
          0.31448039412498474,
          -0.6439946293830872,
          -1.562844157218933,
          -1.5336790084838867,
          -0.900996208190918,
          0.3768845498561859,
          -0.7051026821136475,
          -1.0007435083389282,
          0.1156773492693901,
          -2.6960697174072266,
          -0.4064085781574249,
          0.2882130742073059,
          -0.5135872960090637,
          -1.114051103591919,
          0.4061342477798462,
          0.45649391412734985,
          0.19715382158756256,
          0.4897409975528717,
          -0.6556538939476013,
          0.05217800289392471,
          0.5503590703010559,
          -0.8468340635299683,
          -0.5197982788085938,
          -0.941247284412384,
          -0.21225684881210327,
          0.3143254816532135,
          0.049225471913814545,
          -1.36013925075531,
          0.2753145098686218
         ],
         "yaxis": "y"
        },
        {
         "customdata": [
          [
           210
          ],
          [
           298
          ],
          [
           217
          ],
          [
           178
          ],
          [
           120
          ],
          [
           182
          ],
          [
           212
          ],
          [
           125
          ],
          [
           171
          ],
          [
           126
          ],
          [
           131
          ],
          [
           122
          ],
          [
           124
          ],
          [
           308
          ],
          [
           174
          ],
          [
           309
          ],
          [
           129
          ],
          [
           133
          ],
          [
           300
          ],
          [
           175
          ],
          [
           307
          ],
          [
           137
          ],
          [
           167
          ],
          [
           181
          ],
          [
           213
          ],
          [
           135
          ],
          [
           130
          ],
          [
           180
          ],
          [
           179
          ],
          [
           170
          ],
          [
           172
          ],
          [
           166
          ],
          [
           134
          ],
          [
           136
          ],
          [
           127
          ],
          [
           123
          ],
          [
           173
          ],
          [
           128
          ],
          [
           121
          ],
          [
           177
          ],
          [
           169
          ],
          [
           214
          ],
          [
           168
          ]
         ],
         "hovertemplate": "Cluster=Cluster 1<br>PCA1=%{x}<br>PCA2=%{y}<br>Feature=%{customdata[0]}<extra></extra>",
         "legendgroup": "Cluster 1",
         "marker": {
          "color": "#EF553B",
          "opacity": 0.5,
          "symbol": "circle"
         },
         "mode": "markers",
         "name": "Cluster 1",
         "orientation": "v",
         "showlegend": true,
         "textposition": "top center",
         "type": "scatter",
         "x": [
          1.7721284627914429,
          1.3208980560302734,
          2.857494831085205,
          1.3728740215301514,
          -1.1415916681289673,
          0.8805146217346191,
          2.5243468284606934,
          -0.3263120949268341,
          1.213843584060669,
          0.01861787959933281,
          0.17329661548137665,
          0.9910659790039062,
          0.5643724799156189,
          1.4869886636734009,
          1.3929026126861572,
          1.6098871231079102,
          0.030284887179732323,
          0.9735262393951416,
          1.8421647548675537,
          1.369692325592041,
          2.530435562133789,
          -0.38810598850250244,
          0.6262204051017761,
          1.1526753902435303,
          4.254415988922119,
          0.9162163734436035,
          0.08869971334934235,
          1.911107063293457,
          1.5121867656707764,
          1.1174240112304688,
          1.1482449769973755,
          1.1134744882583618,
          0.20469190180301666,
          -0.12093140184879303,
          -0.27499568462371826,
          -0.2818751633167267,
          2.0962326526641846,
          0.5544991493225098,
          -0.048629745841026306,
          2.011509895324707,
          1.5822018384933472,
          2.4322307109832764,
          0.5237918496131897
         ],
         "xaxis": "x",
         "y": [
          1.0469495058059692,
          2.2594165802001953,
          0.9421646595001221,
          0.8499810099601746,
          1.8502073287963867,
          0.6939182877540588,
          2.126237154006958,
          2.1239707469940186,
          1.2364740371704102,
          2.031597852706909,
          1.1815121173858643,
          4.879359245300293,
          4.022308349609375,
          1.7995139360427856,
          1.041253924369812,
          1.7230008840560913,
          2.0016262531280518,
          2.394979238510132,
          2.7693517208099365,
          0.8917638659477234,
          3.4347991943359375,
          1.3447527885437012,
          1.4301307201385498,
          0.612838864326477,
          4.7226972579956055,
          2.7974789142608643,
          1.7955310344696045,
          1.7731350660324097,
          0.9665966629981995,
          1.2602287530899048,
          0.7084991931915283,
          2.358433485031128,
          1.4724773168563843,
          1.3901416063308716,
          1.4324926137924194,
          2.7379069328308105,
          1.9585886001586914,
          2.8105671405792236,
          3.1873514652252197,
          1.944090485572815,
          2.579496145248413,
          0.76283198595047,
          1.3960368633270264
         ],
         "yaxis": "y"
        },
        {
         "customdata": [
          [
           105
          ],
          [
           199
          ],
          [
           284
          ],
          [
           204
          ],
          [
           71
          ],
          [
           116
          ],
          [
           245
          ],
          [
           295
          ],
          [
           201
          ],
          [
           62
          ],
          [
           157
          ],
          [
           247
          ],
          [
           118
          ],
          [
           152
          ],
          [
           110
          ],
          [
           285
          ],
          [
           74
          ],
          [
           304
          ],
          [
           293
          ],
          [
           149
          ],
          [
           289
          ],
          [
           208
          ],
          [
           283
          ],
          [
           162
          ],
          [
           154
          ],
          [
           249
          ],
          [
           76
          ],
          [
           155
          ],
          [
           111
          ],
          [
           244
          ],
          [
           108
          ],
          [
           302
          ],
          [
           297
          ],
          [
           243
          ],
          [
           301
          ],
          [
           303
          ],
          [
           150
          ],
          [
           288
          ],
          [
           61
          ],
          [
           70
          ],
          [
           159
          ],
          [
           73
          ],
          [
           161
          ],
          [
           115
          ],
          [
           290
          ],
          [
           66
          ],
          [
           296
          ],
          [
           75
          ],
          [
           65
          ],
          [
           206
          ],
          [
           151
          ],
          [
           291
          ],
          [
           119
          ],
          [
           153
          ],
          [
           207
          ],
          [
           68
          ],
          [
           165
          ],
          [
           78
          ],
          [
           241
          ],
          [
           164
          ],
          [
           305
          ],
          [
           196
          ],
          [
           158
          ],
          [
           238
          ],
          [
           109
          ],
          [
           287
          ],
          [
           63
          ],
          [
           117
          ],
          [
           107
          ],
          [
           205
          ],
          [
           242
          ],
          [
           106
          ],
          [
           64
          ],
          [
           306
          ],
          [
           246
          ],
          [
           200
          ],
          [
           160
          ],
          [
           197
          ],
          [
           299
          ],
          [
           163
          ],
          [
           198
          ],
          [
           240
          ],
          [
           195
          ],
          [
           112
          ],
          [
           113
          ],
          [
           292
          ],
          [
           239
          ],
          [
           294
          ],
          [
           248
          ],
          [
           114
          ],
          [
           69
          ],
          [
           72
          ],
          [
           156
          ],
          [
           203
          ],
          [
           67
          ],
          [
           250
          ]
         ],
         "hovertemplate": "Cluster=Cluster 2<br>PCA1=%{x}<br>PCA2=%{y}<br>Feature=%{customdata[0]}<extra></extra>",
         "legendgroup": "Cluster 2",
         "marker": {
          "color": "#00cc96",
          "opacity": 0.5,
          "symbol": "circle"
         },
         "mode": "markers",
         "name": "Cluster 2",
         "orientation": "v",
         "showlegend": true,
         "textposition": "top center",
         "type": "scatter",
         "x": [
          -1.457552194595337,
          -0.44997838139533997,
          0.6224962472915649,
          -0.11564576625823975,
          -1.1264840364456177,
          -1.5192753076553345,
          0.43258634209632874,
          0.5416953563690186,
          -0.316060334444046,
          -1.2599856853485107,
          -1.1644147634506226,
          0.5531690120697021,
          -1.5714162588119507,
          -1.1139861345291138,
          -1.5708929300308228,
          0.502598226070404,
          -1.1524713039398193,
          1.046102523803711,
          0.513912558555603,
          -1.0541201829910278,
          0.45833641290664673,
          0.48627063632011414,
          0.7805674076080322,
          -0.8437215685844421,
          -1.2139334678649902,
          0.698121190071106,
          -1.2160536050796509,
          -1.2439666986465454,
          -1.617035150527954,
          0.35777848958969116,
          -1.4932180643081665,
          1.2263861894607544,
          0.3942990005016327,
          0.3521355986595154,
          1.1821391582489014,
          1.2733356952667236,
          -1.109382152557373,
          0.47383153438568115,
          -1.266579031944275,
          -1.1541417837142944,
          -1.1091817617416382,
          -1.1261497735977173,
          -0.9267951846122742,
          -1.5410929918289185,
          0.4891647696495056,
          -1.1032615900039673,
          0.44808194041252136,
          -1.117468237876892,
          -1.119137167930603,
          0.00931851752102375,
          -1.1513394117355347,
          0.49349820613861084,
          -1.2567179203033447,
          -1.171871304512024,
          0.058530185371637344,
          -1.1593308448791504,
          -0.18806737661361694,
          -1.1577460765838623,
          0.30728816986083984,
          -0.4733210802078247,
          1.0040427446365356,
          -0.5904431939125061,
          -1.1691298484802246,
          0.40855348110198975,
          -1.4989243745803833,
          0.4845167398452759,
          -1.203394889831543,
          -1.527520775794983,
          -1.4320087432861328,
          -0.05559338629245758,
          0.3240825831890106,
          -1.4420315027236938,
          -1.1713132858276367,
          0.909069299697876,
          0.5190885066986084,
          -0.3895852267742157,
          -1.016731858253479,
          -0.5411571860313416,
          0.9933667778968811,
          -0.7979302406311035,
          -0.4605163335800171,
          0.30614182353019714,
          -0.6891950964927673,
          -1.6485958099365234,
          -1.6385860443115234,
          0.49048087000846863,
          0.307509183883667,
          0.524829089641571,
          0.6332184672355652,
          -1.600155234336853,
          -1.1700063943862915,
          -1.1466643810272217,
          -1.1969512701034546,
          -0.21784375607967377,
          -1.1536259651184082,
          0.7316344380378723
         ],
         "xaxis": "x",
         "y": [
          0.5746315121650696,
          0.2347891926765442,
          0.4717823565006256,
          -0.027124345302581787,
          -0.4280063211917877,
          1.0831531286239624,
          -0.8918375968933105,
          0.6686752438545227,
          0.0261385440826416,
          -0.516689121723175,
          0.9054823517799377,
          -1.2131853103637695,
          1.3370206356048584,
          0.9853717684745789,
          1.022835373878479,
          0.4216778576374054,
          -0.39446690678596497,
          0.8207446932792664,
          0.7080969214439392,
          0.897724986076355,
          0.6490146517753601,
          -0.3337717056274414,
          0.2549504041671753,
          0.4837228059768677,
          0.9862047433853149,
          -1.1858307123184204,
          -0.43065136671066284,
          0.8287003636360168,
          0.7155152559280396,
          -0.839958131313324,
          0.8908738493919373,
          1.289359450340271,
          0.9819076657295227,
          -0.9545539021492004,
          1.3867263793945312,
          1.1198869943618774,
          0.9961792230606079,
          0.6277051568031311,
          -0.5227331519126892,
          -0.4109530746936798,
          0.8237331509590149,
          -0.42509588599205017,
          0.4216785430908203,
          1.076799988746643,
          0.6476433277130127,
          -0.5399785041809082,
          0.909039318561554,
          -0.36949166655540466,
          -0.5219324827194214,
          -0.15221841633319855,
          0.9075554013252258,
          0.6518756151199341,
          1.4572545289993286,
          1.0068714618682861,
          -0.1886151283979416,
          -0.4269830286502838,
          0.769615888595581,
          -0.47187790274620056,
          -0.7696517705917358,
          0.7504765391349792,
          0.847141444683075,
          0.49358707666397095,
          0.9171513319015503,
          -0.683170735836029,
          0.8919550776481628,
          0.6406510472297668,
          -0.5108186602592468,
          1.1457772254943848,
          0.769810676574707,
          -0.07271606475114822,
          -0.7776817679405212,
          0.7645663619041443,
          -0.6778851747512817,
          0.8264713287353516,
          -0.9904055595397949,
          0.30457571148872375,
          0.7496063709259033,
          0.45773863792419434,
          1.5323749780654907,
          0.6149066686630249,
          0.38241496682167053,
          -0.7580918073654175,
          0.627470076084137,
          1.1545627117156982,
          1.1597298383712769,
          0.4927399456501007,
          -0.8070911765098572,
          0.676154613494873,
          -1.1062573194503784,
          1.1329658031463623,
          -0.3928241729736328,
          -0.6291760802268982,
          0.956281304359436,
          0.06755363941192627,
          -0.4280793368816376,
          -1.2261539697647095
         ],
         "yaxis": "y"
        },
        {
         "customdata": [
          [
           282
          ],
          [
           3
          ],
          [
           251
          ],
          [
           263
          ],
          [
           232
          ],
          [
           223
          ],
          [
           271
          ],
          [
           0
          ],
          [
           233
          ],
          [
           255
          ],
          [
           260
          ],
          [
           275
          ],
          [
           261
          ],
          [
           266
          ],
          [
           218
          ],
          [
           222
          ],
          [
           277
          ],
          [
           229
          ],
          [
           274
          ],
          [
           219
          ],
          [
           272
          ],
          [
           268
          ],
          [
           273
          ],
          [
           216
          ],
          [
           209
          ],
          [
           270
          ],
          [
           259
          ],
          [
           220
          ],
          [
           280
          ],
          [
           264
          ],
          [
           1
          ],
          [
           228
          ],
          [
           252
          ],
          [
           269
          ],
          [
           253
          ],
          [
           211
          ],
          [
           234
          ],
          [
           281
          ],
          [
           225
          ],
          [
           258
          ],
          [
           254
          ],
          [
           2
          ],
          [
           265
          ],
          [
           237
          ],
          [
           227
          ],
          [
           235
          ],
          [
           256
          ],
          [
           262
          ],
          [
           278
          ],
          [
           226
          ],
          [
           257
          ],
          [
           236
          ],
          [
           224
          ],
          [
           230
          ]
         ],
         "hovertemplate": "Cluster=Cluster 3<br>PCA1=%{x}<br>PCA2=%{y}<br>Feature=%{customdata[0]}<extra></extra>",
         "legendgroup": "Cluster 3",
         "marker": {
          "color": "#ab63fa",
          "opacity": 0.5,
          "symbol": "circle"
         },
         "mode": "markers",
         "name": "Cluster 3",
         "orientation": "v",
         "showlegend": true,
         "textposition": "top center",
         "type": "scatter",
         "x": [
          1.6677759885787964,
          0.5940487384796143,
          0.7691044807434082,
          3.195070505142212,
          1.436153769493103,
          2.238813877105713,
          2.0504400730133057,
          1.5042065382003784,
          1.4107180833816528,
          1.5029956102371216,
          2.190932512283325,
          2.071638584136963,
          2.2093234062194824,
          2.6135690212249756,
          2.32788348197937,
          2.418870449066162,
          2.027076482772827,
          1.4103760719299316,
          2.158879041671753,
          2.1312925815582275,
          2.0878474712371826,
          2.8183488845825195,
          2.1544175148010254,
          1.7573946714401245,
          0.7543467283248901,
          2.2629899978637695,
          2.3907971382141113,
          1.9331080913543701,
          1.7809200286865234,
          3.1012089252471924,
          1.5499541759490967,
          1.3719232082366943,
          0.8759275078773499,
          2.4241085052490234,
          1.241780400276184,
          1.3284401893615723,
          1.3331372737884521,
          1.7545779943466187,
          1.649212121963501,
          2.2903943061828613,
          1.4306660890579224,
          1.0978522300720215,
          3.205859422683716,
          1.1035716533660889,
          1.3078992366790771,
          1.2584055662155151,
          1.8029224872589111,
          2.3423914909362793,
          1.9511390924453735,
          1.452677845954895,
          1.923734426498413,
          1.1613587141036987,
          2.0138652324676514,
          1.4693821668624878
         ],
         "xaxis": "x",
         "y": [
          -0.7592800855636597,
          -2.914915084838867,
          -1.2632521390914917,
          -0.11279558390378952,
          -0.9434396624565125,
          -0.39729732275009155,
          -1.0657352209091187,
          -2.9056293964385986,
          -0.950074315071106,
          -1.3863261938095093,
          -1.4101147651672363,
          -1.3010621070861816,
          -1.304984211921692,
          -1.3479582071304321,
          0.05253804102540016,
          -0.014691084623336792,
          -1.0835084915161133,
          -0.7572739720344543,
          -1.1803853511810303,
          -0.1207120418548584,
          -1.2411649227142334,
          -0.8895384669303894,
          -1.3228394985198975,
          -0.4415345788002014,
          -0.09025189280509949,
          -1.1226091384887695,
          -0.8236610889434814,
          -0.6515069007873535,
          -0.832229733467102,
          -0.8365952372550964,
          -2.8905842304229736,
          -0.7306962013244629,
          -1.2483959197998047,
          -1.2691693305969238,
          -1.1247674226760864,
          0.3778628408908844,
          -1.2149971723556519,
          -0.8487883806228638,
          -0.6492586135864258,
          -0.8033398389816284,
          -1.050078272819519,
          -3.083543300628662,
          -0.8085585832595825,
          -1.4105722904205322,
          -0.7354745864868164,
          -1.3789622783660889,
          -1.1108531951904297,
          -1.4029427766799927,
          -1.0030032396316528,
          -0.7750499248504639,
          -1.2720657587051392,
          -1.4328042268753052,
          -0.4441147446632385,
          -0.8138654232025146
         ],
         "yaxis": "y"
        }
       ],
       "layout": {
        "height": 600,
        "legend": {
         "title": {
          "text": "Cluster"
         },
         "tracegroupgap": 0
        },
        "margin": {
         "t": 60
        },
        "plot_bgcolor": "rgb(240,240,240)",
        "template": {
         "data": {
          "bar": [
           {
            "error_x": {
             "color": "#2a3f5f"
            },
            "error_y": {
             "color": "#2a3f5f"
            },
            "marker": {
             "line": {
              "color": "#E5ECF6",
              "width": 0.5
             },
             "pattern": {
              "fillmode": "overlay",
              "size": 10,
              "solidity": 0.2
             }
            },
            "type": "bar"
           }
          ],
          "barpolar": [
           {
            "marker": {
             "line": {
              "color": "#E5ECF6",
              "width": 0.5
             },
             "pattern": {
              "fillmode": "overlay",
              "size": 10,
              "solidity": 0.2
             }
            },
            "type": "barpolar"
           }
          ],
          "carpet": [
           {
            "aaxis": {
             "endlinecolor": "#2a3f5f",
             "gridcolor": "white",
             "linecolor": "white",
             "minorgridcolor": "white",
             "startlinecolor": "#2a3f5f"
            },
            "baxis": {
             "endlinecolor": "#2a3f5f",
             "gridcolor": "white",
             "linecolor": "white",
             "minorgridcolor": "white",
             "startlinecolor": "#2a3f5f"
            },
            "type": "carpet"
           }
          ],
          "choropleth": [
           {
            "colorbar": {
             "outlinewidth": 0,
             "ticks": ""
            },
            "type": "choropleth"
           }
          ],
          "contour": [
           {
            "colorbar": {
             "outlinewidth": 0,
             "ticks": ""
            },
            "colorscale": [
             [
              0,
              "#0d0887"
             ],
             [
              0.1111111111111111,
              "#46039f"
             ],
             [
              0.2222222222222222,
              "#7201a8"
             ],
             [
              0.3333333333333333,
              "#9c179e"
             ],
             [
              0.4444444444444444,
              "#bd3786"
             ],
             [
              0.5555555555555556,
              "#d8576b"
             ],
             [
              0.6666666666666666,
              "#ed7953"
             ],
             [
              0.7777777777777778,
              "#fb9f3a"
             ],
             [
              0.8888888888888888,
              "#fdca26"
             ],
             [
              1,
              "#f0f921"
             ]
            ],
            "type": "contour"
           }
          ],
          "contourcarpet": [
           {
            "colorbar": {
             "outlinewidth": 0,
             "ticks": ""
            },
            "type": "contourcarpet"
           }
          ],
          "heatmap": [
           {
            "colorbar": {
             "outlinewidth": 0,
             "ticks": ""
            },
            "colorscale": [
             [
              0,
              "#0d0887"
             ],
             [
              0.1111111111111111,
              "#46039f"
             ],
             [
              0.2222222222222222,
              "#7201a8"
             ],
             [
              0.3333333333333333,
              "#9c179e"
             ],
             [
              0.4444444444444444,
              "#bd3786"
             ],
             [
              0.5555555555555556,
              "#d8576b"
             ],
             [
              0.6666666666666666,
              "#ed7953"
             ],
             [
              0.7777777777777778,
              "#fb9f3a"
             ],
             [
              0.8888888888888888,
              "#fdca26"
             ],
             [
              1,
              "#f0f921"
             ]
            ],
            "type": "heatmap"
           }
          ],
          "heatmapgl": [
           {
            "colorbar": {
             "outlinewidth": 0,
             "ticks": ""
            },
            "colorscale": [
             [
              0,
              "#0d0887"
             ],
             [
              0.1111111111111111,
              "#46039f"
             ],
             [
              0.2222222222222222,
              "#7201a8"
             ],
             [
              0.3333333333333333,
              "#9c179e"
             ],
             [
              0.4444444444444444,
              "#bd3786"
             ],
             [
              0.5555555555555556,
              "#d8576b"
             ],
             [
              0.6666666666666666,
              "#ed7953"
             ],
             [
              0.7777777777777778,
              "#fb9f3a"
             ],
             [
              0.8888888888888888,
              "#fdca26"
             ],
             [
              1,
              "#f0f921"
             ]
            ],
            "type": "heatmapgl"
           }
          ],
          "histogram": [
           {
            "marker": {
             "pattern": {
              "fillmode": "overlay",
              "size": 10,
              "solidity": 0.2
             }
            },
            "type": "histogram"
           }
          ],
          "histogram2d": [
           {
            "colorbar": {
             "outlinewidth": 0,
             "ticks": ""
            },
            "colorscale": [
             [
              0,
              "#0d0887"
             ],
             [
              0.1111111111111111,
              "#46039f"
             ],
             [
              0.2222222222222222,
              "#7201a8"
             ],
             [
              0.3333333333333333,
              "#9c179e"
             ],
             [
              0.4444444444444444,
              "#bd3786"
             ],
             [
              0.5555555555555556,
              "#d8576b"
             ],
             [
              0.6666666666666666,
              "#ed7953"
             ],
             [
              0.7777777777777778,
              "#fb9f3a"
             ],
             [
              0.8888888888888888,
              "#fdca26"
             ],
             [
              1,
              "#f0f921"
             ]
            ],
            "type": "histogram2d"
           }
          ],
          "histogram2dcontour": [
           {
            "colorbar": {
             "outlinewidth": 0,
             "ticks": ""
            },
            "colorscale": [
             [
              0,
              "#0d0887"
             ],
             [
              0.1111111111111111,
              "#46039f"
             ],
             [
              0.2222222222222222,
              "#7201a8"
             ],
             [
              0.3333333333333333,
              "#9c179e"
             ],
             [
              0.4444444444444444,
              "#bd3786"
             ],
             [
              0.5555555555555556,
              "#d8576b"
             ],
             [
              0.6666666666666666,
              "#ed7953"
             ],
             [
              0.7777777777777778,
              "#fb9f3a"
             ],
             [
              0.8888888888888888,
              "#fdca26"
             ],
             [
              1,
              "#f0f921"
             ]
            ],
            "type": "histogram2dcontour"
           }
          ],
          "mesh3d": [
           {
            "colorbar": {
             "outlinewidth": 0,
             "ticks": ""
            },
            "type": "mesh3d"
           }
          ],
          "parcoords": [
           {
            "line": {
             "colorbar": {
              "outlinewidth": 0,
              "ticks": ""
             }
            },
            "type": "parcoords"
           }
          ],
          "pie": [
           {
            "automargin": true,
            "type": "pie"
           }
          ],
          "scatter": [
           {
            "marker": {
             "colorbar": {
              "outlinewidth": 0,
              "ticks": ""
             }
            },
            "type": "scatter"
           }
          ],
          "scatter3d": [
           {
            "line": {
             "colorbar": {
              "outlinewidth": 0,
              "ticks": ""
             }
            },
            "marker": {
             "colorbar": {
              "outlinewidth": 0,
              "ticks": ""
             }
            },
            "type": "scatter3d"
           }
          ],
          "scattercarpet": [
           {
            "marker": {
             "colorbar": {
              "outlinewidth": 0,
              "ticks": ""
             }
            },
            "type": "scattercarpet"
           }
          ],
          "scattergeo": [
           {
            "marker": {
             "colorbar": {
              "outlinewidth": 0,
              "ticks": ""
             }
            },
            "type": "scattergeo"
           }
          ],
          "scattergl": [
           {
            "marker": {
             "colorbar": {
              "outlinewidth": 0,
              "ticks": ""
             }
            },
            "type": "scattergl"
           }
          ],
          "scattermapbox": [
           {
            "marker": {
             "colorbar": {
              "outlinewidth": 0,
              "ticks": ""
             }
            },
            "type": "scattermapbox"
           }
          ],
          "scatterpolar": [
           {
            "marker": {
             "colorbar": {
              "outlinewidth": 0,
              "ticks": ""
             }
            },
            "type": "scatterpolar"
           }
          ],
          "scatterpolargl": [
           {
            "marker": {
             "colorbar": {
              "outlinewidth": 0,
              "ticks": ""
             }
            },
            "type": "scatterpolargl"
           }
          ],
          "scatterternary": [
           {
            "marker": {
             "colorbar": {
              "outlinewidth": 0,
              "ticks": ""
             }
            },
            "type": "scatterternary"
           }
          ],
          "surface": [
           {
            "colorbar": {
             "outlinewidth": 0,
             "ticks": ""
            },
            "colorscale": [
             [
              0,
              "#0d0887"
             ],
             [
              0.1111111111111111,
              "#46039f"
             ],
             [
              0.2222222222222222,
              "#7201a8"
             ],
             [
              0.3333333333333333,
              "#9c179e"
             ],
             [
              0.4444444444444444,
              "#bd3786"
             ],
             [
              0.5555555555555556,
              "#d8576b"
             ],
             [
              0.6666666666666666,
              "#ed7953"
             ],
             [
              0.7777777777777778,
              "#fb9f3a"
             ],
             [
              0.8888888888888888,
              "#fdca26"
             ],
             [
              1,
              "#f0f921"
             ]
            ],
            "type": "surface"
           }
          ],
          "table": [
           {
            "cells": {
             "fill": {
              "color": "#EBF0F8"
             },
             "line": {
              "color": "white"
             }
            },
            "header": {
             "fill": {
              "color": "#C8D4E3"
             },
             "line": {
              "color": "white"
             }
            },
            "type": "table"
           }
          ]
         },
         "layout": {
          "annotationdefaults": {
           "arrowcolor": "#2a3f5f",
           "arrowhead": 0,
           "arrowwidth": 1
          },
          "autotypenumbers": "strict",
          "coloraxis": {
           "colorbar": {
            "outlinewidth": 0,
            "ticks": ""
           }
          },
          "colorscale": {
           "diverging": [
            [
             0,
             "#8e0152"
            ],
            [
             0.1,
             "#c51b7d"
            ],
            [
             0.2,
             "#de77ae"
            ],
            [
             0.3,
             "#f1b6da"
            ],
            [
             0.4,
             "#fde0ef"
            ],
            [
             0.5,
             "#f7f7f7"
            ],
            [
             0.6,
             "#e6f5d0"
            ],
            [
             0.7,
             "#b8e186"
            ],
            [
             0.8,
             "#7fbc41"
            ],
            [
             0.9,
             "#4d9221"
            ],
            [
             1,
             "#276419"
            ]
           ],
           "sequential": [
            [
             0,
             "#0d0887"
            ],
            [
             0.1111111111111111,
             "#46039f"
            ],
            [
             0.2222222222222222,
             "#7201a8"
            ],
            [
             0.3333333333333333,
             "#9c179e"
            ],
            [
             0.4444444444444444,
             "#bd3786"
            ],
            [
             0.5555555555555556,
             "#d8576b"
            ],
            [
             0.6666666666666666,
             "#ed7953"
            ],
            [
             0.7777777777777778,
             "#fb9f3a"
            ],
            [
             0.8888888888888888,
             "#fdca26"
            ],
            [
             1,
             "#f0f921"
            ]
           ],
           "sequentialminus": [
            [
             0,
             "#0d0887"
            ],
            [
             0.1111111111111111,
             "#46039f"
            ],
            [
             0.2222222222222222,
             "#7201a8"
            ],
            [
             0.3333333333333333,
             "#9c179e"
            ],
            [
             0.4444444444444444,
             "#bd3786"
            ],
            [
             0.5555555555555556,
             "#d8576b"
            ],
            [
             0.6666666666666666,
             "#ed7953"
            ],
            [
             0.7777777777777778,
             "#fb9f3a"
            ],
            [
             0.8888888888888888,
             "#fdca26"
            ],
            [
             1,
             "#f0f921"
            ]
           ]
          },
          "colorway": [
           "#636efa",
           "#EF553B",
           "#00cc96",
           "#ab63fa",
           "#FFA15A",
           "#19d3f3",
           "#FF6692",
           "#B6E880",
           "#FF97FF",
           "#FECB52"
          ],
          "font": {
           "color": "#2a3f5f"
          },
          "geo": {
           "bgcolor": "white",
           "lakecolor": "white",
           "landcolor": "#E5ECF6",
           "showlakes": true,
           "showland": true,
           "subunitcolor": "white"
          },
          "hoverlabel": {
           "align": "left"
          },
          "hovermode": "closest",
          "mapbox": {
           "style": "light"
          },
          "paper_bgcolor": "white",
          "plot_bgcolor": "#E5ECF6",
          "polar": {
           "angularaxis": {
            "gridcolor": "white",
            "linecolor": "white",
            "ticks": ""
           },
           "bgcolor": "#E5ECF6",
           "radialaxis": {
            "gridcolor": "white",
            "linecolor": "white",
            "ticks": ""
           }
          },
          "scene": {
           "xaxis": {
            "backgroundcolor": "#E5ECF6",
            "gridcolor": "white",
            "gridwidth": 2,
            "linecolor": "white",
            "showbackground": true,
            "ticks": "",
            "zerolinecolor": "white"
           },
           "yaxis": {
            "backgroundcolor": "#E5ECF6",
            "gridcolor": "white",
            "gridwidth": 2,
            "linecolor": "white",
            "showbackground": true,
            "ticks": "",
            "zerolinecolor": "white"
           },
           "zaxis": {
            "backgroundcolor": "#E5ECF6",
            "gridcolor": "white",
            "gridwidth": 2,
            "linecolor": "white",
            "showbackground": true,
            "ticks": "",
            "zerolinecolor": "white"
           }
          },
          "shapedefaults": {
           "line": {
            "color": "#2a3f5f"
           }
          },
          "ternary": {
           "aaxis": {
            "gridcolor": "white",
            "linecolor": "white",
            "ticks": ""
           },
           "baxis": {
            "gridcolor": "white",
            "linecolor": "white",
            "ticks": ""
           },
           "bgcolor": "#E5ECF6",
           "caxis": {
            "gridcolor": "white",
            "linecolor": "white",
            "ticks": ""
           }
          },
          "title": {
           "x": 0.05
          },
          "xaxis": {
           "automargin": true,
           "gridcolor": "white",
           "linecolor": "white",
           "ticks": "",
           "title": {
            "standoff": 15
           },
           "zerolinecolor": "white",
           "zerolinewidth": 2
          },
          "yaxis": {
           "automargin": true,
           "gridcolor": "white",
           "linecolor": "white",
           "ticks": "",
           "title": {
            "standoff": 15
           },
           "zerolinecolor": "white",
           "zerolinewidth": 2
          }
         }
        },
        "title": {
         "text": "2D Cluster PCA Plot"
        },
        "xaxis": {
         "anchor": "y",
         "domain": [
          0,
          1
         ],
         "title": {
          "text": "PCA1"
         }
        },
        "yaxis": {
         "anchor": "x",
         "domain": [
          0,
          1
         ],
         "title": {
          "text": "PCA2"
         }
        }
       }
      }
     },
     "metadata": {},
     "output_type": "display_data"
    }
   ],
   "source": [
    "plot_model(kmeans, plot = 'cluster')"
   ]
  },
  {
   "cell_type": "code",
   "execution_count": 14,
   "id": "4ee0968e",
   "metadata": {},
   "outputs": [
    {
     "data": {
      "image/png": "[encoded data removed]",
      "text/plain": [
       "<Figure size 576x396 with 1 Axes>"
      ]
     },
     "metadata": {},
     "output_type": "display_data"
    }
   ],
   "source": [
    "plot_model(kmeans, plot = 'elbow')"
   ]
  },
  {
   "cell_type": "code",
   "execution_count": 15,
   "id": "96d07b03",
   "metadata": {},
   "outputs": [
    {
     "data": {
      "image/png": "[encoded data removed]",
      "text/plain": [
       "<Figure size 576x396 with 1 Axes>"
      ]
     },
     "metadata": {},
     "output_type": "display_data"
    }
   ],
   "source": [
    "plot_model(kmeans, plot = 'silhouette')"
   ]
  },
  {
   "cell_type": "code",
   "execution_count": null,
   "id": "0ae7745b",
   "metadata": {},
   "outputs": [],
   "source": []
  },
  {
   "cell_type": "code",
   "execution_count": 16,
   "id": "5b8cb62d",
   "metadata": {},
   "outputs": [
    {
     "data": {
      "text/plain": [
       "KMeans(algorithm='auto', copy_x=True, init='k-means++', max_iter=300,\n",
       "       n_clusters=4, n_init=10, n_jobs=-1, precompute_distances='deprecated',\n",
       "       random_state=123, tol=0.0001, verbose=0)"
      ]
     },
     "execution_count": 16,
     "metadata": {},
     "output_type": "execute_result"
    }
   ],
   "source": [
    "kmeans"
   ]
  },
  {
   "cell_type": "code",
   "execution_count": 27,
   "id": "68e49402",
   "metadata": {},
   "outputs": [
    {
     "data": {
      "text/html": [
       "<div>\n",
       "<style scoped>\n",
       "    .dataframe tbody tr th:only-of-type {\n",
       "        vertical-align: middle;\n",
       "    }\n",
       "\n",
       "    .dataframe tbody tr th {\n",
       "        vertical-align: top;\n",
       "    }\n",
       "\n",
       "    .dataframe thead th {\n",
       "        text-align: right;\n",
       "    }\n",
       "</style>\n",
       "<table border=\"1\" class=\"dataframe\">\n",
       "  <thead>\n",
       "    <tr style=\"text-align: right;\">\n",
       "      <th></th>\n",
       "      <th>Unnamed: 0</th>\n",
       "      <th>power</th>\n",
       "      <th>humidity</th>\n",
       "      <th>temperature</th>\n",
       "      <th>water_reading</th>\n",
       "      <th>co2</th>\n",
       "      <th>year</th>\n",
       "      <th>month</th>\n",
       "      <th>day</th>\n",
       "      <th>hour</th>\n",
       "      <th>Cluster</th>\n",
       "    </tr>\n",
       "  </thead>\n",
       "  <tbody>\n",
       "    <tr>\n",
       "      <th>0</th>\n",
       "      <td>5</td>\n",
       "      <td>21.300000</td>\n",
       "      <td>37.5</td>\n",
       "      <td>21.94</td>\n",
       "      <td>0.000000</td>\n",
       "      <td>447.0</td>\n",
       "      <td>2021</td>\n",
       "      <td>11</td>\n",
       "      <td>19</td>\n",
       "      <td>18</td>\n",
       "      <td>Cluster 0</td>\n",
       "    </tr>\n",
       "    <tr>\n",
       "      <th>1</th>\n",
       "      <td>20</td>\n",
       "      <td>21.153846</td>\n",
       "      <td>31.5</td>\n",
       "      <td>20.84</td>\n",
       "      <td>0.000000</td>\n",
       "      <td>418.0</td>\n",
       "      <td>2021</td>\n",
       "      <td>11</td>\n",
       "      <td>20</td>\n",
       "      <td>2</td>\n",
       "      <td>Cluster 0</td>\n",
       "    </tr>\n",
       "    <tr>\n",
       "      <th>2</th>\n",
       "      <td>52</td>\n",
       "      <td>198.500000</td>\n",
       "      <td>29.0</td>\n",
       "      <td>21.99</td>\n",
       "      <td>0.000000</td>\n",
       "      <td>396.0</td>\n",
       "      <td>2021</td>\n",
       "      <td>11</td>\n",
       "      <td>20</td>\n",
       "      <td>19</td>\n",
       "      <td>Cluster 0</td>\n",
       "    </tr>\n",
       "    <tr>\n",
       "      <th>3</th>\n",
       "      <td>87</td>\n",
       "      <td>238.250000</td>\n",
       "      <td>26.0</td>\n",
       "      <td>21.93</td>\n",
       "      <td>0.000000</td>\n",
       "      <td>402.0</td>\n",
       "      <td>2021</td>\n",
       "      <td>11</td>\n",
       "      <td>21</td>\n",
       "      <td>13</td>\n",
       "      <td>Cluster 0</td>\n",
       "    </tr>\n",
       "    <tr>\n",
       "      <th>4</th>\n",
       "      <td>103</td>\n",
       "      <td>212.333333</td>\n",
       "      <td>23.5</td>\n",
       "      <td>21.76</td>\n",
       "      <td>0.000000</td>\n",
       "      <td>400.0</td>\n",
       "      <td>2021</td>\n",
       "      <td>11</td>\n",
       "      <td>21</td>\n",
       "      <td>22</td>\n",
       "      <td>Cluster 0</td>\n",
       "    </tr>\n",
       "    <tr>\n",
       "      <th>5</th>\n",
       "      <td>132</td>\n",
       "      <td>268.857143</td>\n",
       "      <td>22.0</td>\n",
       "      <td>21.37</td>\n",
       "      <td>0.000000</td>\n",
       "      <td>491.0</td>\n",
       "      <td>2021</td>\n",
       "      <td>11</td>\n",
       "      <td>22</td>\n",
       "      <td>15</td>\n",
       "      <td>Cluster 1</td>\n",
       "    </tr>\n",
       "    <tr>\n",
       "      <th>6</th>\n",
       "      <td>176</td>\n",
       "      <td>21.400000</td>\n",
       "      <td>23.5</td>\n",
       "      <td>21.76</td>\n",
       "      <td>0.000000</td>\n",
       "      <td>504.0</td>\n",
       "      <td>2021</td>\n",
       "      <td>11</td>\n",
       "      <td>23</td>\n",
       "      <td>14</td>\n",
       "      <td>Cluster 1</td>\n",
       "    </tr>\n",
       "    <tr>\n",
       "      <th>7</th>\n",
       "      <td>202</td>\n",
       "      <td>21.300000</td>\n",
       "      <td>27.0</td>\n",
       "      <td>21.70</td>\n",
       "      <td>0.000000</td>\n",
       "      <td>414.0</td>\n",
       "      <td>2021</td>\n",
       "      <td>11</td>\n",
       "      <td>24</td>\n",
       "      <td>4</td>\n",
       "      <td>Cluster 2</td>\n",
       "    </tr>\n",
       "    <tr>\n",
       "      <th>8</th>\n",
       "      <td>215</td>\n",
       "      <td>21.500000</td>\n",
       "      <td>30.0</td>\n",
       "      <td>21.76</td>\n",
       "      <td>0.525702</td>\n",
       "      <td>515.0</td>\n",
       "      <td>2021</td>\n",
       "      <td>11</td>\n",
       "      <td>24</td>\n",
       "      <td>11</td>\n",
       "      <td>Cluster 1</td>\n",
       "    </tr>\n",
       "    <tr>\n",
       "      <th>9</th>\n",
       "      <td>221</td>\n",
       "      <td>21.500000</td>\n",
       "      <td>31.0</td>\n",
       "      <td>21.84</td>\n",
       "      <td>0.737222</td>\n",
       "      <td>520.0</td>\n",
       "      <td>2021</td>\n",
       "      <td>11</td>\n",
       "      <td>24</td>\n",
       "      <td>14</td>\n",
       "      <td>Cluster 1</td>\n",
       "    </tr>\n",
       "    <tr>\n",
       "      <th>10</th>\n",
       "      <td>231</td>\n",
       "      <td>199.000000</td>\n",
       "      <td>29.5</td>\n",
       "      <td>21.97</td>\n",
       "      <td>0.000000</td>\n",
       "      <td>460.0</td>\n",
       "      <td>2021</td>\n",
       "      <td>11</td>\n",
       "      <td>24</td>\n",
       "      <td>19</td>\n",
       "      <td>Cluster 3</td>\n",
       "    </tr>\n",
       "    <tr>\n",
       "      <th>11</th>\n",
       "      <td>267</td>\n",
       "      <td>397.571429</td>\n",
       "      <td>31.5</td>\n",
       "      <td>22.43</td>\n",
       "      <td>0.737983</td>\n",
       "      <td>488.0</td>\n",
       "      <td>2021</td>\n",
       "      <td>11</td>\n",
       "      <td>25</td>\n",
       "      <td>15</td>\n",
       "      <td>Cluster 3</td>\n",
       "    </tr>\n",
       "    <tr>\n",
       "      <th>12</th>\n",
       "      <td>276</td>\n",
       "      <td>21.100000</td>\n",
       "      <td>28.5</td>\n",
       "      <td>22.29</td>\n",
       "      <td>0.000000</td>\n",
       "      <td>453.0</td>\n",
       "      <td>2021</td>\n",
       "      <td>11</td>\n",
       "      <td>25</td>\n",
       "      <td>20</td>\n",
       "      <td>Cluster 3</td>\n",
       "    </tr>\n",
       "    <tr>\n",
       "      <th>13</th>\n",
       "      <td>279</td>\n",
       "      <td>26.500000</td>\n",
       "      <td>26.5</td>\n",
       "      <td>22.27</td>\n",
       "      <td>0.000000</td>\n",
       "      <td>442.0</td>\n",
       "      <td>2021</td>\n",
       "      <td>11</td>\n",
       "      <td>25</td>\n",
       "      <td>22</td>\n",
       "      <td>Cluster 3</td>\n",
       "    </tr>\n",
       "    <tr>\n",
       "      <th>14</th>\n",
       "      <td>286</td>\n",
       "      <td>21.200000</td>\n",
       "      <td>24.0</td>\n",
       "      <td>22.01</td>\n",
       "      <td>0.000000</td>\n",
       "      <td>418.0</td>\n",
       "      <td>2021</td>\n",
       "      <td>11</td>\n",
       "      <td>26</td>\n",
       "      <td>2</td>\n",
       "      <td>Cluster 2</td>\n",
       "    </tr>\n",
       "    <tr>\n",
       "      <th>15</th>\n",
       "      <td>310</td>\n",
       "      <td>177.818182</td>\n",
       "      <td>20.0</td>\n",
       "      <td>21.92</td>\n",
       "      <td>0.000000</td>\n",
       "      <td>436.0</td>\n",
       "      <td>2021</td>\n",
       "      <td>11</td>\n",
       "      <td>26</td>\n",
       "      <td>14</td>\n",
       "      <td>Cluster 2</td>\n",
       "    </tr>\n",
       "  </tbody>\n",
       "</table>\n",
       "</div>"
      ],
      "text/plain": [
       "    Unnamed: 0       power  humidity  temperature  water_reading    co2  year  \\\n",
       "0            5   21.300000      37.5        21.94       0.000000  447.0  2021   \n",
       "1           20   21.153846      31.5        20.84       0.000000  418.0  2021   \n",
       "2           52  198.500000      29.0        21.99       0.000000  396.0  2021   \n",
       "3           87  238.250000      26.0        21.93       0.000000  402.0  2021   \n",
       "4          103  212.333333      23.5        21.76       0.000000  400.0  2021   \n",
       "5          132  268.857143      22.0        21.37       0.000000  491.0  2021   \n",
       "6          176   21.400000      23.5        21.76       0.000000  504.0  2021   \n",
       "7          202   21.300000      27.0        21.70       0.000000  414.0  2021   \n",
       "8          215   21.500000      30.0        21.76       0.525702  515.0  2021   \n",
       "9          221   21.500000      31.0        21.84       0.737222  520.0  2021   \n",
       "10         231  199.000000      29.5        21.97       0.000000  460.0  2021   \n",
       "11         267  397.571429      31.5        22.43       0.737983  488.0  2021   \n",
       "12         276   21.100000      28.5        22.29       0.000000  453.0  2021   \n",
       "13         279   26.500000      26.5        22.27       0.000000  442.0  2021   \n",
       "14         286   21.200000      24.0        22.01       0.000000  418.0  2021   \n",
       "15         310  177.818182      20.0        21.92       0.000000  436.0  2021   \n",
       "\n",
       "    month  day  hour    Cluster  \n",
       "0      11   19    18  Cluster 0  \n",
       "1      11   20     2  Cluster 0  \n",
       "2      11   20    19  Cluster 0  \n",
       "3      11   21    13  Cluster 0  \n",
       "4      11   21    22  Cluster 0  \n",
       "5      11   22    15  Cluster 1  \n",
       "6      11   23    14  Cluster 1  \n",
       "7      11   24     4  Cluster 2  \n",
       "8      11   24    11  Cluster 1  \n",
       "9      11   24    14  Cluster 1  \n",
       "10     11   24    19  Cluster 3  \n",
       "11     11   25    15  Cluster 3  \n",
       "12     11   25    20  Cluster 3  \n",
       "13     11   25    22  Cluster 3  \n",
       "14     11   26     2  Cluster 2  \n",
       "15     11   26    14  Cluster 2  "
      ]
     },
     "execution_count": 27,
     "metadata": {},
     "output_type": "execute_result"
    }
   ],
   "source": [
    "unseen_predictions = predict_model(kmeans, data=data_unseen)\n",
    "unseen_predictions"
   ]
  },
  {
   "cell_type": "code",
   "execution_count": 22,
   "id": "0b4f0885",
   "metadata": {},
   "outputs": [
    {
     "data": {
      "text/plain": [
       "Index(['Unnamed: 0', 'power', 'humidity', 'temperature', 'water_reading',\n",
       "       'co2', 'year', 'month', 'day', 'hour'],\n",
       "      dtype='object')"
      ]
     },
     "execution_count": 22,
     "metadata": {},
     "output_type": "execute_result"
    }
   ],
   "source": [
    "final.columns"
   ]
  },
  {
   "cell_type": "code",
   "execution_count": 20,
   "id": "7bcd2775",
   "metadata": {},
   "outputs": [
    {
     "name": "stdout",
     "output_type": "stream",
     "text": [
      "Number of numerical variables:  10\n"
     ]
    },
    {
     "data": {
      "text/html": [
       "<div>\n",
       "<style scoped>\n",
       "    .dataframe tbody tr th:only-of-type {\n",
       "        vertical-align: middle;\n",
       "    }\n",
       "\n",
       "    .dataframe tbody tr th {\n",
       "        vertical-align: top;\n",
       "    }\n",
       "\n",
       "    .dataframe thead th {\n",
       "        text-align: right;\n",
       "    }\n",
       "</style>\n",
       "<table border=\"1\" class=\"dataframe\">\n",
       "  <thead>\n",
       "    <tr style=\"text-align: right;\">\n",
       "      <th></th>\n",
       "      <th>Unnamed: 0</th>\n",
       "      <th>power</th>\n",
       "      <th>humidity</th>\n",
       "      <th>temperature</th>\n",
       "      <th>water_reading</th>\n",
       "      <th>co2</th>\n",
       "      <th>year</th>\n",
       "      <th>month</th>\n",
       "      <th>day</th>\n",
       "      <th>hour</th>\n",
       "    </tr>\n",
       "  </thead>\n",
       "  <tbody>\n",
       "    <tr>\n",
       "      <th>0</th>\n",
       "      <td>0</td>\n",
       "      <td>21.000000</td>\n",
       "      <td>40.0</td>\n",
       "      <td>22.40</td>\n",
       "      <td>0.0</td>\n",
       "      <td>515.0</td>\n",
       "      <td>2021</td>\n",
       "      <td>11</td>\n",
       "      <td>19</td>\n",
       "      <td>15</td>\n",
       "    </tr>\n",
       "    <tr>\n",
       "      <th>1</th>\n",
       "      <td>1</td>\n",
       "      <td>21.500000</td>\n",
       "      <td>39.5</td>\n",
       "      <td>22.42</td>\n",
       "      <td>0.0</td>\n",
       "      <td>515.0</td>\n",
       "      <td>2021</td>\n",
       "      <td>11</td>\n",
       "      <td>19</td>\n",
       "      <td>16</td>\n",
       "    </tr>\n",
       "    <tr>\n",
       "      <th>2</th>\n",
       "      <td>2</td>\n",
       "      <td>198.200000</td>\n",
       "      <td>39.0</td>\n",
       "      <td>22.42</td>\n",
       "      <td>0.0</td>\n",
       "      <td>488.0</td>\n",
       "      <td>2021</td>\n",
       "      <td>11</td>\n",
       "      <td>19</td>\n",
       "      <td>16</td>\n",
       "    </tr>\n",
       "    <tr>\n",
       "      <th>3</th>\n",
       "      <td>3</td>\n",
       "      <td>21.454545</td>\n",
       "      <td>38.5</td>\n",
       "      <td>22.32</td>\n",
       "      <td>0.0</td>\n",
       "      <td>460.0</td>\n",
       "      <td>2021</td>\n",
       "      <td>11</td>\n",
       "      <td>19</td>\n",
       "      <td>17</td>\n",
       "    </tr>\n",
       "    <tr>\n",
       "      <th>4</th>\n",
       "      <td>4</td>\n",
       "      <td>21.357143</td>\n",
       "      <td>38.0</td>\n",
       "      <td>22.12</td>\n",
       "      <td>0.0</td>\n",
       "      <td>449.0</td>\n",
       "      <td>2021</td>\n",
       "      <td>11</td>\n",
       "      <td>19</td>\n",
       "      <td>17</td>\n",
       "    </tr>\n",
       "  </tbody>\n",
       "</table>\n",
       "</div>"
      ],
      "text/plain": [
       "   Unnamed: 0       power  humidity  temperature  water_reading    co2  year  \\\n",
       "0           0   21.000000      40.0        22.40            0.0  515.0  2021   \n",
       "1           1   21.500000      39.5        22.42            0.0  515.0  2021   \n",
       "2           2  198.200000      39.0        22.42            0.0  488.0  2021   \n",
       "3           3   21.454545      38.5        22.32            0.0  460.0  2021   \n",
       "4           4   21.357143      38.0        22.12            0.0  449.0  2021   \n",
       "\n",
       "   month  day  hour  \n",
       "0     11   19    15  \n",
       "1     11   19    16  \n",
       "2     11   19    16  \n",
       "3     11   19    17  \n",
       "4     11   19    17  "
      ]
     },
     "execution_count": 20,
     "metadata": {},
     "output_type": "execute_result"
    }
   ],
   "source": [
    "# list of numerical variables\n",
    "numerical_features = [feature for feature in final.columns if final[feature].dtypes != 'O']\n",
    "\n",
    "print('Number of numerical variables: ', len(numerical_features))\n",
    "\n",
    "# visualise the numerical variables\n",
    "final[numerical_features].head()"
   ]
  },
  {
   "cell_type": "code",
   "execution_count": 23,
   "id": "92ab1fc2",
   "metadata": {},
   "outputs": [
    {
     "name": "stdout",
     "output_type": "stream",
     "text": [
      "Discrete Variables Count: 4\n",
      "['year', 'month', 'day', 'hour']\n"
     ]
    }
   ],
   "source": [
    "## Numerical variables are usually of 2 type\n",
    "## 1. Continous variable and Discrete Variables\n",
    "\n",
    "discrete_feature=[feature for feature in numerical_features if len(final[feature].unique())<25 ]\n",
    "print(\"Discrete Variables Count: {}\".format(len(discrete_feature)))\n",
    "print(discrete_feature)"
   ]
  },
  {
   "cell_type": "code",
   "execution_count": 24,
   "id": "dc17eb3f",
   "metadata": {},
   "outputs": [
    {
     "name": "stdout",
     "output_type": "stream",
     "text": [
      "Continuous feature Count 6\n",
      "['Unnamed: 0', 'power', 'humidity', 'temperature', 'water_reading', 'co2']\n"
     ]
    }
   ],
   "source": [
    "continuous_feature=[feature for feature in numerical_features if feature not in discrete_feature]\n",
    "print(\"Continuous feature Count {}\".format(len(continuous_feature)))\n",
    "print(continuous_feature)"
   ]
  },
  {
   "cell_type": "code",
   "execution_count": 26,
   "id": "2f11929a",
   "metadata": {},
   "outputs": [
    {
     "data": {
      "text/plain": [
       "[]"
      ]
     },
     "execution_count": 26,
     "metadata": {},
     "output_type": "execute_result"
    }
   ],
   "source": [
    "categorical_features=[feature for feature in final.columns if final[feature].dtypes=='O']\n",
    "categorical_features"
   ]
  },
  {
   "cell_type": "code",
   "execution_count": null,
   "id": "8a4325fa",
   "metadata": {},
   "outputs": [],
   "source": []
  }
 ],
 "metadata": {
  "kernelspec": {
   "display_name": "Python 3.8.10 64-bit ('miranda': conda)",
   "language": "python",
   "name": "python3810jvsc74a57bd093015458a31746c9fc65bb26b4a077cbbfae0c420f8f2c1ca9ffaae103253a77"
  },
  "language_info": {
   "codemirror_mode": {
    "name": "ipython",
    "version": 3
   },
   "file_extension": ".py",
   "mimetype": "text/x-python",
   "name": "python",
   "nbconvert_exporter": "python",
   "pygments_lexer": "ipython3",
   "version": "3.8.10"
  }
 },
 "nbformat": 4,
 "nbformat_minor": 5
}
