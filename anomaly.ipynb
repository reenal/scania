{
 "cells": [
  {
   "cell_type": "markdown",
   "id": "c62d5b4a",
   "metadata": {},
   "source": [
    "# Anomaly"
   ]
  },
  {
   "cell_type": "code",
   "execution_count": 1,
   "id": "ad988ae7",
   "metadata": {},
   "outputs": [],
   "source": [
    "import pandas as pd\n",
    "import matplotlib.pyplot as plt\n",
    "import seaborn as sns\n",
    "import numpy as np\n",
    "pd.set_option('display.max_rows', None)\n",
    "pd.set_option('display.max_columns', None)"
   ]
  },
  {
   "cell_type": "code",
   "execution_count": 2,
   "id": "da469dd3",
   "metadata": {},
   "outputs": [
    {
     "data": {
      "text/plain": [
       "'2.3.1'"
      ]
     },
     "execution_count": 2,
     "metadata": {},
     "output_type": "execute_result"
    }
   ],
   "source": [
    "from pycaret.utils import version\n",
    "version()"
   ]
  },
  {
   "cell_type": "code",
   "execution_count": 3,
   "id": "ce34d3de",
   "metadata": {},
   "outputs": [],
   "source": [
    "final = pd.read_csv('final.csv')"
   ]
  },
  {
   "cell_type": "code",
   "execution_count": 4,
   "id": "94d44008",
   "metadata": {},
   "outputs": [
    {
     "name": "stdout",
     "output_type": "stream",
     "text": [
      "Data for Modeling: (295, 10)\n",
      "Unseen Data For Predictions: (16, 10)\n"
     ]
    }
   ],
   "source": [
    "dataset =final\n",
    "data = dataset.sample(frac=0.95, random_state=786)\n",
    "data_unseen = dataset.drop(data.index)\n",
    "\n",
    "data.reset_index(drop=True, inplace=True)\n",
    "data_unseen.reset_index(drop=True, inplace=True)\n",
    "\n",
    "print('Data for Modeling: ' + str(data.shape))\n",
    "print('Unseen Data For Predictions: ' + str(data_unseen.shape))"
   ]
  },
  {
   "cell_type": "code",
   "execution_count": 5,
   "id": "5841703e",
   "metadata": {},
   "outputs": [
    {
     "data": {
      "text/html": [
       "<style  type=\"text/css\" >\n",
       "#T_5fbe2_row21_col1{\n",
       "            background-color:  lightgreen;\n",
       "        }</style><table id=\"T_5fbe2_\" ><thead>    <tr>        <th class=\"blank level0\" ></th>        <th class=\"col_heading level0 col0\" >Description</th>        <th class=\"col_heading level0 col1\" >Value</th>    </tr></thead><tbody>\n",
       "                <tr>\n",
       "                        <th id=\"T_5fbe2_level0_row0\" class=\"row_heading level0 row0\" >0</th>\n",
       "                        <td id=\"T_5fbe2_row0_col0\" class=\"data row0 col0\" >session_id</td>\n",
       "                        <td id=\"T_5fbe2_row0_col1\" class=\"data row0 col1\" >123</td>\n",
       "            </tr>\n",
       "            <tr>\n",
       "                        <th id=\"T_5fbe2_level0_row1\" class=\"row_heading level0 row1\" >1</th>\n",
       "                        <td id=\"T_5fbe2_row1_col0\" class=\"data row1 col0\" >Original Data</td>\n",
       "                        <td id=\"T_5fbe2_row1_col1\" class=\"data row1 col1\" >(295, 10)</td>\n",
       "            </tr>\n",
       "            <tr>\n",
       "                        <th id=\"T_5fbe2_level0_row2\" class=\"row_heading level0 row2\" >2</th>\n",
       "                        <td id=\"T_5fbe2_row2_col0\" class=\"data row2 col0\" >Missing Values</td>\n",
       "                        <td id=\"T_5fbe2_row2_col1\" class=\"data row2 col1\" >False</td>\n",
       "            </tr>\n",
       "            <tr>\n",
       "                        <th id=\"T_5fbe2_level0_row3\" class=\"row_heading level0 row3\" >3</th>\n",
       "                        <td id=\"T_5fbe2_row3_col0\" class=\"data row3 col0\" >Numeric Features</td>\n",
       "                        <td id=\"T_5fbe2_row3_col1\" class=\"data row3 col1\" >7</td>\n",
       "            </tr>\n",
       "            <tr>\n",
       "                        <th id=\"T_5fbe2_level0_row4\" class=\"row_heading level0 row4\" >4</th>\n",
       "                        <td id=\"T_5fbe2_row4_col0\" class=\"data row4 col0\" >Categorical Features</td>\n",
       "                        <td id=\"T_5fbe2_row4_col1\" class=\"data row4 col1\" >3</td>\n",
       "            </tr>\n",
       "            <tr>\n",
       "                        <th id=\"T_5fbe2_level0_row5\" class=\"row_heading level0 row5\" >5</th>\n",
       "                        <td id=\"T_5fbe2_row5_col0\" class=\"data row5 col0\" >Ordinal Features</td>\n",
       "                        <td id=\"T_5fbe2_row5_col1\" class=\"data row5 col1\" >False</td>\n",
       "            </tr>\n",
       "            <tr>\n",
       "                        <th id=\"T_5fbe2_level0_row6\" class=\"row_heading level0 row6\" >6</th>\n",
       "                        <td id=\"T_5fbe2_row6_col0\" class=\"data row6 col0\" >High Cardinality Features</td>\n",
       "                        <td id=\"T_5fbe2_row6_col1\" class=\"data row6 col1\" >False</td>\n",
       "            </tr>\n",
       "            <tr>\n",
       "                        <th id=\"T_5fbe2_level0_row7\" class=\"row_heading level0 row7\" >7</th>\n",
       "                        <td id=\"T_5fbe2_row7_col0\" class=\"data row7 col0\" >High Cardinality Method</td>\n",
       "                        <td id=\"T_5fbe2_row7_col1\" class=\"data row7 col1\" >None</td>\n",
       "            </tr>\n",
       "            <tr>\n",
       "                        <th id=\"T_5fbe2_level0_row8\" class=\"row_heading level0 row8\" >8</th>\n",
       "                        <td id=\"T_5fbe2_row8_col0\" class=\"data row8 col0\" >Transformed Data</td>\n",
       "                        <td id=\"T_5fbe2_row8_col1\" class=\"data row8 col1\" >(295, 17)</td>\n",
       "            </tr>\n",
       "            <tr>\n",
       "                        <th id=\"T_5fbe2_level0_row9\" class=\"row_heading level0 row9\" >9</th>\n",
       "                        <td id=\"T_5fbe2_row9_col0\" class=\"data row9 col0\" >CPU Jobs</td>\n",
       "                        <td id=\"T_5fbe2_row9_col1\" class=\"data row9 col1\" >-1</td>\n",
       "            </tr>\n",
       "            <tr>\n",
       "                        <th id=\"T_5fbe2_level0_row10\" class=\"row_heading level0 row10\" >10</th>\n",
       "                        <td id=\"T_5fbe2_row10_col0\" class=\"data row10 col0\" >Use GPU</td>\n",
       "                        <td id=\"T_5fbe2_row10_col1\" class=\"data row10 col1\" >False</td>\n",
       "            </tr>\n",
       "            <tr>\n",
       "                        <th id=\"T_5fbe2_level0_row11\" class=\"row_heading level0 row11\" >11</th>\n",
       "                        <td id=\"T_5fbe2_row11_col0\" class=\"data row11 col0\" >Log Experiment</td>\n",
       "                        <td id=\"T_5fbe2_row11_col1\" class=\"data row11 col1\" >False</td>\n",
       "            </tr>\n",
       "            <tr>\n",
       "                        <th id=\"T_5fbe2_level0_row12\" class=\"row_heading level0 row12\" >12</th>\n",
       "                        <td id=\"T_5fbe2_row12_col0\" class=\"data row12 col0\" >Experiment Name</td>\n",
       "                        <td id=\"T_5fbe2_row12_col1\" class=\"data row12 col1\" >anomaly-default-name</td>\n",
       "            </tr>\n",
       "            <tr>\n",
       "                        <th id=\"T_5fbe2_level0_row13\" class=\"row_heading level0 row13\" >13</th>\n",
       "                        <td id=\"T_5fbe2_row13_col0\" class=\"data row13 col0\" >USI</td>\n",
       "                        <td id=\"T_5fbe2_row13_col1\" class=\"data row13 col1\" >3a2b</td>\n",
       "            </tr>\n",
       "            <tr>\n",
       "                        <th id=\"T_5fbe2_level0_row14\" class=\"row_heading level0 row14\" >14</th>\n",
       "                        <td id=\"T_5fbe2_row14_col0\" class=\"data row14 col0\" >Imputation Type</td>\n",
       "                        <td id=\"T_5fbe2_row14_col1\" class=\"data row14 col1\" >simple</td>\n",
       "            </tr>\n",
       "            <tr>\n",
       "                        <th id=\"T_5fbe2_level0_row15\" class=\"row_heading level0 row15\" >15</th>\n",
       "                        <td id=\"T_5fbe2_row15_col0\" class=\"data row15 col0\" >Iterative Imputation Iteration</td>\n",
       "                        <td id=\"T_5fbe2_row15_col1\" class=\"data row15 col1\" >None</td>\n",
       "            </tr>\n",
       "            <tr>\n",
       "                        <th id=\"T_5fbe2_level0_row16\" class=\"row_heading level0 row16\" >16</th>\n",
       "                        <td id=\"T_5fbe2_row16_col0\" class=\"data row16 col0\" >Numeric Imputer</td>\n",
       "                        <td id=\"T_5fbe2_row16_col1\" class=\"data row16 col1\" >mean</td>\n",
       "            </tr>\n",
       "            <tr>\n",
       "                        <th id=\"T_5fbe2_level0_row17\" class=\"row_heading level0 row17\" >17</th>\n",
       "                        <td id=\"T_5fbe2_row17_col0\" class=\"data row17 col0\" >Iterative Imputation Numeric Model</td>\n",
       "                        <td id=\"T_5fbe2_row17_col1\" class=\"data row17 col1\" >None</td>\n",
       "            </tr>\n",
       "            <tr>\n",
       "                        <th id=\"T_5fbe2_level0_row18\" class=\"row_heading level0 row18\" >18</th>\n",
       "                        <td id=\"T_5fbe2_row18_col0\" class=\"data row18 col0\" >Categorical Imputer</td>\n",
       "                        <td id=\"T_5fbe2_row18_col1\" class=\"data row18 col1\" >mode</td>\n",
       "            </tr>\n",
       "            <tr>\n",
       "                        <th id=\"T_5fbe2_level0_row19\" class=\"row_heading level0 row19\" >19</th>\n",
       "                        <td id=\"T_5fbe2_row19_col0\" class=\"data row19 col0\" >Iterative Imputation Categorical Model</td>\n",
       "                        <td id=\"T_5fbe2_row19_col1\" class=\"data row19 col1\" >None</td>\n",
       "            </tr>\n",
       "            <tr>\n",
       "                        <th id=\"T_5fbe2_level0_row20\" class=\"row_heading level0 row20\" >20</th>\n",
       "                        <td id=\"T_5fbe2_row20_col0\" class=\"data row20 col0\" >Unknown Categoricals Handling</td>\n",
       "                        <td id=\"T_5fbe2_row20_col1\" class=\"data row20 col1\" >least_frequent</td>\n",
       "            </tr>\n",
       "            <tr>\n",
       "                        <th id=\"T_5fbe2_level0_row21\" class=\"row_heading level0 row21\" >21</th>\n",
       "                        <td id=\"T_5fbe2_row21_col0\" class=\"data row21 col0\" >Normalize</td>\n",
       "                        <td id=\"T_5fbe2_row21_col1\" class=\"data row21 col1\" >True</td>\n",
       "            </tr>\n",
       "            <tr>\n",
       "                        <th id=\"T_5fbe2_level0_row22\" class=\"row_heading level0 row22\" >22</th>\n",
       "                        <td id=\"T_5fbe2_row22_col0\" class=\"data row22 col0\" >Normalize Method</td>\n",
       "                        <td id=\"T_5fbe2_row22_col1\" class=\"data row22 col1\" >zscore</td>\n",
       "            </tr>\n",
       "            <tr>\n",
       "                        <th id=\"T_5fbe2_level0_row23\" class=\"row_heading level0 row23\" >23</th>\n",
       "                        <td id=\"T_5fbe2_row23_col0\" class=\"data row23 col0\" >Transformation</td>\n",
       "                        <td id=\"T_5fbe2_row23_col1\" class=\"data row23 col1\" >False</td>\n",
       "            </tr>\n",
       "            <tr>\n",
       "                        <th id=\"T_5fbe2_level0_row24\" class=\"row_heading level0 row24\" >24</th>\n",
       "                        <td id=\"T_5fbe2_row24_col0\" class=\"data row24 col0\" >Transformation Method</td>\n",
       "                        <td id=\"T_5fbe2_row24_col1\" class=\"data row24 col1\" >None</td>\n",
       "            </tr>\n",
       "            <tr>\n",
       "                        <th id=\"T_5fbe2_level0_row25\" class=\"row_heading level0 row25\" >25</th>\n",
       "                        <td id=\"T_5fbe2_row25_col0\" class=\"data row25 col0\" >PCA</td>\n",
       "                        <td id=\"T_5fbe2_row25_col1\" class=\"data row25 col1\" >False</td>\n",
       "            </tr>\n",
       "            <tr>\n",
       "                        <th id=\"T_5fbe2_level0_row26\" class=\"row_heading level0 row26\" >26</th>\n",
       "                        <td id=\"T_5fbe2_row26_col0\" class=\"data row26 col0\" >PCA Method</td>\n",
       "                        <td id=\"T_5fbe2_row26_col1\" class=\"data row26 col1\" >None</td>\n",
       "            </tr>\n",
       "            <tr>\n",
       "                        <th id=\"T_5fbe2_level0_row27\" class=\"row_heading level0 row27\" >27</th>\n",
       "                        <td id=\"T_5fbe2_row27_col0\" class=\"data row27 col0\" >PCA Components</td>\n",
       "                        <td id=\"T_5fbe2_row27_col1\" class=\"data row27 col1\" >None</td>\n",
       "            </tr>\n",
       "            <tr>\n",
       "                        <th id=\"T_5fbe2_level0_row28\" class=\"row_heading level0 row28\" >28</th>\n",
       "                        <td id=\"T_5fbe2_row28_col0\" class=\"data row28 col0\" >Ignore Low Variance</td>\n",
       "                        <td id=\"T_5fbe2_row28_col1\" class=\"data row28 col1\" >False</td>\n",
       "            </tr>\n",
       "            <tr>\n",
       "                        <th id=\"T_5fbe2_level0_row29\" class=\"row_heading level0 row29\" >29</th>\n",
       "                        <td id=\"T_5fbe2_row29_col0\" class=\"data row29 col0\" >Combine Rare Levels</td>\n",
       "                        <td id=\"T_5fbe2_row29_col1\" class=\"data row29 col1\" >False</td>\n",
       "            </tr>\n",
       "            <tr>\n",
       "                        <th id=\"T_5fbe2_level0_row30\" class=\"row_heading level0 row30\" >30</th>\n",
       "                        <td id=\"T_5fbe2_row30_col0\" class=\"data row30 col0\" >Rare Level Threshold</td>\n",
       "                        <td id=\"T_5fbe2_row30_col1\" class=\"data row30 col1\" >None</td>\n",
       "            </tr>\n",
       "            <tr>\n",
       "                        <th id=\"T_5fbe2_level0_row31\" class=\"row_heading level0 row31\" >31</th>\n",
       "                        <td id=\"T_5fbe2_row31_col0\" class=\"data row31 col0\" >Numeric Binning</td>\n",
       "                        <td id=\"T_5fbe2_row31_col1\" class=\"data row31 col1\" >False</td>\n",
       "            </tr>\n",
       "            <tr>\n",
       "                        <th id=\"T_5fbe2_level0_row32\" class=\"row_heading level0 row32\" >32</th>\n",
       "                        <td id=\"T_5fbe2_row32_col0\" class=\"data row32 col0\" >Remove Outliers</td>\n",
       "                        <td id=\"T_5fbe2_row32_col1\" class=\"data row32 col1\" >False</td>\n",
       "            </tr>\n",
       "            <tr>\n",
       "                        <th id=\"T_5fbe2_level0_row33\" class=\"row_heading level0 row33\" >33</th>\n",
       "                        <td id=\"T_5fbe2_row33_col0\" class=\"data row33 col0\" >Outliers Threshold</td>\n",
       "                        <td id=\"T_5fbe2_row33_col1\" class=\"data row33 col1\" >None</td>\n",
       "            </tr>\n",
       "            <tr>\n",
       "                        <th id=\"T_5fbe2_level0_row34\" class=\"row_heading level0 row34\" >34</th>\n",
       "                        <td id=\"T_5fbe2_row34_col0\" class=\"data row34 col0\" >Remove Multicollinearity</td>\n",
       "                        <td id=\"T_5fbe2_row34_col1\" class=\"data row34 col1\" >False</td>\n",
       "            </tr>\n",
       "            <tr>\n",
       "                        <th id=\"T_5fbe2_level0_row35\" class=\"row_heading level0 row35\" >35</th>\n",
       "                        <td id=\"T_5fbe2_row35_col0\" class=\"data row35 col0\" >Multicollinearity Threshold</td>\n",
       "                        <td id=\"T_5fbe2_row35_col1\" class=\"data row35 col1\" >None</td>\n",
       "            </tr>\n",
       "            <tr>\n",
       "                        <th id=\"T_5fbe2_level0_row36\" class=\"row_heading level0 row36\" >36</th>\n",
       "                        <td id=\"T_5fbe2_row36_col0\" class=\"data row36 col0\" >Remove Perfect Collinearity</td>\n",
       "                        <td id=\"T_5fbe2_row36_col1\" class=\"data row36 col1\" >False</td>\n",
       "            </tr>\n",
       "            <tr>\n",
       "                        <th id=\"T_5fbe2_level0_row37\" class=\"row_heading level0 row37\" >37</th>\n",
       "                        <td id=\"T_5fbe2_row37_col0\" class=\"data row37 col0\" >Clustering</td>\n",
       "                        <td id=\"T_5fbe2_row37_col1\" class=\"data row37 col1\" >False</td>\n",
       "            </tr>\n",
       "            <tr>\n",
       "                        <th id=\"T_5fbe2_level0_row38\" class=\"row_heading level0 row38\" >38</th>\n",
       "                        <td id=\"T_5fbe2_row38_col0\" class=\"data row38 col0\" >Clustering Iteration</td>\n",
       "                        <td id=\"T_5fbe2_row38_col1\" class=\"data row38 col1\" >None</td>\n",
       "            </tr>\n",
       "            <tr>\n",
       "                        <th id=\"T_5fbe2_level0_row39\" class=\"row_heading level0 row39\" >39</th>\n",
       "                        <td id=\"T_5fbe2_row39_col0\" class=\"data row39 col0\" >Polynomial Features</td>\n",
       "                        <td id=\"T_5fbe2_row39_col1\" class=\"data row39 col1\" >False</td>\n",
       "            </tr>\n",
       "            <tr>\n",
       "                        <th id=\"T_5fbe2_level0_row40\" class=\"row_heading level0 row40\" >40</th>\n",
       "                        <td id=\"T_5fbe2_row40_col0\" class=\"data row40 col0\" >Polynomial Degree</td>\n",
       "                        <td id=\"T_5fbe2_row40_col1\" class=\"data row40 col1\" >None</td>\n",
       "            </tr>\n",
       "            <tr>\n",
       "                        <th id=\"T_5fbe2_level0_row41\" class=\"row_heading level0 row41\" >41</th>\n",
       "                        <td id=\"T_5fbe2_row41_col0\" class=\"data row41 col0\" >Trignometry Features</td>\n",
       "                        <td id=\"T_5fbe2_row41_col1\" class=\"data row41 col1\" >False</td>\n",
       "            </tr>\n",
       "            <tr>\n",
       "                        <th id=\"T_5fbe2_level0_row42\" class=\"row_heading level0 row42\" >42</th>\n",
       "                        <td id=\"T_5fbe2_row42_col0\" class=\"data row42 col0\" >Polynomial Threshold</td>\n",
       "                        <td id=\"T_5fbe2_row42_col1\" class=\"data row42 col1\" >None</td>\n",
       "            </tr>\n",
       "            <tr>\n",
       "                        <th id=\"T_5fbe2_level0_row43\" class=\"row_heading level0 row43\" >43</th>\n",
       "                        <td id=\"T_5fbe2_row43_col0\" class=\"data row43 col0\" >Group Features</td>\n",
       "                        <td id=\"T_5fbe2_row43_col1\" class=\"data row43 col1\" >False</td>\n",
       "            </tr>\n",
       "            <tr>\n",
       "                        <th id=\"T_5fbe2_level0_row44\" class=\"row_heading level0 row44\" >44</th>\n",
       "                        <td id=\"T_5fbe2_row44_col0\" class=\"data row44 col0\" >Feature Selection</td>\n",
       "                        <td id=\"T_5fbe2_row44_col1\" class=\"data row44 col1\" >False</td>\n",
       "            </tr>\n",
       "            <tr>\n",
       "                        <th id=\"T_5fbe2_level0_row45\" class=\"row_heading level0 row45\" >45</th>\n",
       "                        <td id=\"T_5fbe2_row45_col0\" class=\"data row45 col0\" >Feature Selection Method</td>\n",
       "                        <td id=\"T_5fbe2_row45_col1\" class=\"data row45 col1\" >classic</td>\n",
       "            </tr>\n",
       "            <tr>\n",
       "                        <th id=\"T_5fbe2_level0_row46\" class=\"row_heading level0 row46\" >46</th>\n",
       "                        <td id=\"T_5fbe2_row46_col0\" class=\"data row46 col0\" >Features Selection Threshold</td>\n",
       "                        <td id=\"T_5fbe2_row46_col1\" class=\"data row46 col1\" >None</td>\n",
       "            </tr>\n",
       "            <tr>\n",
       "                        <th id=\"T_5fbe2_level0_row47\" class=\"row_heading level0 row47\" >47</th>\n",
       "                        <td id=\"T_5fbe2_row47_col0\" class=\"data row47 col0\" >Feature Interaction</td>\n",
       "                        <td id=\"T_5fbe2_row47_col1\" class=\"data row47 col1\" >False</td>\n",
       "            </tr>\n",
       "            <tr>\n",
       "                        <th id=\"T_5fbe2_level0_row48\" class=\"row_heading level0 row48\" >48</th>\n",
       "                        <td id=\"T_5fbe2_row48_col0\" class=\"data row48 col0\" >Feature Ratio</td>\n",
       "                        <td id=\"T_5fbe2_row48_col1\" class=\"data row48 col1\" >False</td>\n",
       "            </tr>\n",
       "            <tr>\n",
       "                        <th id=\"T_5fbe2_level0_row49\" class=\"row_heading level0 row49\" >49</th>\n",
       "                        <td id=\"T_5fbe2_row49_col0\" class=\"data row49 col0\" >Interaction Threshold</td>\n",
       "                        <td id=\"T_5fbe2_row49_col1\" class=\"data row49 col1\" >None</td>\n",
       "            </tr>\n",
       "    </tbody></table>"
      ],
      "text/plain": [
       "<pandas.io.formats.style.Styler at 0x168970460>"
      ]
     },
     "metadata": {},
     "output_type": "display_data"
    }
   ],
   "source": [
    "from pycaret.anomaly import *\n",
    "\n",
    "exp_ano101 = setup(data, normalize = True, \n",
    "            \n",
    "                   session_id = 123)"
   ]
  },
  {
   "cell_type": "code",
   "execution_count": 6,
   "id": "e446310b",
   "metadata": {},
   "outputs": [
    {
     "data": {
      "text/html": [
       "<div>\n",
       "<style scoped>\n",
       "    .dataframe tbody tr th:only-of-type {\n",
       "        vertical-align: middle;\n",
       "    }\n",
       "\n",
       "    .dataframe tbody tr th {\n",
       "        vertical-align: top;\n",
       "    }\n",
       "\n",
       "    .dataframe thead th {\n",
       "        text-align: right;\n",
       "    }\n",
       "</style>\n",
       "<table border=\"1\" class=\"dataframe\">\n",
       "  <thead>\n",
       "    <tr style=\"text-align: right;\">\n",
       "      <th></th>\n",
       "      <th>Name</th>\n",
       "      <th>Reference</th>\n",
       "    </tr>\n",
       "    <tr>\n",
       "      <th>ID</th>\n",
       "      <th></th>\n",
       "      <th></th>\n",
       "    </tr>\n",
       "  </thead>\n",
       "  <tbody>\n",
       "    <tr>\n",
       "      <th>abod</th>\n",
       "      <td>Angle-base Outlier Detection</td>\n",
       "      <td>pyod.models.abod.ABOD</td>\n",
       "    </tr>\n",
       "    <tr>\n",
       "      <th>cluster</th>\n",
       "      <td>Clustering-Based Local Outlier</td>\n",
       "      <td>pyod.models.cblof.CBLOF</td>\n",
       "    </tr>\n",
       "    <tr>\n",
       "      <th>cof</th>\n",
       "      <td>Connectivity-Based Local Outlier</td>\n",
       "      <td>pyod.models.cof.COF</td>\n",
       "    </tr>\n",
       "    <tr>\n",
       "      <th>iforest</th>\n",
       "      <td>Isolation Forest</td>\n",
       "      <td>pyod.models.iforest.IForest</td>\n",
       "    </tr>\n",
       "    <tr>\n",
       "      <th>histogram</th>\n",
       "      <td>Histogram-based Outlier Detection</td>\n",
       "      <td>pyod.models.hbos.HBOS</td>\n",
       "    </tr>\n",
       "    <tr>\n",
       "      <th>knn</th>\n",
       "      <td>K-Nearest Neighbors Detector</td>\n",
       "      <td>pyod.models.knn.KNN</td>\n",
       "    </tr>\n",
       "    <tr>\n",
       "      <th>lof</th>\n",
       "      <td>Local Outlier Factor</td>\n",
       "      <td>pyod.models.lof.LOF</td>\n",
       "    </tr>\n",
       "    <tr>\n",
       "      <th>svm</th>\n",
       "      <td>One-class SVM detector</td>\n",
       "      <td>pyod.models.ocsvm.OCSVM</td>\n",
       "    </tr>\n",
       "    <tr>\n",
       "      <th>pca</th>\n",
       "      <td>Principal Component Analysis</td>\n",
       "      <td>pyod.models.pca.PCA</td>\n",
       "    </tr>\n",
       "    <tr>\n",
       "      <th>mcd</th>\n",
       "      <td>Minimum Covariance Determinant</td>\n",
       "      <td>pyod.models.mcd.MCD</td>\n",
       "    </tr>\n",
       "    <tr>\n",
       "      <th>sod</th>\n",
       "      <td>Subspace Outlier Detection</td>\n",
       "      <td>pyod.models.sod.SOD</td>\n",
       "    </tr>\n",
       "    <tr>\n",
       "      <th>sos</th>\n",
       "      <td>Stochastic Outlier Selection</td>\n",
       "      <td>pyod.models.sos.SOS</td>\n",
       "    </tr>\n",
       "  </tbody>\n",
       "</table>\n",
       "</div>"
      ],
      "text/plain": [
       "                                        Name                    Reference\n",
       "ID                                                                       \n",
       "abod            Angle-base Outlier Detection        pyod.models.abod.ABOD\n",
       "cluster       Clustering-Based Local Outlier      pyod.models.cblof.CBLOF\n",
       "cof         Connectivity-Based Local Outlier          pyod.models.cof.COF\n",
       "iforest                     Isolation Forest  pyod.models.iforest.IForest\n",
       "histogram  Histogram-based Outlier Detection        pyod.models.hbos.HBOS\n",
       "knn             K-Nearest Neighbors Detector          pyod.models.knn.KNN\n",
       "lof                     Local Outlier Factor          pyod.models.lof.LOF\n",
       "svm                   One-class SVM detector      pyod.models.ocsvm.OCSVM\n",
       "pca             Principal Component Analysis          pyod.models.pca.PCA\n",
       "mcd           Minimum Covariance Determinant          pyod.models.mcd.MCD\n",
       "sod               Subspace Outlier Detection          pyod.models.sod.SOD\n",
       "sos             Stochastic Outlier Selection          pyod.models.sos.SOS"
      ]
     },
     "execution_count": 6,
     "metadata": {},
     "output_type": "execute_result"
    }
   ],
   "source": [
    "models()"
   ]
  },
  {
   "cell_type": "code",
   "execution_count": 7,
   "id": "6f69979c",
   "metadata": {},
   "outputs": [],
   "source": [
    "svm = create_model('svm', fraction = 0.025)"
   ]
  },
  {
   "cell_type": "code",
   "execution_count": 8,
   "id": "f53f1840",
   "metadata": {},
   "outputs": [
    {
     "data": {
      "text/plain": [
       "OCSVM(cache_size=200, coef0=0.0, contamination=0.025, degree=3, gamma='auto',\n",
       "   kernel='rbf', max_iter=-1, nu=0.5, shrinking=True, tol=0.001,\n",
       "   verbose=False)"
      ]
     },
     "execution_count": 8,
     "metadata": {},
     "output_type": "execute_result"
    }
   ],
   "source": [
    "svm"
   ]
  },
  {
   "cell_type": "code",
   "execution_count": 9,
   "id": "1e703525",
   "metadata": {},
   "outputs": [
    {
     "data": {
      "text/html": [
       "<div>\n",
       "<style scoped>\n",
       "    .dataframe tbody tr th:only-of-type {\n",
       "        vertical-align: middle;\n",
       "    }\n",
       "\n",
       "    .dataframe tbody tr th {\n",
       "        vertical-align: top;\n",
       "    }\n",
       "\n",
       "    .dataframe thead th {\n",
       "        text-align: right;\n",
       "    }\n",
       "</style>\n",
       "<table border=\"1\" class=\"dataframe\">\n",
       "  <thead>\n",
       "    <tr style=\"text-align: right;\">\n",
       "      <th></th>\n",
       "      <th>Unnamed: 0</th>\n",
       "      <th>power</th>\n",
       "      <th>humidity</th>\n",
       "      <th>temperature</th>\n",
       "      <th>water_reading</th>\n",
       "      <th>co2</th>\n",
       "      <th>year</th>\n",
       "      <th>month</th>\n",
       "      <th>day</th>\n",
       "      <th>hour</th>\n",
       "      <th>Anomaly</th>\n",
       "      <th>Anomaly_Score</th>\n",
       "    </tr>\n",
       "  </thead>\n",
       "  <tbody>\n",
       "    <tr>\n",
       "      <th>0</th>\n",
       "      <td>230</td>\n",
       "      <td>21.615385</td>\n",
       "      <td>29.5</td>\n",
       "      <td>21.92</td>\n",
       "      <td>0.0</td>\n",
       "      <td>462.0</td>\n",
       "      <td>2021</td>\n",
       "      <td>11</td>\n",
       "      <td>24</td>\n",
       "      <td>19</td>\n",
       "      <td>0</td>\n",
       "      <td>-6.949617</td>\n",
       "    </tr>\n",
       "    <tr>\n",
       "      <th>1</th>\n",
       "      <td>82</td>\n",
       "      <td>21.111111</td>\n",
       "      <td>26.0</td>\n",
       "      <td>21.86</td>\n",
       "      <td>0.0</td>\n",
       "      <td>403.0</td>\n",
       "      <td>2021</td>\n",
       "      <td>11</td>\n",
       "      <td>21</td>\n",
       "      <td>11</td>\n",
       "      <td>0</td>\n",
       "      <td>-7.942084</td>\n",
       "    </tr>\n",
       "    <tr>\n",
       "      <th>2</th>\n",
       "      <td>142</td>\n",
       "      <td>21.416667</td>\n",
       "      <td>23.5</td>\n",
       "      <td>21.21</td>\n",
       "      <td>0.0</td>\n",
       "      <td>427.0</td>\n",
       "      <td>2021</td>\n",
       "      <td>11</td>\n",
       "      <td>22</td>\n",
       "      <td>19</td>\n",
       "      <td>0</td>\n",
       "      <td>-4.278875</td>\n",
       "    </tr>\n",
       "    <tr>\n",
       "      <th>3</th>\n",
       "      <td>45</td>\n",
       "      <td>21.500000</td>\n",
       "      <td>27.5</td>\n",
       "      <td>21.80</td>\n",
       "      <td>0.0</td>\n",
       "      <td>399.0</td>\n",
       "      <td>2021</td>\n",
       "      <td>11</td>\n",
       "      <td>20</td>\n",
       "      <td>16</td>\n",
       "      <td>0</td>\n",
       "      <td>-5.025331</td>\n",
       "    </tr>\n",
       "    <tr>\n",
       "      <th>4</th>\n",
       "      <td>39</td>\n",
       "      <td>21.166667</td>\n",
       "      <td>27.5</td>\n",
       "      <td>21.24</td>\n",
       "      <td>0.0</td>\n",
       "      <td>411.0</td>\n",
       "      <td>2021</td>\n",
       "      <td>11</td>\n",
       "      <td>20</td>\n",
       "      <td>12</td>\n",
       "      <td>0</td>\n",
       "      <td>-7.437141</td>\n",
       "    </tr>\n",
       "  </tbody>\n",
       "</table>\n",
       "</div>"
      ],
      "text/plain": [
       "   Unnamed: 0      power  humidity  temperature  water_reading    co2  year  \\\n",
       "0         230  21.615385      29.5        21.92            0.0  462.0  2021   \n",
       "1          82  21.111111      26.0        21.86            0.0  403.0  2021   \n",
       "2         142  21.416667      23.5        21.21            0.0  427.0  2021   \n",
       "3          45  21.500000      27.5        21.80            0.0  399.0  2021   \n",
       "4          39  21.166667      27.5        21.24            0.0  411.0  2021   \n",
       "\n",
       "   month  day  hour  Anomaly  Anomaly_Score  \n",
       "0     11   24    19        0      -6.949617  \n",
       "1     11   21    11        0      -7.942084  \n",
       "2     11   22    19        0      -4.278875  \n",
       "3     11   20    16        0      -5.025331  \n",
       "4     11   20    12        0      -7.437141  "
      ]
     },
     "execution_count": 9,
     "metadata": {},
     "output_type": "execute_result"
    }
   ],
   "source": [
    "svm_results = assign_model(svm)\n",
    "svm_results.head()"
   ]
  },
  {
   "cell_type": "code",
   "execution_count": 10,
   "id": "022daea8",
   "metadata": {},
   "outputs": [
    {
     "data": {
      "application/vnd.plotly.v1+json": {
       "config": {
        "plotlyServerURL": "https://plot.ly"
       },
       "data": [
        {
         "customdata": [
          [
           230
          ],
          [
           82
          ],
          [
           142
          ],
          [
           45
          ],
          [
           39
          ],
          [
           277
          ],
          [
           242
          ],
          [
           192
          ],
          [
           4
          ],
          [
           40
          ],
          [
           106
          ],
          [
           160
          ],
          [
           189
          ],
          [
           210
          ],
          [
           163
          ],
          [
           222
          ],
          [
           182
          ],
          [
           120
          ],
          [
           114
          ],
          [
           54
          ],
          [
           72
          ],
          [
           156
          ],
          [
           287
          ],
          [
           266
          ],
          [
           92
          ],
          [
           255
          ],
          [
           233
          ],
          [
           166
          ],
          [
           0
          ],
          [
           36
          ],
          [
           271
          ],
          [
           232
          ],
          [
           22
          ],
          [
           305
          ],
          [
           263
          ],
          [
           229
          ],
          [
           55
          ],
          [
           241
          ],
          [
           282
          ],
          [
           206
          ],
          [
           296
          ],
          [
           145
          ],
          [
           150
          ],
          [
           174
          ],
          [
           146
          ],
          [
           81
          ],
          [
           29
          ],
          [
           186
          ],
          [
           205
          ],
          [
           161
          ],
          [
           195
          ],
          [
           144
          ],
          [
           248
          ],
          [
           42
          ],
          [
           61
          ],
          [
           254
          ],
          [
           75
          ],
          [
           28
          ],
          [
           153
          ],
          [
           68
          ],
          [
           168
          ],
          [
           265
          ],
          [
           309
          ],
          [
           50
          ],
          [
           237
          ],
          [
           35
          ],
          [
           164
          ],
          [
           196
          ],
          [
           38
          ],
          [
           183
          ],
          [
           56
          ],
          [
           104
          ],
          [
           224
          ],
          [
           85
          ],
          [
           109
          ],
          [
           175
          ],
          [
           193
          ],
          [
           137
          ],
          [
           167
          ],
          [
           21
          ],
          [
           94
          ],
          [
           102
          ],
          [
           158
          ],
          [
           181
          ],
          [
           256
          ],
          [
           135
          ],
          [
           226
          ],
          [
           130
          ],
          [
           78
          ],
          [
           257
          ],
          [
           179
          ],
          [
           165
          ],
          [
           236
          ],
          [
           187
          ],
          [
           207
          ],
          [
           119
          ],
          [
           214
          ],
          [
           291
          ],
          [
           169
          ],
          [
           51
          ],
          [
           177
          ],
          [
           151
          ],
          [
           58
          ],
          [
           234
          ],
          [
           65
          ],
          [
           12
          ],
          [
           211
          ],
          [
           253
          ],
          [
           66
          ],
          [
           290
          ],
          [
           115
          ],
          [
           303
          ],
          [
           93
          ],
          [
           140
          ],
          [
           73
          ],
          [
           180
          ],
          [
           34
          ],
          [
           159
          ],
          [
           70
          ],
          [
           188
          ],
          [
           288
          ],
          [
           252
          ],
          [
           138
          ],
          [
           238
          ],
          [
           191
          ],
          [
           228
          ],
          [
           198
          ],
          [
           63
          ],
          [
           67
          ],
          [
           19
          ],
          [
           203
          ],
          [
           11
          ],
          [
           10
          ],
          [
           69
          ],
          [
           280
          ],
          [
           184
          ],
          [
           59
          ],
          [
           124
          ],
          [
           294
          ],
          [
           239
          ],
          [
           292
          ],
          [
           113
          ],
          [
           126
          ],
          [
           112
          ],
          [
           125
          ],
          [
           259
          ],
          [
           250
          ],
          [
           71
          ],
          [
           139
          ],
          [
           9
          ],
          [
           298
          ],
          [
           299
          ],
          [
           16
          ],
          [
           197
          ],
          [
           209
          ],
          [
           88
          ],
          [
           44
          ],
          [
           8
          ],
          [
           18
          ],
          [
           100
          ],
          [
           200
          ],
          [
           246
          ],
          [
           306
          ],
          [
           15
          ],
          [
           308
          ],
          [
           64
          ],
          [
           26
          ],
          [
           84
          ],
          [
           273
          ],
          [
           268
          ],
          [
           134
          ],
          [
           107
          ],
          [
           117
          ],
          [
           251
          ],
          [
           60
          ],
          [
           6
          ],
          [
           77
          ],
          [
           278
          ],
          [
           170
          ],
          [
           283
          ],
          [
           90
          ],
          [
           217
          ],
          [
           204
          ],
          [
           128
          ],
          [
           105
          ],
          [
           216
          ],
          [
           284
          ],
          [
           141
          ],
          [
           199
          ],
          [
           32
          ],
          [
           96
          ],
          [
           24
          ],
          [
           43
          ],
          [
           270
          ],
          [
           143
          ],
          [
           190
          ],
          [
           178
          ],
          [
           91
          ],
          [
           194
          ],
          [
           98
          ],
          [
           37
          ],
          [
           293
          ],
          [
           220
          ],
          [
           116
          ],
          [
           30
          ],
          [
           264
          ],
          [
           1
          ],
          [
           14
          ],
          [
           131
          ],
          [
           302
          ],
          [
           171
          ],
          [
           49
          ],
          [
           53
          ],
          [
           27
          ],
          [
           108
          ],
          [
           269
          ],
          [
           244
          ],
          [
           80
          ],
          [
           111
          ],
          [
           155
          ],
          [
           101
          ],
          [
           136
          ],
          [
           127
          ],
          [
           123
          ],
          [
           76
          ],
          [
           249
          ],
          [
           154
          ],
          [
           79
          ],
          [
           7
          ],
          [
           162
          ],
          [
           281
          ],
          [
           147
          ],
          [
           173
          ],
          [
           41
          ],
          [
           243
          ],
          [
           148
          ],
          [
           13
          ],
          [
           219
          ],
          [
           262
          ],
          [
           213
          ],
          [
           208
          ],
          [
           57
          ],
          [
           133
          ],
          [
           235
          ],
          [
           83
          ],
          [
           289
          ],
          [
           297
          ],
          [
           149
          ],
          [
           47
          ],
          [
           33
          ],
          [
           2
          ],
          [
           185
          ],
          [
           129
          ],
          [
           31
          ],
          [
           258
          ],
          [
           304
          ],
          [
           300
          ],
          [
           225
          ],
          [
           272
          ],
          [
           227
          ],
          [
           274
          ],
          [
           74
          ],
          [
           307
          ],
          [
           25
          ],
          [
           95
          ],
          [
           285
          ],
          [
           172
          ],
          [
           17
          ],
          [
           3
          ],
          [
           121
          ],
          [
           23
          ],
          [
           110
          ],
          [
           86
          ],
          [
           223
          ],
          [
           152
          ],
          [
           118
          ],
          [
           89
          ],
          [
           247
          ],
          [
           260
          ],
          [
           275
          ],
          [
           261
          ],
          [
           46
          ],
          [
           97
          ],
          [
           157
          ],
          [
           62
          ],
          [
           201
          ],
          [
           218
          ],
          [
           295
          ],
          [
           245
          ],
          [
           122
          ],
          [
           99
          ],
          [
           48
          ],
          [
           212
          ],
          [
           240
          ],
          [
           301
          ]
         ],
         "hovertemplate": "0=%{x}<br>1=%{y}<br>2=%{z}<br>Feature=%{customdata[0]}<br>Anomaly=%{marker.color}<extra></extra>",
         "legendgroup": "",
         "marker": {
          "color": [
           0,
           0,
           0,
           0,
           0,
           0,
           0,
           0,
           0,
           0,
           0,
           0,
           0,
           1,
           0,
           0,
           0,
           0,
           0,
           0,
           0,
           0,
           0,
           0,
           0,
           0,
           0,
           0,
           1,
           0,
           0,
           0,
           0,
           0,
           0,
           0,
           0,
           0,
           0,
           0,
           0,
           0,
           0,
           0,
           0,
           0,
           0,
           0,
           0,
           0,
           0,
           0,
           0,
           0,
           0,
           0,
           0,
           0,
           0,
           0,
           0,
           0,
           0,
           0,
           0,
           0,
           0,
           0,
           0,
           0,
           0,
           0,
           0,
           0,
           0,
           0,
           0,
           0,
           0,
           0,
           0,
           0,
           0,
           0,
           0,
           0,
           0,
           0,
           0,
           0,
           0,
           0,
           0,
           0,
           0,
           0,
           0,
           0,
           0,
           0,
           0,
           0,
           0,
           0,
           0,
           0,
           0,
           0,
           0,
           0,
           0,
           0,
           0,
           0,
           0,
           0,
           0,
           0,
           0,
           0,
           0,
           0,
           0,
           0,
           0,
           0,
           0,
           0,
           0,
           0,
           0,
           0,
           0,
           0,
           0,
           0,
           0,
           1,
           0,
           0,
           0,
           0,
           0,
           0,
           0,
           0,
           0,
           0,
           0,
           0,
           0,
           0,
           0,
           0,
           0,
           0,
           0,
           0,
           0,
           0,
           0,
           0,
           0,
           0,
           0,
           0,
           0,
           0,
           0,
           0,
           0,
           0,
           0,
           0,
           0,
           0,
           0,
           0,
           0,
           0,
           0,
           0,
           0,
           0,
           0,
           0,
           0,
           0,
           0,
           0,
           0,
           0,
           0,
           0,
           0,
           0,
           0,
           0,
           0,
           0,
           0,
           0,
           0,
           0,
           0,
           0,
           0,
           0,
           0,
           0,
           0,
           0,
           0,
           0,
           0,
           0,
           0,
           0,
           1,
           0,
           0,
           0,
           0,
           0,
           0,
           0,
           0,
           0,
           0,
           0,
           0,
           0,
           0,
           0,
           0,
           0,
           0,
           0,
           0,
           1,
           0,
           0,
           0,
           0,
           0,
           0,
           0,
           0,
           0,
           0,
           0,
           0,
           0,
           0,
           0,
           0,
           0,
           0,
           0,
           0,
           0,
           0,
           1,
           0,
           0,
           0,
           0,
           0,
           0,
           0,
           0,
           0,
           0,
           0,
           0,
           0,
           0,
           0,
           0,
           0,
           0,
           0,
           0,
           0,
           0,
           0,
           0,
           0,
           0,
           1,
           0,
           0,
           1,
           0,
           0
          ],
          "coloraxis": "coloraxis",
          "opacity": 0.7,
          "symbol": "circle"
         },
         "mode": "markers",
         "name": "",
         "scene": "scene",
         "showlegend": false,
         "type": "scatter3d",
         "x": [
          17.18320655822754,
          24.939058303833008,
          -5.509944438934326,
          75.45030212402344,
          77.74821472167969,
          35.15874099731445,
          -41.406341552734375,
          55.34754943847656,
          97.60200500488281,
          66.93026733398438,
          -76.68204498291016,
          -61.156639099121094,
          35.80095291137695,
          19.52419662475586,
          -49.949275970458984,
          -37.493629455566406,
          9.813644409179688,
          -22.144311904907227,
          -67.9247055053711,
          69.5689926147461,
          17.283668518066406,
          -92.7250747680664,
          -103.415283203125,
          2.333357334136963,
          42.45692443847656,
          2.644390344619751,
          -61.02242660522461,
          -47.64091873168945,
          88.13368225097656,
          -38.28129577636719,
          13.335224151611328,
          24.81620216369629,
          5.690789699554443,
          17.59990882873535,
          -27.54987907409668,
          23.70143699645996,
          92.8963851928711,
          -21.631431579589844,
          22.055252075195312,
          -56.865055084228516,
          -44.22937774658203,
          40.07028579711914,
          -78.79341125488281,
          -10.9798583984375,
          58.7625846862793,
          -119.25444793701172,
          -15.047981262207031,
          60.13209533691406,
          74.15748596191406,
          5.2586588859558105,
          -75.40083312988281,
          35.386390686035156,
          -16.373226165771484,
          76.49520111083984,
          -15.783650398254395,
          -19.701814651489258,
          3.232396125793457,
          -41.080772399902344,
          -97.07926177978516,
          17.527267456054688,
          -34.34241485595703,
          -18.725698471069336,
          -97.59172058105469,
          72.2674331665039,
          -83.90882110595703,
          -89.01081085205078,
          -64.52430725097656,
          -54.50288009643555,
          56.732078552246094,
          59.68352127075195,
          60.023258209228516,
          47.822731018066406,
          -21.56297492980957,
          47.023040771484375,
          -94.47025299072266,
          15.263327598571777,
          62.56941223144531,
          0.4776274859905243,
          -3.2360646724700928,
          33.48500442504883,
          20.992734909057617,
          49.360145568847656,
          -79.45460510253906,
          4.546939373016357,
          -5.914632320404053,
          -25.69287109375,
          9.613180160522461,
          -18.072206497192383,
          24.939498901367188,
          18.95331382751465,
          -8.028456687927246,
          -16.84461212158203,
          50.51850128173828,
          30.857601165771484,
          -55.12247085571289,
          -66.06399536132812,
          -19.992107391357422,
          -121.27571105957031,
          -42.749202728271484,
          101.2828598022461,
          -23.854524612426758,
          -20.11566162109375,
          83.43453216552734,
          41.69325637817383,
          -21.92825698852539,
          136.93833923339844,
          -15.356131553649902,
          1.284287452697754,
          -4.824634552001953,
          -117.45860290527344,
          -39.36506271362305,
          49.923240661621094,
          -46.348548889160156,
          26.618022918701172,
          69.23928833007812,
          -19.234193801879883,
          -25.779956817626953,
          -71.42098236083984,
          27.232810974121094,
          43.46916961669922,
          -29.181222915649414,
          -14.324979782104492,
          15.133757591247559,
          -8.704315185546875,
          49.080047607421875,
          2.3429877758026123,
          -49.63998031616211,
          -8.878851890563965,
          11.374533653259277,
          9.662642478942871,
          -72.81625366210938,
          128.73223876953125,
          113.54049682617188,
          -8.422554016113281,
          35.404205322265625,
          22.241817474365234,
          50.193260192871094,
          -44.49935531616211,
          -107.85986328125,
          -25.88385772705078,
          -59.09711837768555,
          -71.46855163574219,
          -34.981021881103516,
          -59.41938018798828,
          -20.870309829711914,
          15.776958465576172,
          -3.0968432426452637,
          16.55852699279785,
          16.089082717895508,
          -70.32147979736328,
          -73.23904418945312,
          -82.6310043334961,
          13.85916805267334,
          -64.79207611083984,
          -3.608846664428711,
          60.4055290222168,
          99.4355697631836,
          127.48538208007812,
          9.036930084228516,
          49.88352584838867,
          -62.414146423339844,
          120.48035430908203,
          -65.15655517578125,
          141.60467529296875,
          -80.60001373291016,
          7.916855335235596,
          -1.179862380027771,
          -83.91938781738281,
          46.454345703125,
          27.05501365661621,
          -11.596075057983398,
          -72.57241821289062,
          -29.87841033935547,
          4.2908477783203125,
          60.30626678466797,
          121.54360961914062,
          -0.9116579294204712,
          16.310564041137695,
          -28.10420036315918,
          63.518733978271484,
          -31.458389282226562,
          -32.04106140136719,
          80.7105484008789,
          -13.766880989074707,
          -1.0294101238250732,
          -10.929022789001465,
          -104.2273941040039,
          37.20612716674805,
          -26.60782814025879,
          -34.56129455566406,
          22.899517059326172,
          30.728525161743164,
          86.99092864990234,
          23.61240005493164,
          62.820899963378906,
          36.744937896728516,
          6.534671783447266,
          36.48312759399414,
          61.39994812011719,
          -40.784217834472656,
          47.44870376586914,
          -92.91246032714844,
          -2.046430826187134,
          -48.9529914855957,
          43.966957092285156,
          -22.96342658996582,
          100.89824676513672,
          130.5526123046875,
          -31.775341033935547,
          -94.66179656982422,
          32.89360427856445,
          96.5634536743164,
          79.4231948852539,
          29.06903839111328,
          -55.60493850708008,
          29.538612365722656,
          -39.562191009521484,
          18.954872131347656,
          19.353652954101562,
          -102.84492492675781,
          28.905744552612305,
          5.737098693847656,
          -16.09859275817871,
          -13.58519172668457,
          -48.97283172607422,
          -18.156755447387695,
          -93.22599029541016,
          0.2957651913166046,
          108.41036987304688,
          -20.983566284179688,
          32.531803131103516,
          59.62895965576172,
          -35.51060104370117,
          90.2927017211914,
          -33.80568313598633,
          52.554443359375,
          119.40872192382812,
          -34.60824203491211,
          8.392719268798828,
          -41.756961822509766,
          -9.037513732910156,
          73.1695327758789,
          -36.492286682128906,
          48.310272216796875,
          -25.90557289123535,
          73.38346099853516,
          -109.94844818115234,
          -73.68408966064453,
          87.03811645507812,
          -14.080119132995605,
          86.40485382080078,
          17.296106338500977,
          -38.10749053955078,
          20.781396865844727,
          -25.512187957763672,
          -120.07527923583984,
          -75.26265716552734,
          -6.413052082061768,
          -96.4276123046875,
          8.216009140014648,
          54.7830810546875,
          -29.225116729736328,
          -66.57447052001953,
          20.73599624633789,
          72.3398666381836,
          -74.37216186523438,
          -9.80990219116211,
          13.919175148010254,
          107.85149383544922,
          -25.81334114074707,
          -14.001219749450684,
          -53.6648063659668,
          13.95941162109375,
          -31.894147872924805,
          12.828198432922363,
          -48.59066390991211,
          40.47161865234375,
          101.22515106201172,
          -0.7935636639595032,
          47.81313705444336,
          -12.062540054321289,
          -43.01833724975586,
          46.328853607177734,
          -76.6716537475586,
          6.6397247314453125,
          95.46163177490234,
          -25.465105056762695,
          -90.48993682861328,
          -57.423797607421875,
          -50.95625686645508,
          79.6912841796875,
          61.9964485168457,
          -46.067989349365234,
          -34.42757797241211,
          -102.1413803100586
         ],
         "y": [
          47.37316131591797,
          -57.608272552490234,
          -125.5533218383789,
          -36.95873260498047,
          -85.10877990722656,
          93.67754364013672,
          74.58515930175781,
          -20.744714736938477,
          48.01410675048828,
          -66.14614868164062,
          -95.05465698242188,
          -49.37509536743164,
          1.7571542263031006,
          31.996347427368164,
          -46.31534957885742,
          64.33204650878906,
          12.24462890625,
          -62.1179084777832,
          -81.56497192382812,
          -12.374391555786133,
          12.128460884094238,
          -39.7476806640625,
          4.088712692260742,
          115.0953140258789,
          -15.060381889343262,
          52.213134765625,
          8.457517623901367,
          2.822580337524414,
          72.5857925415039,
          -52.96534729003906,
          102.57083892822266,
          39.082984924316406,
          -92.31130981445312,
          -111.4453125,
          105.36665344238281,
          66.0013656616211,
          -10.8126859664917,
          79.09662628173828,
          75.04978942871094,
          14.416112899780273,
          -15.643051147460938,
          -53.06053161621094,
          -64.62106323242188,
          -6.975322246551514,
          -61.4827880859375,
          -70.52313995361328,
          -135.52093505859375,
          86.25841522216797,
          -28.69719886779785,
          -0.7943671345710754,
          -23.662765502929688,
          -47.70824432373047,
          104.75357818603516,
          -49.193931579589844,
          -53.57246017456055,
          108.19110870361328,
          -68.69271087646484,
          -32.59336471557617,
          -36.55419921875,
          -71.75220489501953,
          -15.117060661315918,
          95.00359344482422,
          38.6801872253418,
          -15.106085777282715,
          0.7518928647041321,
          -69.85431671142578,
          -38.95598602294922,
          -30.496044158935547,
          -97.08232879638672,
          72.57129669189453,
          7.352232933044434,
          2.4621875286102295,
          64.33548736572266,
          32.097591400146484,
          81.01074981689453,
          3.3279566764831543,
          -4.631308078765869,
          -68.93099975585938,
          0.5496774315834045,
          -105.53668975830078,
          -21.83664894104004,
          8.688251495361328,
          -56.53173065185547,
          19.764928817749023,
          94.44275665283203,
          7.014017581939697,
          68.65499114990234,
          -50.98416519165039,
          -10.869427680969238,
          65.54430389404297,
          14.053915023803711,
          4.246895790100098,
          66.04817199707031,
          -18.607086181640625,
          13.639595031738281,
          85.01113891601562,
          46.43522644042969,
          18.610652923583984,
          18.989574432373047,
          -33.296592712402344,
          7.775774002075195,
          -15.636250495910645,
          2.3296854496002197,
          48.90325164794922,
          0.7506893873214722,
          27.014204025268555,
          33.359092712402344,
          105.66685485839844,
          -59.43751525878906,
          -4.887908458709717,
          -91.25442504882812,
          -26.531328201293945,
          -10.251179695129395,
          -66.9596176147461,
          110.13739776611328,
          27.007801055908203,
          -127.98080444335938,
          -35.8491325378418,
          -50.897159576416016,
          -0.7533186078071594,
          -102.5565185546875,
          85.18433380126953,
          -80.75871276855469,
          64.39332580566406,
          -11.680130004882812,
          72.62008666992188,
          -9.198978424072266,
          -29.644790649414062,
          -32.2348747253418,
          -110.85881042480469,
          1.3919998407363892,
          24.90813636779785,
          25.23578453063965,
          -40.54063034057617,
          91.82221221923828,
          2.93361759185791,
          25.309598922729492,
          -2.2449750900268555,
          37.32503890991211,
          47.27869415283203,
          48.736045837402344,
          91.88517761230469,
          -40.911773681640625,
          -102.4639663696289,
          -28.500709533691406,
          103.0482177734375,
          98.58157348632812,
          -50.88408279418945,
          -58.4661979675293,
          -102.63755798339844,
          53.43473815917969,
          17.263174057006836,
          -87.61811828613281,
          -17.576568603515625,
          27.47654151916504,
          19.204612731933594,
          -43.764347076416016,
          50.40296936035156,
          -139.1708526611328,
          6.373149394989014,
          -10.675912857055664,
          -25.8999080657959,
          46.058013916015625,
          3.9490983486175537,
          27.83597183227539,
          -5.775898456573486,
          -128.32679748535156,
          79.7192611694336,
          62.71295166015625,
          49.57337188720703,
          -42.46952438354492,
          77.96842956542969,
          -72.97383880615234,
          87.02809143066406,
          10.663411140441895,
          47.27484893798828,
          -79.31570434570312,
          88.16637420654297,
          5.042747497558594,
          -56.31605911254883,
          -79.49242401123047,
          58.572845458984375,
          -9.78596305847168,
          -10.112985610961914,
          5.0702900886535645,
          42.681488037109375,
          26.513761520385742,
          -73.60810089111328,
          17.730764389038086,
          -26.86127281188965,
          -21.835067749023438,
          -88.89030456542969,
          -56.50377655029297,
          100.7846908569336,
          -77.02839660644531,
          -22.833967208862305,
          20.752559661865234,
          -40.57852554321289,
          -27.790842056274414,
          8.673805236816406,
          -102.72439575195312,
          -0.80106121301651,
          57.93109130859375,
          -67.41162109375,
          -121.84506225585938,
          115.98320770263672,
          67.45206451416016,
          6.088512897491455,
          -64.26432037353516,
          37.77191162109375,
          57.039764404296875,
          -17.97078514099121,
          -31.978017807006836,
          -122.70986938476562,
          -105.71288299560547,
          70.89154052734375,
          89.25688171386719,
          -32.029510498046875,
          9.06795597076416,
          -18.98868179321289,
          0.27956023812294006,
          -46.7882194519043,
          -34.674560546875,
          -34.21847915649414,
          101.56498718261719,
          84.49229431152344,
          -47.740501403808594,
          -45.938194274902344,
          34.3482666015625,
          3.393340826034546,
          70.85420227050781,
          -40.42372131347656,
          23.393556594848633,
          -66.91109466552734,
          52.135433197021484,
          -55.68342208862305,
          6.5186686515808105,
          44.198204040527344,
          121.58811950683594,
          42.66902542114258,
          30.333026885986328,
          24.566741943359375,
          -11.19198226928711,
          75.36203002929688,
          -58.06312561035156,
          -98.2550277709961,
          14.05711841583252,
          -53.87383270263672,
          -25.656496047973633,
          -113.41080474853516,
          47.88029479980469,
          -9.880585670471191,
          -41.95969772338867,
          -98.82795715332031,
          96.89507293701172,
          33.7809944152832,
          40.602195739746094,
          54.35202407836914,
          53.5799446105957,
          52.523223876953125,
          85.72103118896484,
          -39.60910415649414,
          37.590885162353516,
          -111.97616577148438,
          27.502391815185547,
          44.67942810058594,
          -1.4326214790344238,
          -47.025726318359375,
          64.23357391357422,
          -21.18025016784668,
          -42.21070098876953,
          -82.0794448852539,
          -47.2413330078125,
          45.70082092285156,
          -48.72356033325195,
          -80.9468994140625,
          -38.2828483581543,
          8.20831298828125,
          98.4273681640625,
          55.02614212036133,
          116.88076782226562,
          -70.84712982177734,
          -19.20375633239746,
          -31.134765625,
          -46.59390640258789,
          -2.510981559753418,
          63.69695281982422,
          21.6033878326416,
          -74.65938568115234,
          18.481224060058594,
          23.107839584350586,
          28.182708740234375,
          44.47509765625,
          98.87837982177734,
          17.320220947265625
         ],
         "z": [
          -15.016570091247559,
          27.728574752807617,
          41.1368293762207,
          8.227478981018066,
          -0.30643245577812195,
          -46.748233795166016,
          86.89144134521484,
          -63.2689208984375,
          8.446124076843262,
          -0.09741590172052383,
          -3.5565598011016846,
          -3.592071771621704,
          -83.33317565917969,
          47.51435089111328,
          14.230179786682129,
          -20.365447998046875,
          -71.82599639892578,
          -43.1624870300293,
          -26.28371810913086,
          25.23300552368164,
          100.62187194824219,
          22.986650466918945,
          40.030296325683594,
          -19.03376007080078,
          10.597848892211914,
          50.80126190185547,
          -41.698368072509766,
          -73.06588745117188,
          -11.11174488067627,
          112.6324691772461,
          -39.1827507019043,
          -35.2321662902832,
          1.4452402591705322,
          68.71955108642578,
          -39.34629821777344,
          -28.111982345581055,
          30.30629539489746,
          75.3031005859375,
          -79.67273712158203,
          60.9764404296875,
          12.195624351501465,
          -39.098045349121094,
          12.395313262939453,
          -53.11539840698242,
          -54.230777740478516,
          7.570362091064453,
          -8.401874542236328,
          44.733707427978516,
          90.81808471679688,
          57.4859733581543,
          47.4145622253418,
          -61.272010803222656,
          69.15147399902344,
          -12.548419952392578,
          87.73724365234375,
          36.00810623168945,
          43.374107360839844,
          131.68927001953125,
          56.91313552856445,
          66.6356430053711,
          -49.22024917602539,
          -18.113021850585938,
          -30.56545639038086,
          0.9940668344497681,
          -61.693687438964844,
          67.41024017333984,
          -27.668956756591797,
          46.644771575927734,
          -5.588165283203125,
          55.442588806152344,
          70.22855377197266,
          -23.588687896728516,
          -3.0185952186584473,
          -57.33264923095703,
          -45.99817657470703,
          19.49126625061035,
          -78.10238647460938,
          -73.20354461669922,
          7.348537921905518,
          -22.138561248779297,
          3.239213466644287,
          -1.0707674026489258,
          -14.437490463256836,
          36.71514129638672,
          22.983015060424805,
          -106.78832244873047,
          -9.972190856933594,
          -81.58685302734375,
          95.2059097290039,
          36.17679977416992,
          -50.971466064453125,
          25.27524757385254,
          -33.829742431640625,
          -55.98686981201172,
          37.5178108215332,
          4.923816204071045,
          -52.267581939697266,
          28.764558792114258,
          -87.96250915527344,
          22.41886329650879,
          -74.0947494506836,
          39.436275482177734,
          11.730607986450195,
          -23.09259796142578,
          104.76233673095703,
          7.285170555114746,
          -29.224695205688477,
          46.9727783203125,
          67.1550064086914,
          21.651350021362305,
          -24.465438842773438,
          60.412322998046875,
          -15.221332550048828,
          -74.91146087646484,
          -12.611980438232422,
          -81.462158203125,
          9.856870651245117,
          13.137703895568848,
          75.67037963867188,
          -62.66391372680664,
          61.53363800048828,
          52.87120819091797,
          -57.43419647216797,
          87.05419921875,
          -96.26898193359375,
          -31.83989715576172,
          52.45393753051758,
          81.38975524902344,
          67.44368743896484,
          -25.245418548583984,
          51.045291900634766,
          -13.912530899047852,
          12.006341934204102,
          54.8898811340332,
          -72.41045379638672,
          -54.48439407348633,
          60.74563217163086,
          -117.32731628417969,
          20.921123504638672,
          49.647499084472656,
          39.59847640991211,
          -34.5318489074707,
          -63.689964294433594,
          -32.8714485168457,
          -76.35050201416016,
          16.68752098083496,
          88.41373443603516,
          53.772300720214844,
          -48.06379318237305,
          62.54264831542969,
          -19.91192626953125,
          -3.0744993686676025,
          -22.4217586517334,
          66.70246887207031,
          -12.76541805267334,
          -37.94148635864258,
          -2.359337329864502,
          -18.162233352661133,
          -9.639176368713379,
          97.38578033447266,
          33.33771896362305,
          -39.941959381103516,
          17.69936752319336,
          -2.2433016300201416,
          -24.924217224121094,
          113.1250991821289,
          8.654961585998535,
          36.04788589477539,
          26.175031661987305,
          20.359642028808594,
          -59.58240509033203,
          -59.95520782470703,
          -12.425966262817383,
          69.49822235107422,
          47.66180419921875,
          8.67302131652832,
          83.77743530273438,
          -59.61707305908203,
          -43.726009368896484,
          66.69792175292969,
          28.866119384765625,
          -63.97434616088867,
          104.28213500976562,
          -96.25528717041016,
          81.8399887084961,
          16.630739212036133,
          48.601837158203125,
          -53.66859436035156,
          71.63360595703125,
          106.7724609375,
          -20.635498046875,
          -0.23970025777816772,
          14.246325492858887,
          -17.957149505615234,
          32.44978713989258,
          -79.64315795898438,
          16.59348487854004,
          -6.011209964752197,
          -84.14537811279297,
          -3.937943935394287,
          17.81157875061035,
          16.196287155151367,
          18.316978454589844,
          -25.14277458190918,
          -1.3369158506393433,
          -13.71828556060791,
          -24.830080032348633,
          16.554101943969727,
          -69.81292724609375,
          -4.876250267028809,
          76.39446258544922,
          5.786501884460449,
          32.38109588623047,
          20.142309188842773,
          -7.558034896850586,
          16.289173126220703,
          63.351539611816406,
          35.128631591796875,
          71.23686981201172,
          -20.41391372680664,
          -11.085410118103027,
          -73.64324188232422,
          -21.985471725463867,
          -99.19457244873047,
          -77.64239501953125,
          100.64530944824219,
          1.7740495204925537,
          27.565109252929688,
          -8.410541534423828,
          48.352134704589844,
          -61.23210525512695,
          -44.62040710449219,
          -64.51363372802734,
          -8.569130897521973,
          68.1352767944336,
          -75.58448791503906,
          -3.287799119949341,
          -30.75400161743164,
          2.721217393875122,
          -110.81006622314453,
          64.81937408447266,
          59.06869125366211,
          -92.37957000732422,
          -7.539536952972412,
          29.84157371520996,
          -50.83387756347656,
          6.741000652313232,
          31.786415100097656,
          -14.191300392150879,
          -3.7895641326904297,
          -19.075820922851562,
          -72.14006805419922,
          -85.92660522460938,
          23.405778884887695,
          7.759954452514648,
          -5.4625563621521,
          -45.839012145996094,
          -18.061552047729492,
          -77.07905578613281,
          -39.468719482421875,
          -55.93748092651367,
          69.1717529296875,
          -65.13314056396484,
          -1.0557738542556763,
          -66.54467010498047,
          53.34972381591797,
          -30.427457809448242,
          124.0589828491211,
          -1.3403828144073486,
          -113.2016830444336,
          127.31449127197266,
          -3.542508125305176,
          5.567980766296387,
          -5.587019443511963,
          -120.54701232910156,
          -45.00248718261719,
          17.72982406616211,
          -50.874000549316406,
          0.2281186431646347,
          8.362648010253906,
          11.367579460144043,
          58.645904541015625,
          -14.173750877380371,
          -7.629295349121094,
          89.12764739990234,
          71.20159149169922,
          -37.68647384643555,
          24.12883949279785,
          96.35311889648438,
          -115.81192779541016,
          26.984670639038086,
          80.10901641845703,
          -84.57695007324219,
          86.0302963256836,
          -17.713640213012695
         ]
        }
       ],
       "layout": {
        "coloraxis": {
         "colorbar": {
          "title": {
           "text": "Anomaly"
          }
         },
         "colorscale": [
          [
           0,
           "#0d0887"
          ],
          [
           0.1111111111111111,
           "#46039f"
          ],
          [
           0.2222222222222222,
           "#7201a8"
          ],
          [
           0.3333333333333333,
           "#9c179e"
          ],
          [
           0.4444444444444444,
           "#bd3786"
          ],
          [
           0.5555555555555556,
           "#d8576b"
          ],
          [
           0.6666666666666666,
           "#ed7953"
          ],
          [
           0.7777777777777778,
           "#fb9f3a"
          ],
          [
           0.8888888888888888,
           "#fdca26"
          ],
          [
           1,
           "#f0f921"
          ]
         ]
        },
        "height": 800,
        "legend": {
         "tracegroupgap": 0
        },
        "scene": {
         "domain": {
          "x": [
           0,
           1
          ],
          "y": [
           0,
           1
          ]
         },
         "xaxis": {
          "title": {
           "text": "0"
          }
         },
         "yaxis": {
          "title": {
           "text": "1"
          }
         },
         "zaxis": {
          "title": {
           "text": "2"
          }
         }
        },
        "template": {
         "data": {
          "bar": [
           {
            "error_x": {
             "color": "#2a3f5f"
            },
            "error_y": {
             "color": "#2a3f5f"
            },
            "marker": {
             "line": {
              "color": "#E5ECF6",
              "width": 0.5
             },
             "pattern": {
              "fillmode": "overlay",
              "size": 10,
              "solidity": 0.2
             }
            },
            "type": "bar"
           }
          ],
          "barpolar": [
           {
            "marker": {
             "line": {
              "color": "#E5ECF6",
              "width": 0.5
             },
             "pattern": {
              "fillmode": "overlay",
              "size": 10,
              "solidity": 0.2
             }
            },
            "type": "barpolar"
           }
          ],
          "carpet": [
           {
            "aaxis": {
             "endlinecolor": "#2a3f5f",
             "gridcolor": "white",
             "linecolor": "white",
             "minorgridcolor": "white",
             "startlinecolor": "#2a3f5f"
            },
            "baxis": {
             "endlinecolor": "#2a3f5f",
             "gridcolor": "white",
             "linecolor": "white",
             "minorgridcolor": "white",
             "startlinecolor": "#2a3f5f"
            },
            "type": "carpet"
           }
          ],
          "choropleth": [
           {
            "colorbar": {
             "outlinewidth": 0,
             "ticks": ""
            },
            "type": "choropleth"
           }
          ],
          "contour": [
           {
            "colorbar": {
             "outlinewidth": 0,
             "ticks": ""
            },
            "colorscale": [
             [
              0,
              "#0d0887"
             ],
             [
              0.1111111111111111,
              "#46039f"
             ],
             [
              0.2222222222222222,
              "#7201a8"
             ],
             [
              0.3333333333333333,
              "#9c179e"
             ],
             [
              0.4444444444444444,
              "#bd3786"
             ],
             [
              0.5555555555555556,
              "#d8576b"
             ],
             [
              0.6666666666666666,
              "#ed7953"
             ],
             [
              0.7777777777777778,
              "#fb9f3a"
             ],
             [
              0.8888888888888888,
              "#fdca26"
             ],
             [
              1,
              "#f0f921"
             ]
            ],
            "type": "contour"
           }
          ],
          "contourcarpet": [
           {
            "colorbar": {
             "outlinewidth": 0,
             "ticks": ""
            },
            "type": "contourcarpet"
           }
          ],
          "heatmap": [
           {
            "colorbar": {
             "outlinewidth": 0,
             "ticks": ""
            },
            "colorscale": [
             [
              0,
              "#0d0887"
             ],
             [
              0.1111111111111111,
              "#46039f"
             ],
             [
              0.2222222222222222,
              "#7201a8"
             ],
             [
              0.3333333333333333,
              "#9c179e"
             ],
             [
              0.4444444444444444,
              "#bd3786"
             ],
             [
              0.5555555555555556,
              "#d8576b"
             ],
             [
              0.6666666666666666,
              "#ed7953"
             ],
             [
              0.7777777777777778,
              "#fb9f3a"
             ],
             [
              0.8888888888888888,
              "#fdca26"
             ],
             [
              1,
              "#f0f921"
             ]
            ],
            "type": "heatmap"
           }
          ],
          "heatmapgl": [
           {
            "colorbar": {
             "outlinewidth": 0,
             "ticks": ""
            },
            "colorscale": [
             [
              0,
              "#0d0887"
             ],
             [
              0.1111111111111111,
              "#46039f"
             ],
             [
              0.2222222222222222,
              "#7201a8"
             ],
             [
              0.3333333333333333,
              "#9c179e"
             ],
             [
              0.4444444444444444,
              "#bd3786"
             ],
             [
              0.5555555555555556,
              "#d8576b"
             ],
             [
              0.6666666666666666,
              "#ed7953"
             ],
             [
              0.7777777777777778,
              "#fb9f3a"
             ],
             [
              0.8888888888888888,
              "#fdca26"
             ],
             [
              1,
              "#f0f921"
             ]
            ],
            "type": "heatmapgl"
           }
          ],
          "histogram": [
           {
            "marker": {
             "pattern": {
              "fillmode": "overlay",
              "size": 10,
              "solidity": 0.2
             }
            },
            "type": "histogram"
           }
          ],
          "histogram2d": [
           {
            "colorbar": {
             "outlinewidth": 0,
             "ticks": ""
            },
            "colorscale": [
             [
              0,
              "#0d0887"
             ],
             [
              0.1111111111111111,
              "#46039f"
             ],
             [
              0.2222222222222222,
              "#7201a8"
             ],
             [
              0.3333333333333333,
              "#9c179e"
             ],
             [
              0.4444444444444444,
              "#bd3786"
             ],
             [
              0.5555555555555556,
              "#d8576b"
             ],
             [
              0.6666666666666666,
              "#ed7953"
             ],
             [
              0.7777777777777778,
              "#fb9f3a"
             ],
             [
              0.8888888888888888,
              "#fdca26"
             ],
             [
              1,
              "#f0f921"
             ]
            ],
            "type": "histogram2d"
           }
          ],
          "histogram2dcontour": [
           {
            "colorbar": {
             "outlinewidth": 0,
             "ticks": ""
            },
            "colorscale": [
             [
              0,
              "#0d0887"
             ],
             [
              0.1111111111111111,
              "#46039f"
             ],
             [
              0.2222222222222222,
              "#7201a8"
             ],
             [
              0.3333333333333333,
              "#9c179e"
             ],
             [
              0.4444444444444444,
              "#bd3786"
             ],
             [
              0.5555555555555556,
              "#d8576b"
             ],
             [
              0.6666666666666666,
              "#ed7953"
             ],
             [
              0.7777777777777778,
              "#fb9f3a"
             ],
             [
              0.8888888888888888,
              "#fdca26"
             ],
             [
              1,
              "#f0f921"
             ]
            ],
            "type": "histogram2dcontour"
           }
          ],
          "mesh3d": [
           {
            "colorbar": {
             "outlinewidth": 0,
             "ticks": ""
            },
            "type": "mesh3d"
           }
          ],
          "parcoords": [
           {
            "line": {
             "colorbar": {
              "outlinewidth": 0,
              "ticks": ""
             }
            },
            "type": "parcoords"
           }
          ],
          "pie": [
           {
            "automargin": true,
            "type": "pie"
           }
          ],
          "scatter": [
           {
            "marker": {
             "colorbar": {
              "outlinewidth": 0,
              "ticks": ""
             }
            },
            "type": "scatter"
           }
          ],
          "scatter3d": [
           {
            "line": {
             "colorbar": {
              "outlinewidth": 0,
              "ticks": ""
             }
            },
            "marker": {
             "colorbar": {
              "outlinewidth": 0,
              "ticks": ""
             }
            },
            "type": "scatter3d"
           }
          ],
          "scattercarpet": [
           {
            "marker": {
             "colorbar": {
              "outlinewidth": 0,
              "ticks": ""
             }
            },
            "type": "scattercarpet"
           }
          ],
          "scattergeo": [
           {
            "marker": {
             "colorbar": {
              "outlinewidth": 0,
              "ticks": ""
             }
            },
            "type": "scattergeo"
           }
          ],
          "scattergl": [
           {
            "marker": {
             "colorbar": {
              "outlinewidth": 0,
              "ticks": ""
             }
            },
            "type": "scattergl"
           }
          ],
          "scattermapbox": [
           {
            "marker": {
             "colorbar": {
              "outlinewidth": 0,
              "ticks": ""
             }
            },
            "type": "scattermapbox"
           }
          ],
          "scatterpolar": [
           {
            "marker": {
             "colorbar": {
              "outlinewidth": 0,
              "ticks": ""
             }
            },
            "type": "scatterpolar"
           }
          ],
          "scatterpolargl": [
           {
            "marker": {
             "colorbar": {
              "outlinewidth": 0,
              "ticks": ""
             }
            },
            "type": "scatterpolargl"
           }
          ],
          "scatterternary": [
           {
            "marker": {
             "colorbar": {
              "outlinewidth": 0,
              "ticks": ""
             }
            },
            "type": "scatterternary"
           }
          ],
          "surface": [
           {
            "colorbar": {
             "outlinewidth": 0,
             "ticks": ""
            },
            "colorscale": [
             [
              0,
              "#0d0887"
             ],
             [
              0.1111111111111111,
              "#46039f"
             ],
             [
              0.2222222222222222,
              "#7201a8"
             ],
             [
              0.3333333333333333,
              "#9c179e"
             ],
             [
              0.4444444444444444,
              "#bd3786"
             ],
             [
              0.5555555555555556,
              "#d8576b"
             ],
             [
              0.6666666666666666,
              "#ed7953"
             ],
             [
              0.7777777777777778,
              "#fb9f3a"
             ],
             [
              0.8888888888888888,
              "#fdca26"
             ],
             [
              1,
              "#f0f921"
             ]
            ],
            "type": "surface"
           }
          ],
          "table": [
           {
            "cells": {
             "fill": {
              "color": "#EBF0F8"
             },
             "line": {
              "color": "white"
             }
            },
            "header": {
             "fill": {
              "color": "#C8D4E3"
             },
             "line": {
              "color": "white"
             }
            },
            "type": "table"
           }
          ]
         },
         "layout": {
          "annotationdefaults": {
           "arrowcolor": "#2a3f5f",
           "arrowhead": 0,
           "arrowwidth": 1
          },
          "autotypenumbers": "strict",
          "coloraxis": {
           "colorbar": {
            "outlinewidth": 0,
            "ticks": ""
           }
          },
          "colorscale": {
           "diverging": [
            [
             0,
             "#8e0152"
            ],
            [
             0.1,
             "#c51b7d"
            ],
            [
             0.2,
             "#de77ae"
            ],
            [
             0.3,
             "#f1b6da"
            ],
            [
             0.4,
             "#fde0ef"
            ],
            [
             0.5,
             "#f7f7f7"
            ],
            [
             0.6,
             "#e6f5d0"
            ],
            [
             0.7,
             "#b8e186"
            ],
            [
             0.8,
             "#7fbc41"
            ],
            [
             0.9,
             "#4d9221"
            ],
            [
             1,
             "#276419"
            ]
           ],
           "sequential": [
            [
             0,
             "#0d0887"
            ],
            [
             0.1111111111111111,
             "#46039f"
            ],
            [
             0.2222222222222222,
             "#7201a8"
            ],
            [
             0.3333333333333333,
             "#9c179e"
            ],
            [
             0.4444444444444444,
             "#bd3786"
            ],
            [
             0.5555555555555556,
             "#d8576b"
            ],
            [
             0.6666666666666666,
             "#ed7953"
            ],
            [
             0.7777777777777778,
             "#fb9f3a"
            ],
            [
             0.8888888888888888,
             "#fdca26"
            ],
            [
             1,
             "#f0f921"
            ]
           ],
           "sequentialminus": [
            [
             0,
             "#0d0887"
            ],
            [
             0.1111111111111111,
             "#46039f"
            ],
            [
             0.2222222222222222,
             "#7201a8"
            ],
            [
             0.3333333333333333,
             "#9c179e"
            ],
            [
             0.4444444444444444,
             "#bd3786"
            ],
            [
             0.5555555555555556,
             "#d8576b"
            ],
            [
             0.6666666666666666,
             "#ed7953"
            ],
            [
             0.7777777777777778,
             "#fb9f3a"
            ],
            [
             0.8888888888888888,
             "#fdca26"
            ],
            [
             1,
             "#f0f921"
            ]
           ]
          },
          "colorway": [
           "#636efa",
           "#EF553B",
           "#00cc96",
           "#ab63fa",
           "#FFA15A",
           "#19d3f3",
           "#FF6692",
           "#B6E880",
           "#FF97FF",
           "#FECB52"
          ],
          "font": {
           "color": "#2a3f5f"
          },
          "geo": {
           "bgcolor": "white",
           "lakecolor": "white",
           "landcolor": "#E5ECF6",
           "showlakes": true,
           "showland": true,
           "subunitcolor": "white"
          },
          "hoverlabel": {
           "align": "left"
          },
          "hovermode": "closest",
          "mapbox": {
           "style": "light"
          },
          "paper_bgcolor": "white",
          "plot_bgcolor": "#E5ECF6",
          "polar": {
           "angularaxis": {
            "gridcolor": "white",
            "linecolor": "white",
            "ticks": ""
           },
           "bgcolor": "#E5ECF6",
           "radialaxis": {
            "gridcolor": "white",
            "linecolor": "white",
            "ticks": ""
           }
          },
          "scene": {
           "xaxis": {
            "backgroundcolor": "#E5ECF6",
            "gridcolor": "white",
            "gridwidth": 2,
            "linecolor": "white",
            "showbackground": true,
            "ticks": "",
            "zerolinecolor": "white"
           },
           "yaxis": {
            "backgroundcolor": "#E5ECF6",
            "gridcolor": "white",
            "gridwidth": 2,
            "linecolor": "white",
            "showbackground": true,
            "ticks": "",
            "zerolinecolor": "white"
           },
           "zaxis": {
            "backgroundcolor": "#E5ECF6",
            "gridcolor": "white",
            "gridwidth": 2,
            "linecolor": "white",
            "showbackground": true,
            "ticks": "",
            "zerolinecolor": "white"
           }
          },
          "shapedefaults": {
           "line": {
            "color": "#2a3f5f"
           }
          },
          "ternary": {
           "aaxis": {
            "gridcolor": "white",
            "linecolor": "white",
            "ticks": ""
           },
           "baxis": {
            "gridcolor": "white",
            "linecolor": "white",
            "ticks": ""
           },
           "bgcolor": "#E5ECF6",
           "caxis": {
            "gridcolor": "white",
            "linecolor": "white",
            "ticks": ""
           }
          },
          "title": {
           "x": 0.05
          },
          "xaxis": {
           "automargin": true,
           "gridcolor": "white",
           "linecolor": "white",
           "ticks": "",
           "title": {
            "standoff": 15
           },
           "zerolinecolor": "white",
           "zerolinewidth": 2
          },
          "yaxis": {
           "automargin": true,
           "gridcolor": "white",
           "linecolor": "white",
           "ticks": "",
           "title": {
            "standoff": 15
           },
           "zerolinecolor": "white",
           "zerolinewidth": 2
          }
         }
        },
        "title": {
         "text": "3d TSNE Plot for Outliers"
        },
        "width": 900
       }
      }
     },
     "metadata": {},
     "output_type": "display_data"
    }
   ],
   "source": [
    "plot_model(svm)"
   ]
  },
  {
   "cell_type": "code",
   "execution_count": 12,
   "id": "fab28325",
   "metadata": {},
   "outputs": [
    {
     "data": {
      "text/html": [
       "<div>\n",
       "<style scoped>\n",
       "    .dataframe tbody tr th:only-of-type {\n",
       "        vertical-align: middle;\n",
       "    }\n",
       "\n",
       "    .dataframe tbody tr th {\n",
       "        vertical-align: top;\n",
       "    }\n",
       "\n",
       "    .dataframe thead th {\n",
       "        text-align: right;\n",
       "    }\n",
       "</style>\n",
       "<table border=\"1\" class=\"dataframe\">\n",
       "  <thead>\n",
       "    <tr style=\"text-align: right;\">\n",
       "      <th></th>\n",
       "      <th>Unnamed: 0</th>\n",
       "      <th>power</th>\n",
       "      <th>humidity</th>\n",
       "      <th>temperature</th>\n",
       "      <th>water_reading</th>\n",
       "      <th>co2</th>\n",
       "      <th>year</th>\n",
       "      <th>month</th>\n",
       "      <th>day</th>\n",
       "      <th>hour</th>\n",
       "      <th>Anomaly</th>\n",
       "      <th>Anomaly_Score</th>\n",
       "    </tr>\n",
       "  </thead>\n",
       "  <tbody>\n",
       "    <tr>\n",
       "      <th>0</th>\n",
       "      <td>5</td>\n",
       "      <td>21.300000</td>\n",
       "      <td>37.5</td>\n",
       "      <td>21.94</td>\n",
       "      <td>0.0</td>\n",
       "      <td>447.0</td>\n",
       "      <td>2021</td>\n",
       "      <td>11</td>\n",
       "      <td>19</td>\n",
       "      <td>18</td>\n",
       "      <td>0</td>\n",
       "      <td>9.058451</td>\n",
       "    </tr>\n",
       "    <tr>\n",
       "      <th>1</th>\n",
       "      <td>20</td>\n",
       "      <td>21.153846</td>\n",
       "      <td>31.5</td>\n",
       "      <td>20.84</td>\n",
       "      <td>0.0</td>\n",
       "      <td>418.0</td>\n",
       "      <td>2021</td>\n",
       "      <td>11</td>\n",
       "      <td>20</td>\n",
       "      <td>2</td>\n",
       "      <td>0</td>\n",
       "      <td>5.690495</td>\n",
       "    </tr>\n",
       "    <tr>\n",
       "      <th>2</th>\n",
       "      <td>52</td>\n",
       "      <td>198.500000</td>\n",
       "      <td>29.0</td>\n",
       "      <td>21.99</td>\n",
       "      <td>0.0</td>\n",
       "      <td>396.0</td>\n",
       "      <td>2021</td>\n",
       "      <td>11</td>\n",
       "      <td>20</td>\n",
       "      <td>19</td>\n",
       "      <td>0</td>\n",
       "      <td>6.193796</td>\n",
       "    </tr>\n",
       "    <tr>\n",
       "      <th>3</th>\n",
       "      <td>87</td>\n",
       "      <td>238.250000</td>\n",
       "      <td>26.0</td>\n",
       "      <td>21.93</td>\n",
       "      <td>0.0</td>\n",
       "      <td>402.0</td>\n",
       "      <td>2021</td>\n",
       "      <td>11</td>\n",
       "      <td>21</td>\n",
       "      <td>13</td>\n",
       "      <td>0</td>\n",
       "      <td>6.220499</td>\n",
       "    </tr>\n",
       "    <tr>\n",
       "      <th>4</th>\n",
       "      <td>103</td>\n",
       "      <td>212.333333</td>\n",
       "      <td>23.5</td>\n",
       "      <td>21.76</td>\n",
       "      <td>0.0</td>\n",
       "      <td>400.0</td>\n",
       "      <td>2021</td>\n",
       "      <td>11</td>\n",
       "      <td>21</td>\n",
       "      <td>22</td>\n",
       "      <td>0</td>\n",
       "      <td>9.581387</td>\n",
       "    </tr>\n",
       "  </tbody>\n",
       "</table>\n",
       "</div>"
      ],
      "text/plain": [
       "   Unnamed: 0       power  humidity  temperature  water_reading    co2  year  \\\n",
       "0           5   21.300000      37.5        21.94            0.0  447.0  2021   \n",
       "1          20   21.153846      31.5        20.84            0.0  418.0  2021   \n",
       "2          52  198.500000      29.0        21.99            0.0  396.0  2021   \n",
       "3          87  238.250000      26.0        21.93            0.0  402.0  2021   \n",
       "4         103  212.333333      23.5        21.76            0.0  400.0  2021   \n",
       "\n",
       "   month  day  hour  Anomaly  Anomaly_Score  \n",
       "0     11   19    18        0       9.058451  \n",
       "1     11   20     2        0       5.690495  \n",
       "2     11   20    19        0       6.193796  \n",
       "3     11   21    13        0       6.220499  \n",
       "4     11   21    22        0       9.581387  "
      ]
     },
     "execution_count": 12,
     "metadata": {},
     "output_type": "execute_result"
    }
   ],
   "source": [
    "unseen_predictions = predict_model(svm, data=data_unseen)\n",
    "unseen_predictions.head()"
   ]
  },
  {
   "cell_type": "code",
   "execution_count": null,
   "id": "2077cba2",
   "metadata": {},
   "outputs": [],
   "source": []
  },
  {
   "cell_type": "code",
   "execution_count": 16,
   "id": "8fe390d0",
   "metadata": {},
   "outputs": [],
   "source": [
    "iforest = create_model('iforest')"
   ]
  },
  {
   "cell_type": "code",
   "execution_count": 18,
   "id": "fe79e0f3",
   "metadata": {},
   "outputs": [
    {
     "name": "stdout",
     "output_type": "stream",
     "text": [
      "IForest(behaviour='new', bootstrap=False, contamination=0.05,\n",
      "    max_features=1.0, max_samples='auto', n_estimators=100, n_jobs=-1,\n",
      "    random_state=123, verbose=0)\n"
     ]
    }
   ],
   "source": [
    "print(iforest)"
   ]
  },
  {
   "cell_type": "code",
   "execution_count": 24,
   "id": "a83ced4c",
   "metadata": {},
   "outputs": [
    {
     "data": {
      "text/plain": [
       "2"
      ]
     },
     "execution_count": 24,
     "metadata": {},
     "output_type": "execute_result"
    }
   ],
   "source": [
    "\n",
    "iforest_results = assign_model(iforest)\n",
    "iforest_results['Anomaly'].nunique()"
   ]
  },
  {
   "cell_type": "code",
   "execution_count": 25,
   "id": "eecc52f5",
   "metadata": {},
   "outputs": [
    {
     "data": {
      "text/plain": [
       "295"
      ]
     },
     "execution_count": 25,
     "metadata": {},
     "output_type": "execute_result"
    }
   ],
   "source": [
    "iforest_results['Anomaly'].count()"
   ]
  },
  {
   "cell_type": "code",
   "execution_count": 26,
   "id": "7ffb049d",
   "metadata": {},
   "outputs": [
    {
     "data": {
      "text/plain": [
       "0    280\n",
       "1     15\n",
       "Name: Anomaly, dtype: int64"
      ]
     },
     "execution_count": 26,
     "metadata": {},
     "output_type": "execute_result"
    }
   ],
   "source": [
    "iforest_results['Anomaly'].value_counts()"
   ]
  },
  {
   "cell_type": "code",
   "execution_count": null,
   "id": "1c88b7d0",
   "metadata": {},
   "outputs": [],
   "source": []
  }
 ],
 "metadata": {
  "kernelspec": {
   "display_name": "Python 3.8.10 64-bit ('miranda': conda)",
   "language": "python",
   "name": "python3810jvsc74a57bd093015458a31746c9fc65bb26b4a077cbbfae0c420f8f2c1ca9ffaae103253a77"
  },
  "language_info": {
   "codemirror_mode": {
    "name": "ipython",
    "version": 3
   },
   "file_extension": ".py",
   "mimetype": "text/x-python",
   "name": "python",
   "nbconvert_exporter": "python",
   "pygments_lexer": "ipython3",
   "version": "3.8.10"
  }
 },
 "nbformat": 4,
 "nbformat_minor": 5
}
